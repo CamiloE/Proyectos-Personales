{
  "nbformat": 4,
  "nbformat_minor": 0,
  "metadata": {
    "colab": {
      "name": "Precios de las casas",
      "provenance": [],
      "collapsed_sections": [
        "SXMez8BuYjrM",
        "ar9TYsjtP5zA"
      ],
      "authorship_tag": "ABX9TyMUJWj2OGGQI4NpVxarUkjL",
      "include_colab_link": true
    },
    "kernelspec": {
      "name": "python3",
      "display_name": "Python 3"
    }
  },
  "cells": [
    {
      "cell_type": "markdown",
      "metadata": {
        "id": "view-in-github",
        "colab_type": "text"
      },
      "source": [
        "<a href=\"https://colab.research.google.com/github/CamiloE/Proyectos-Personales/blob/master/Precios_de_las_casas.ipynb\" target=\"_parent\"><img src=\"https://colab.research.google.com/assets/colab-badge.svg\" alt=\"Open In Colab\"/></a>"
      ]
    },
    {
      "cell_type": "markdown",
      "metadata": {
        "id": "DAgi5mPT-5F0",
        "colab_type": "text"
      },
      "source": [
        "Por medio de este dataset se va a crear un modelo en el que se logre predecir el precio de unas casas a partir de datos  tomados como el suburbio, la dirección, el número de habitaciones, de baños, el codigo postal, tamaño del terreno, area construida, la region, entre otras"
      ]
    },
    {
      "cell_type": "code",
      "metadata": {
        "id": "THGcwOY65nWd",
        "colab_type": "code",
        "colab": {
          "base_uri": "https://localhost:8080/",
          "height": 71
        },
        "outputId": "5d3abd2f-f65e-499d-8676-795820f7bdf9"
      },
      "source": [
        "#Importar librerias importantes\n",
        "import pandas as pd\n",
        "import numpy as np\n",
        "import seaborn as sns\n",
        "import matplotlib.pyplot as plt\n",
        "sns.set()"
      ],
      "execution_count": 1,
      "outputs": [
        {
          "output_type": "stream",
          "text": [
            "/usr/local/lib/python3.6/dist-packages/statsmodels/tools/_testing.py:19: FutureWarning: pandas.util.testing is deprecated. Use the functions in the public API at pandas.testing instead.\n",
            "  import pandas.util.testing as tm\n"
          ],
          "name": "stderr"
        }
      ]
    },
    {
      "cell_type": "code",
      "metadata": {
        "id": "FxcnUXBi52Za",
        "colab_type": "code",
        "colab": {
          "base_uri": "https://localhost:8080/",
          "height": 326
        },
        "outputId": "d7822838-95cd-4db8-89c0-adde5f7fb9b5"
      },
      "source": [
        "#Importar base de datos\n",
        "dataframe =  pd.read_csv(\"https://raw.githubusercontent.com/CamiloE/Proyectos-Personales/master/Melbourne_housing_FULL.csv\",sep=',')\n",
        "dataframe.head()"
      ],
      "execution_count": 2,
      "outputs": [
        {
          "output_type": "execute_result",
          "data": {
            "text/html": [
              "<div>\n",
              "<style scoped>\n",
              "    .dataframe tbody tr th:only-of-type {\n",
              "        vertical-align: middle;\n",
              "    }\n",
              "\n",
              "    .dataframe tbody tr th {\n",
              "        vertical-align: top;\n",
              "    }\n",
              "\n",
              "    .dataframe thead th {\n",
              "        text-align: right;\n",
              "    }\n",
              "</style>\n",
              "<table border=\"1\" class=\"dataframe\">\n",
              "  <thead>\n",
              "    <tr style=\"text-align: right;\">\n",
              "      <th></th>\n",
              "      <th>Suburb</th>\n",
              "      <th>Address</th>\n",
              "      <th>Rooms</th>\n",
              "      <th>Type</th>\n",
              "      <th>Price</th>\n",
              "      <th>Method</th>\n",
              "      <th>SellerG</th>\n",
              "      <th>Date</th>\n",
              "      <th>Distance</th>\n",
              "      <th>Postcode</th>\n",
              "      <th>Bedroom2</th>\n",
              "      <th>Bathroom</th>\n",
              "      <th>Car</th>\n",
              "      <th>Landsize</th>\n",
              "      <th>BuildingArea</th>\n",
              "      <th>YearBuilt</th>\n",
              "      <th>CouncilArea</th>\n",
              "      <th>Lattitude</th>\n",
              "      <th>Longtitude</th>\n",
              "      <th>Regionname</th>\n",
              "      <th>Propertycount</th>\n",
              "    </tr>\n",
              "  </thead>\n",
              "  <tbody>\n",
              "    <tr>\n",
              "      <th>0</th>\n",
              "      <td>Abbotsford</td>\n",
              "      <td>68 Studley St</td>\n",
              "      <td>2</td>\n",
              "      <td>h</td>\n",
              "      <td>NaN</td>\n",
              "      <td>SS</td>\n",
              "      <td>Jellis</td>\n",
              "      <td>3/09/2016</td>\n",
              "      <td>2.5</td>\n",
              "      <td>3067.0</td>\n",
              "      <td>2.0</td>\n",
              "      <td>1.0</td>\n",
              "      <td>1.0</td>\n",
              "      <td>126.0</td>\n",
              "      <td>NaN</td>\n",
              "      <td>NaN</td>\n",
              "      <td>Yarra City Council</td>\n",
              "      <td>-37.8014</td>\n",
              "      <td>144.9958</td>\n",
              "      <td>Northern Metropolitan</td>\n",
              "      <td>4019.0</td>\n",
              "    </tr>\n",
              "    <tr>\n",
              "      <th>1</th>\n",
              "      <td>Abbotsford</td>\n",
              "      <td>85 Turner St</td>\n",
              "      <td>2</td>\n",
              "      <td>h</td>\n",
              "      <td>1480000.0</td>\n",
              "      <td>S</td>\n",
              "      <td>Biggin</td>\n",
              "      <td>3/12/2016</td>\n",
              "      <td>2.5</td>\n",
              "      <td>3067.0</td>\n",
              "      <td>2.0</td>\n",
              "      <td>1.0</td>\n",
              "      <td>1.0</td>\n",
              "      <td>202.0</td>\n",
              "      <td>NaN</td>\n",
              "      <td>NaN</td>\n",
              "      <td>Yarra City Council</td>\n",
              "      <td>-37.7996</td>\n",
              "      <td>144.9984</td>\n",
              "      <td>Northern Metropolitan</td>\n",
              "      <td>4019.0</td>\n",
              "    </tr>\n",
              "    <tr>\n",
              "      <th>2</th>\n",
              "      <td>Abbotsford</td>\n",
              "      <td>25 Bloomburg St</td>\n",
              "      <td>2</td>\n",
              "      <td>h</td>\n",
              "      <td>1035000.0</td>\n",
              "      <td>S</td>\n",
              "      <td>Biggin</td>\n",
              "      <td>4/02/2016</td>\n",
              "      <td>2.5</td>\n",
              "      <td>3067.0</td>\n",
              "      <td>2.0</td>\n",
              "      <td>1.0</td>\n",
              "      <td>0.0</td>\n",
              "      <td>156.0</td>\n",
              "      <td>79.0</td>\n",
              "      <td>1900.0</td>\n",
              "      <td>Yarra City Council</td>\n",
              "      <td>-37.8079</td>\n",
              "      <td>144.9934</td>\n",
              "      <td>Northern Metropolitan</td>\n",
              "      <td>4019.0</td>\n",
              "    </tr>\n",
              "    <tr>\n",
              "      <th>3</th>\n",
              "      <td>Abbotsford</td>\n",
              "      <td>18/659 Victoria St</td>\n",
              "      <td>3</td>\n",
              "      <td>u</td>\n",
              "      <td>NaN</td>\n",
              "      <td>VB</td>\n",
              "      <td>Rounds</td>\n",
              "      <td>4/02/2016</td>\n",
              "      <td>2.5</td>\n",
              "      <td>3067.0</td>\n",
              "      <td>3.0</td>\n",
              "      <td>2.0</td>\n",
              "      <td>1.0</td>\n",
              "      <td>0.0</td>\n",
              "      <td>NaN</td>\n",
              "      <td>NaN</td>\n",
              "      <td>Yarra City Council</td>\n",
              "      <td>-37.8114</td>\n",
              "      <td>145.0116</td>\n",
              "      <td>Northern Metropolitan</td>\n",
              "      <td>4019.0</td>\n",
              "    </tr>\n",
              "    <tr>\n",
              "      <th>4</th>\n",
              "      <td>Abbotsford</td>\n",
              "      <td>5 Charles St</td>\n",
              "      <td>3</td>\n",
              "      <td>h</td>\n",
              "      <td>1465000.0</td>\n",
              "      <td>SP</td>\n",
              "      <td>Biggin</td>\n",
              "      <td>4/03/2017</td>\n",
              "      <td>2.5</td>\n",
              "      <td>3067.0</td>\n",
              "      <td>3.0</td>\n",
              "      <td>2.0</td>\n",
              "      <td>0.0</td>\n",
              "      <td>134.0</td>\n",
              "      <td>150.0</td>\n",
              "      <td>1900.0</td>\n",
              "      <td>Yarra City Council</td>\n",
              "      <td>-37.8093</td>\n",
              "      <td>144.9944</td>\n",
              "      <td>Northern Metropolitan</td>\n",
              "      <td>4019.0</td>\n",
              "    </tr>\n",
              "  </tbody>\n",
              "</table>\n",
              "</div>"
            ],
            "text/plain": [
              "       Suburb             Address  ...             Regionname Propertycount\n",
              "0  Abbotsford       68 Studley St  ...  Northern Metropolitan        4019.0\n",
              "1  Abbotsford        85 Turner St  ...  Northern Metropolitan        4019.0\n",
              "2  Abbotsford     25 Bloomburg St  ...  Northern Metropolitan        4019.0\n",
              "3  Abbotsford  18/659 Victoria St  ...  Northern Metropolitan        4019.0\n",
              "4  Abbotsford        5 Charles St  ...  Northern Metropolitan        4019.0\n",
              "\n",
              "[5 rows x 21 columns]"
            ]
          },
          "metadata": {
            "tags": []
          },
          "execution_count": 2
        }
      ]
    },
    {
      "cell_type": "markdown",
      "metadata": {
        "id": "CscskBm0dpUz",
        "colab_type": "text"
      },
      "source": [
        "Por intuicion, se puede ver que la latitud y longitud no son importantes para el precio."
      ]
    },
    {
      "cell_type": "code",
      "metadata": {
        "id": "CYyNbw-kAeN9",
        "colab_type": "code",
        "colab": {
          "base_uri": "https://localhost:8080/",
          "height": 323
        },
        "outputId": "c34bba2d-b206-4e5d-b216-20c567898847"
      },
      "source": [
        "dataframe.drop(columns=['Lattitude','Longtitude'],inplace=True)\n",
        "dataframe.shape"
      ],
      "execution_count": 4,
      "outputs": [
        {
          "output_type": "error",
          "ename": "KeyError",
          "evalue": "ignored",
          "traceback": [
            "\u001b[0;31m---------------------------------------------------------------------------\u001b[0m",
            "\u001b[0;31mKeyError\u001b[0m                                  Traceback (most recent call last)",
            "\u001b[0;32m<ipython-input-4-01afc98cd12f>\u001b[0m in \u001b[0;36m<module>\u001b[0;34m()\u001b[0m\n\u001b[0;32m----> 1\u001b[0;31m \u001b[0mdataframe\u001b[0m\u001b[0;34m.\u001b[0m\u001b[0mdrop\u001b[0m\u001b[0;34m(\u001b[0m\u001b[0mcolumns\u001b[0m\u001b[0;34m=\u001b[0m\u001b[0;34m[\u001b[0m\u001b[0;34m'Lattitude'\u001b[0m\u001b[0;34m,\u001b[0m\u001b[0;34m'Longtitude'\u001b[0m\u001b[0;34m]\u001b[0m\u001b[0;34m,\u001b[0m\u001b[0minplace\u001b[0m\u001b[0;34m=\u001b[0m\u001b[0;32mTrue\u001b[0m\u001b[0;34m)\u001b[0m\u001b[0;34m\u001b[0m\u001b[0;34m\u001b[0m\u001b[0m\n\u001b[0m\u001b[1;32m      2\u001b[0m \u001b[0mdataframe\u001b[0m\u001b[0;34m.\u001b[0m\u001b[0mshape\u001b[0m\u001b[0;34m\u001b[0m\u001b[0;34m\u001b[0m\u001b[0m\n",
            "\u001b[0;32m/usr/local/lib/python3.6/dist-packages/pandas/core/frame.py\u001b[0m in \u001b[0;36mdrop\u001b[0;34m(self, labels, axis, index, columns, level, inplace, errors)\u001b[0m\n\u001b[1;32m   3995\u001b[0m             \u001b[0mlevel\u001b[0m\u001b[0;34m=\u001b[0m\u001b[0mlevel\u001b[0m\u001b[0;34m,\u001b[0m\u001b[0;34m\u001b[0m\u001b[0;34m\u001b[0m\u001b[0m\n\u001b[1;32m   3996\u001b[0m             \u001b[0minplace\u001b[0m\u001b[0;34m=\u001b[0m\u001b[0minplace\u001b[0m\u001b[0;34m,\u001b[0m\u001b[0;34m\u001b[0m\u001b[0;34m\u001b[0m\u001b[0m\n\u001b[0;32m-> 3997\u001b[0;31m             \u001b[0merrors\u001b[0m\u001b[0;34m=\u001b[0m\u001b[0merrors\u001b[0m\u001b[0;34m,\u001b[0m\u001b[0;34m\u001b[0m\u001b[0;34m\u001b[0m\u001b[0m\n\u001b[0m\u001b[1;32m   3998\u001b[0m         )\n\u001b[1;32m   3999\u001b[0m \u001b[0;34m\u001b[0m\u001b[0m\n",
            "\u001b[0;32m/usr/local/lib/python3.6/dist-packages/pandas/core/generic.py\u001b[0m in \u001b[0;36mdrop\u001b[0;34m(self, labels, axis, index, columns, level, inplace, errors)\u001b[0m\n\u001b[1;32m   3934\u001b[0m         \u001b[0;32mfor\u001b[0m \u001b[0maxis\u001b[0m\u001b[0;34m,\u001b[0m \u001b[0mlabels\u001b[0m \u001b[0;32min\u001b[0m \u001b[0maxes\u001b[0m\u001b[0;34m.\u001b[0m\u001b[0mitems\u001b[0m\u001b[0;34m(\u001b[0m\u001b[0;34m)\u001b[0m\u001b[0;34m:\u001b[0m\u001b[0;34m\u001b[0m\u001b[0;34m\u001b[0m\u001b[0m\n\u001b[1;32m   3935\u001b[0m             \u001b[0;32mif\u001b[0m \u001b[0mlabels\u001b[0m \u001b[0;32mis\u001b[0m \u001b[0;32mnot\u001b[0m \u001b[0;32mNone\u001b[0m\u001b[0;34m:\u001b[0m\u001b[0;34m\u001b[0m\u001b[0;34m\u001b[0m\u001b[0m\n\u001b[0;32m-> 3936\u001b[0;31m                 \u001b[0mobj\u001b[0m \u001b[0;34m=\u001b[0m \u001b[0mobj\u001b[0m\u001b[0;34m.\u001b[0m\u001b[0m_drop_axis\u001b[0m\u001b[0;34m(\u001b[0m\u001b[0mlabels\u001b[0m\u001b[0;34m,\u001b[0m \u001b[0maxis\u001b[0m\u001b[0;34m,\u001b[0m \u001b[0mlevel\u001b[0m\u001b[0;34m=\u001b[0m\u001b[0mlevel\u001b[0m\u001b[0;34m,\u001b[0m \u001b[0merrors\u001b[0m\u001b[0;34m=\u001b[0m\u001b[0merrors\u001b[0m\u001b[0;34m)\u001b[0m\u001b[0;34m\u001b[0m\u001b[0;34m\u001b[0m\u001b[0m\n\u001b[0m\u001b[1;32m   3937\u001b[0m \u001b[0;34m\u001b[0m\u001b[0m\n\u001b[1;32m   3938\u001b[0m         \u001b[0;32mif\u001b[0m \u001b[0minplace\u001b[0m\u001b[0;34m:\u001b[0m\u001b[0;34m\u001b[0m\u001b[0;34m\u001b[0m\u001b[0m\n",
            "\u001b[0;32m/usr/local/lib/python3.6/dist-packages/pandas/core/generic.py\u001b[0m in \u001b[0;36m_drop_axis\u001b[0;34m(self, labels, axis, level, errors)\u001b[0m\n\u001b[1;32m   3968\u001b[0m                 \u001b[0mnew_axis\u001b[0m \u001b[0;34m=\u001b[0m \u001b[0maxis\u001b[0m\u001b[0;34m.\u001b[0m\u001b[0mdrop\u001b[0m\u001b[0;34m(\u001b[0m\u001b[0mlabels\u001b[0m\u001b[0;34m,\u001b[0m \u001b[0mlevel\u001b[0m\u001b[0;34m=\u001b[0m\u001b[0mlevel\u001b[0m\u001b[0;34m,\u001b[0m \u001b[0merrors\u001b[0m\u001b[0;34m=\u001b[0m\u001b[0merrors\u001b[0m\u001b[0;34m)\u001b[0m\u001b[0;34m\u001b[0m\u001b[0;34m\u001b[0m\u001b[0m\n\u001b[1;32m   3969\u001b[0m             \u001b[0;32melse\u001b[0m\u001b[0;34m:\u001b[0m\u001b[0;34m\u001b[0m\u001b[0;34m\u001b[0m\u001b[0m\n\u001b[0;32m-> 3970\u001b[0;31m                 \u001b[0mnew_axis\u001b[0m \u001b[0;34m=\u001b[0m \u001b[0maxis\u001b[0m\u001b[0;34m.\u001b[0m\u001b[0mdrop\u001b[0m\u001b[0;34m(\u001b[0m\u001b[0mlabels\u001b[0m\u001b[0;34m,\u001b[0m \u001b[0merrors\u001b[0m\u001b[0;34m=\u001b[0m\u001b[0merrors\u001b[0m\u001b[0;34m)\u001b[0m\u001b[0;34m\u001b[0m\u001b[0;34m\u001b[0m\u001b[0m\n\u001b[0m\u001b[1;32m   3971\u001b[0m             \u001b[0mresult\u001b[0m \u001b[0;34m=\u001b[0m \u001b[0mself\u001b[0m\u001b[0;34m.\u001b[0m\u001b[0mreindex\u001b[0m\u001b[0;34m(\u001b[0m\u001b[0;34m**\u001b[0m\u001b[0;34m{\u001b[0m\u001b[0maxis_name\u001b[0m\u001b[0;34m:\u001b[0m \u001b[0mnew_axis\u001b[0m\u001b[0;34m}\u001b[0m\u001b[0;34m)\u001b[0m\u001b[0;34m\u001b[0m\u001b[0;34m\u001b[0m\u001b[0m\n\u001b[1;32m   3972\u001b[0m \u001b[0;34m\u001b[0m\u001b[0m\n",
            "\u001b[0;32m/usr/local/lib/python3.6/dist-packages/pandas/core/indexes/base.py\u001b[0m in \u001b[0;36mdrop\u001b[0;34m(self, labels, errors)\u001b[0m\n\u001b[1;32m   5016\u001b[0m         \u001b[0;32mif\u001b[0m \u001b[0mmask\u001b[0m\u001b[0;34m.\u001b[0m\u001b[0many\u001b[0m\u001b[0;34m(\u001b[0m\u001b[0;34m)\u001b[0m\u001b[0;34m:\u001b[0m\u001b[0;34m\u001b[0m\u001b[0;34m\u001b[0m\u001b[0m\n\u001b[1;32m   5017\u001b[0m             \u001b[0;32mif\u001b[0m \u001b[0merrors\u001b[0m \u001b[0;34m!=\u001b[0m \u001b[0;34m\"ignore\"\u001b[0m\u001b[0;34m:\u001b[0m\u001b[0;34m\u001b[0m\u001b[0;34m\u001b[0m\u001b[0m\n\u001b[0;32m-> 5018\u001b[0;31m                 \u001b[0;32mraise\u001b[0m \u001b[0mKeyError\u001b[0m\u001b[0;34m(\u001b[0m\u001b[0;34mf\"{labels[mask]} not found in axis\"\u001b[0m\u001b[0;34m)\u001b[0m\u001b[0;34m\u001b[0m\u001b[0;34m\u001b[0m\u001b[0m\n\u001b[0m\u001b[1;32m   5019\u001b[0m             \u001b[0mindexer\u001b[0m \u001b[0;34m=\u001b[0m \u001b[0mindexer\u001b[0m\u001b[0;34m[\u001b[0m\u001b[0;34m~\u001b[0m\u001b[0mmask\u001b[0m\u001b[0;34m]\u001b[0m\u001b[0;34m\u001b[0m\u001b[0;34m\u001b[0m\u001b[0m\n\u001b[1;32m   5020\u001b[0m         \u001b[0;32mreturn\u001b[0m \u001b[0mself\u001b[0m\u001b[0;34m.\u001b[0m\u001b[0mdelete\u001b[0m\u001b[0;34m(\u001b[0m\u001b[0mindexer\u001b[0m\u001b[0;34m)\u001b[0m\u001b[0;34m\u001b[0m\u001b[0;34m\u001b[0m\u001b[0m\n",
            "\u001b[0;31mKeyError\u001b[0m: \"['Lattitude' 'Longtitude'] not found in axis\""
          ]
        }
      ]
    },
    {
      "cell_type": "code",
      "metadata": {
        "id": "y4gq17BhdwnH",
        "colab_type": "code",
        "colab": {
          "base_uri": "https://localhost:8080/",
          "height": 221
        },
        "outputId": "4d058b71-9746-4934-a8a4-48aca713b4e7"
      },
      "source": [
        "dataframe['Postcode'].value_counts()"
      ],
      "execution_count": 5,
      "outputs": [
        {
          "output_type": "execute_result",
          "data": {
            "text/plain": [
              "3073.0    844\n",
              "3046.0    638\n",
              "3020.0    617\n",
              "3121.0    612\n",
              "3165.0    583\n",
              "         ... \n",
              "3139.0      1\n",
              "3159.0      1\n",
              "3793.0      1\n",
              "3788.0      1\n",
              "3428.0      1\n",
              "Name: Postcode, Length: 211, dtype: int64"
            ]
          },
          "metadata": {
            "tags": []
          },
          "execution_count": 5
        }
      ]
    },
    {
      "cell_type": "markdown",
      "metadata": {
        "id": "VqgNC_XOAhgC",
        "colab_type": "text"
      },
      "source": [
        "Se puede ver que en el dataset hay 19 caracteristicas y 63023 muestras. \\\n",
        "Lo que hay que hacer es ver que tipo de dato es cada característica."
      ]
    },
    {
      "cell_type": "code",
      "metadata": {
        "id": "QnIq6ttn52Ui",
        "colab_type": "code",
        "colab": {
          "base_uri": "https://localhost:8080/",
          "height": 357
        },
        "outputId": "31cc0c3d-e42e-4127-8713-caed81f3f62e"
      },
      "source": [
        "dataframe.dtypes"
      ],
      "execution_count": 6,
      "outputs": [
        {
          "output_type": "execute_result",
          "data": {
            "text/plain": [
              "Suburb            object\n",
              "Address           object\n",
              "Rooms              int64\n",
              "Type              object\n",
              "Price            float64\n",
              "Method            object\n",
              "SellerG           object\n",
              "Date              object\n",
              "Distance         float64\n",
              "Postcode         float64\n",
              "Bedroom2         float64\n",
              "Bathroom         float64\n",
              "Car              float64\n",
              "Landsize         float64\n",
              "BuildingArea     float64\n",
              "YearBuilt        float64\n",
              "CouncilArea       object\n",
              "Regionname        object\n",
              "Propertycount    float64\n",
              "dtype: object"
            ]
          },
          "metadata": {
            "tags": []
          },
          "execution_count": 6
        }
      ]
    },
    {
      "cell_type": "markdown",
      "metadata": {
        "id": "HzjB_sDqeCiO",
        "colab_type": "text"
      },
      "source": [
        "Lo mejor es convertir el codigo postal a variable categorica"
      ]
    },
    {
      "cell_type": "code",
      "metadata": {
        "id": "bs7s4lDxeKUC",
        "colab_type": "code",
        "colab": {}
      },
      "source": [
        "dataframe['Postcode']=dataframe['Postcode'].astype('category')"
      ],
      "execution_count": 7,
      "outputs": []
    },
    {
      "cell_type": "markdown",
      "metadata": {
        "id": "jwp9FTDgxeWF",
        "colab_type": "text"
      },
      "source": [
        "Se puede ver qu existen 8 características categoricas y el resto son numéricas. \n",
        "Las caracteristicas son las siguientes:\n",
        "- Suburb: Suburbio o Barrio donde esta la casa\n",
        "- Address: Dirección \n",
        "- Rooms: El numero de habitaciones\n",
        "- Type: El tipo de vivienda donde 'h' corresponde a casas, cabañas, 'u' es casas tipounit y 't' se refiere a viviendas adosadas.\n",
        "- SellerG: Agencia de Ventas\n",
        "- Date: fecha de la venta\n",
        "- Distance: Distancia en km desde la casa hasta el centro de Melbourne\n",
        "- Regionname: Region donde se encuentra ubicada.\n",
        "- Propertycount: Numero de propiedades en el suburbio\n",
        "- Bedroom 2: Caracteristica relacionada al numero de habitaciones. \n",
        "- Bathroom: El numero de baños \n",
        "- Car: Numero de espacios para estacionar el carro\n",
        "- Landsize: Corresponde al area de la propiedad en metros que no esta construida \n",
        "- Building Area: Area Construida en metros \n",
        "- Price: Precio en dolares australianos\n",
        "- YearBuilt: Año en que se construyo la casa\n",
        "- CouncilArea: Consejo de gobierno de la zona\n",
        "- Method: Metodo con el que se adquirio la casa. \n",
        "S - propiedad vendida;\n",
        "SP - propiedad vendida anteriormente;\n",
        "PI: propiedad transferida;\n",
        "PN - vendido antes no revelado;\n",
        "SN - vendido no revelado;\n",
        "NB: sin oferta;\n",
        "VB: oferta del proveedor;\n",
        "W - retirado antes de la subasta;\n",
        "SA - vendido después de la subasta;\n",
        "SS - vendido después del precio de la subasta no revelado.\n",
        "N / A: el precio o la oferta más alta no están disponibles."
      ]
    },
    {
      "cell_type": "code",
      "metadata": {
        "id": "8dRHnFAseb8G",
        "colab_type": "code",
        "colab": {
          "base_uri": "https://localhost:8080/",
          "height": 230
        },
        "outputId": "580e6773-3a9d-4720-8570-8273da2867c6"
      },
      "source": [
        "dataframe.head(3)"
      ],
      "execution_count": 8,
      "outputs": [
        {
          "output_type": "execute_result",
          "data": {
            "text/html": [
              "<div>\n",
              "<style scoped>\n",
              "    .dataframe tbody tr th:only-of-type {\n",
              "        vertical-align: middle;\n",
              "    }\n",
              "\n",
              "    .dataframe tbody tr th {\n",
              "        vertical-align: top;\n",
              "    }\n",
              "\n",
              "    .dataframe thead th {\n",
              "        text-align: right;\n",
              "    }\n",
              "</style>\n",
              "<table border=\"1\" class=\"dataframe\">\n",
              "  <thead>\n",
              "    <tr style=\"text-align: right;\">\n",
              "      <th></th>\n",
              "      <th>Suburb</th>\n",
              "      <th>Address</th>\n",
              "      <th>Rooms</th>\n",
              "      <th>Type</th>\n",
              "      <th>Price</th>\n",
              "      <th>Method</th>\n",
              "      <th>SellerG</th>\n",
              "      <th>Date</th>\n",
              "      <th>Distance</th>\n",
              "      <th>Postcode</th>\n",
              "      <th>Bedroom2</th>\n",
              "      <th>Bathroom</th>\n",
              "      <th>Car</th>\n",
              "      <th>Landsize</th>\n",
              "      <th>BuildingArea</th>\n",
              "      <th>YearBuilt</th>\n",
              "      <th>CouncilArea</th>\n",
              "      <th>Regionname</th>\n",
              "      <th>Propertycount</th>\n",
              "    </tr>\n",
              "  </thead>\n",
              "  <tbody>\n",
              "    <tr>\n",
              "      <th>0</th>\n",
              "      <td>Abbotsford</td>\n",
              "      <td>68 Studley St</td>\n",
              "      <td>2</td>\n",
              "      <td>h</td>\n",
              "      <td>NaN</td>\n",
              "      <td>SS</td>\n",
              "      <td>Jellis</td>\n",
              "      <td>3/09/2016</td>\n",
              "      <td>2.5</td>\n",
              "      <td>3067.0</td>\n",
              "      <td>2.0</td>\n",
              "      <td>1.0</td>\n",
              "      <td>1.0</td>\n",
              "      <td>126.0</td>\n",
              "      <td>NaN</td>\n",
              "      <td>NaN</td>\n",
              "      <td>Yarra City Council</td>\n",
              "      <td>Northern Metropolitan</td>\n",
              "      <td>4019.0</td>\n",
              "    </tr>\n",
              "    <tr>\n",
              "      <th>1</th>\n",
              "      <td>Abbotsford</td>\n",
              "      <td>85 Turner St</td>\n",
              "      <td>2</td>\n",
              "      <td>h</td>\n",
              "      <td>1480000.0</td>\n",
              "      <td>S</td>\n",
              "      <td>Biggin</td>\n",
              "      <td>3/12/2016</td>\n",
              "      <td>2.5</td>\n",
              "      <td>3067.0</td>\n",
              "      <td>2.0</td>\n",
              "      <td>1.0</td>\n",
              "      <td>1.0</td>\n",
              "      <td>202.0</td>\n",
              "      <td>NaN</td>\n",
              "      <td>NaN</td>\n",
              "      <td>Yarra City Council</td>\n",
              "      <td>Northern Metropolitan</td>\n",
              "      <td>4019.0</td>\n",
              "    </tr>\n",
              "    <tr>\n",
              "      <th>2</th>\n",
              "      <td>Abbotsford</td>\n",
              "      <td>25 Bloomburg St</td>\n",
              "      <td>2</td>\n",
              "      <td>h</td>\n",
              "      <td>1035000.0</td>\n",
              "      <td>S</td>\n",
              "      <td>Biggin</td>\n",
              "      <td>4/02/2016</td>\n",
              "      <td>2.5</td>\n",
              "      <td>3067.0</td>\n",
              "      <td>2.0</td>\n",
              "      <td>1.0</td>\n",
              "      <td>0.0</td>\n",
              "      <td>156.0</td>\n",
              "      <td>79.0</td>\n",
              "      <td>1900.0</td>\n",
              "      <td>Yarra City Council</td>\n",
              "      <td>Northern Metropolitan</td>\n",
              "      <td>4019.0</td>\n",
              "    </tr>\n",
              "  </tbody>\n",
              "</table>\n",
              "</div>"
            ],
            "text/plain": [
              "       Suburb          Address  ...             Regionname Propertycount\n",
              "0  Abbotsford    68 Studley St  ...  Northern Metropolitan        4019.0\n",
              "1  Abbotsford     85 Turner St  ...  Northern Metropolitan        4019.0\n",
              "2  Abbotsford  25 Bloomburg St  ...  Northern Metropolitan        4019.0\n",
              "\n",
              "[3 rows x 19 columns]"
            ]
          },
          "metadata": {
            "tags": []
          },
          "execution_count": 8
        }
      ]
    },
    {
      "cell_type": "markdown",
      "metadata": {
        "id": "O7PHSOyRBK3w",
        "colab_type": "text"
      },
      "source": [
        "Lo siguente es mirar si se encuentran valores nulos en las columnas"
      ]
    },
    {
      "cell_type": "code",
      "metadata": {
        "id": "7cFxSPiYBfsJ",
        "colab_type": "code",
        "colab": {
          "base_uri": "https://localhost:8080/",
          "height": 357
        },
        "outputId": "76a8c4b6-3562-4920-b910-231afb9478b8"
      },
      "source": [
        "dataframe.isnull().any()"
      ],
      "execution_count": null,
      "outputs": [
        {
          "output_type": "execute_result",
          "data": {
            "text/plain": [
              "Suburb           False\n",
              "Address          False\n",
              "Rooms            False\n",
              "Type             False\n",
              "Price             True\n",
              "Method           False\n",
              "SellerG          False\n",
              "Date             False\n",
              "Distance          True\n",
              "Postcode          True\n",
              "Bedroom2          True\n",
              "Bathroom          True\n",
              "Car               True\n",
              "Landsize          True\n",
              "BuildingArea      True\n",
              "YearBuilt         True\n",
              "CouncilArea       True\n",
              "Regionname        True\n",
              "Propertycount     True\n",
              "dtype: bool"
            ]
          },
          "metadata": {
            "tags": []
          },
          "execution_count": 8
        }
      ]
    },
    {
      "cell_type": "markdown",
      "metadata": {
        "id": "pHnOkLmZEB6f",
        "colab_type": "text"
      },
      "source": [
        "Como se sabe que hay valores nulos en algunas columnas con valores nulos, lo que sigue es mirar cuantos hay en cada columna para poder proceder con la estrategia."
      ]
    },
    {
      "cell_type": "code",
      "metadata": {
        "id": "TUKYPC13D3im",
        "colab_type": "code",
        "colab": {
          "base_uri": "https://localhost:8080/",
          "height": 357
        },
        "outputId": "ffd726ad-0ece-4510-8a8f-13414cb4f097"
      },
      "source": [
        "dataframe.isna().sum()"
      ],
      "execution_count": 9,
      "outputs": [
        {
          "output_type": "execute_result",
          "data": {
            "text/plain": [
              "Suburb               0\n",
              "Address              0\n",
              "Rooms                0\n",
              "Type                 0\n",
              "Price             7610\n",
              "Method               0\n",
              "SellerG              0\n",
              "Date                 0\n",
              "Distance             1\n",
              "Postcode             1\n",
              "Bedroom2          8217\n",
              "Bathroom          8226\n",
              "Car               8728\n",
              "Landsize         11810\n",
              "BuildingArea     21115\n",
              "YearBuilt        19306\n",
              "CouncilArea          3\n",
              "Regionname           3\n",
              "Propertycount        3\n",
              "dtype: int64"
            ]
          },
          "metadata": {
            "tags": []
          },
          "execution_count": 9
        }
      ]
    },
    {
      "cell_type": "markdown",
      "metadata": {
        "id": "J81dqGt9I60z",
        "colab_type": "text"
      },
      "source": [
        "Se puede ver que hay varias columnas con valores nulos, se destaca que en la columna del area construida mas de la mitad de los datos son nulos pero como esta caracteristica influye entonces no se puede eliminar la columna. Entonces lo mejor es eliminarle las filas con valores nulos."
      ]
    },
    {
      "cell_type": "code",
      "metadata": {
        "id": "53WT7ZwdEZWC",
        "colab_type": "code",
        "colab": {
          "base_uri": "https://localhost:8080/",
          "height": 357
        },
        "outputId": "5ed62933-55d6-4856-c5fd-70e1c37620c0"
      },
      "source": [
        "dataframe.dropna(axis='index',subset=['BuildingArea'],inplace=True)\n",
        "dataframe.isnull().sum()"
      ],
      "execution_count": 10,
      "outputs": [
        {
          "output_type": "execute_result",
          "data": {
            "text/plain": [
              "Suburb              0\n",
              "Address             0\n",
              "Rooms               0\n",
              "Type                0\n",
              "Price            3086\n",
              "Method              0\n",
              "SellerG             0\n",
              "Date                0\n",
              "Distance            0\n",
              "Postcode            0\n",
              "Bedroom2            0\n",
              "Bathroom            0\n",
              "Car               232\n",
              "Landsize         1602\n",
              "BuildingArea        0\n",
              "YearBuilt         504\n",
              "CouncilArea         0\n",
              "Regionname          0\n",
              "Propertycount       0\n",
              "dtype: int64"
            ]
          },
          "metadata": {
            "tags": []
          },
          "execution_count": 10
        }
      ]
    },
    {
      "cell_type": "code",
      "metadata": {
        "id": "XA9dtVOFFPfx",
        "colab_type": "code",
        "colab": {
          "base_uri": "https://localhost:8080/",
          "height": 34
        },
        "outputId": "479d40d9-950b-43e7-f4d6-5cca232a9da0"
      },
      "source": [
        "dataframe.shape#Cantidad de datos y caracteristicas despues de  eliminar las muestras con valores nulos de la columna del areaconstruida"
      ],
      "execution_count": 11,
      "outputs": [
        {
          "output_type": "execute_result",
          "data": {
            "text/plain": [
              "(13742, 19)"
            ]
          },
          "metadata": {
            "tags": []
          },
          "execution_count": 11
        }
      ]
    },
    {
      "cell_type": "code",
      "metadata": {
        "id": "trwPGXiUpJQc",
        "colab_type": "code",
        "colab": {
          "base_uri": "https://localhost:8080/",
          "height": 359
        },
        "outputId": "4380cf29-aec0-43a7-e8e7-27a0b5f1267f"
      },
      "source": [
        "dataframe.describe().T"
      ],
      "execution_count": 13,
      "outputs": [
        {
          "output_type": "execute_result",
          "data": {
            "text/html": [
              "<div>\n",
              "<style scoped>\n",
              "    .dataframe tbody tr th:only-of-type {\n",
              "        vertical-align: middle;\n",
              "    }\n",
              "\n",
              "    .dataframe tbody tr th {\n",
              "        vertical-align: top;\n",
              "    }\n",
              "\n",
              "    .dataframe thead th {\n",
              "        text-align: right;\n",
              "    }\n",
              "</style>\n",
              "<table border=\"1\" class=\"dataframe\">\n",
              "  <thead>\n",
              "    <tr style=\"text-align: right;\">\n",
              "      <th></th>\n",
              "      <th>count</th>\n",
              "      <th>mean</th>\n",
              "      <th>std</th>\n",
              "      <th>min</th>\n",
              "      <th>25%</th>\n",
              "      <th>50%</th>\n",
              "      <th>75%</th>\n",
              "      <th>max</th>\n",
              "    </tr>\n",
              "  </thead>\n",
              "  <tbody>\n",
              "    <tr>\n",
              "      <th>Rooms</th>\n",
              "      <td>13742.0</td>\n",
              "      <td>3.148377e+00</td>\n",
              "      <td>0.973653</td>\n",
              "      <td>1.0</td>\n",
              "      <td>3.0</td>\n",
              "      <td>3.0</td>\n",
              "      <td>4.0</td>\n",
              "      <td>12.0</td>\n",
              "    </tr>\n",
              "    <tr>\n",
              "      <th>Price</th>\n",
              "      <td>10656.0</td>\n",
              "      <td>1.087051e+06</td>\n",
              "      <td>677176.114541</td>\n",
              "      <td>131000.0</td>\n",
              "      <td>640000.0</td>\n",
              "      <td>892500.0</td>\n",
              "      <td>1330000.0</td>\n",
              "      <td>9000000.0</td>\n",
              "    </tr>\n",
              "    <tr>\n",
              "      <th>Distance</th>\n",
              "      <td>13742.0</td>\n",
              "      <td>1.135528e+01</td>\n",
              "      <td>7.100975</td>\n",
              "      <td>0.0</td>\n",
              "      <td>6.4</td>\n",
              "      <td>10.2</td>\n",
              "      <td>14.2</td>\n",
              "      <td>48.1</td>\n",
              "    </tr>\n",
              "    <tr>\n",
              "      <th>Bedroom2</th>\n",
              "      <td>13742.0</td>\n",
              "      <td>3.126255e+00</td>\n",
              "      <td>0.975127</td>\n",
              "      <td>0.0</td>\n",
              "      <td>3.0</td>\n",
              "      <td>3.0</td>\n",
              "      <td>4.0</td>\n",
              "      <td>12.0</td>\n",
              "    </tr>\n",
              "    <tr>\n",
              "      <th>Bathroom</th>\n",
              "      <td>13742.0</td>\n",
              "      <td>1.691239e+00</td>\n",
              "      <td>0.737851</td>\n",
              "      <td>1.0</td>\n",
              "      <td>1.0</td>\n",
              "      <td>2.0</td>\n",
              "      <td>2.0</td>\n",
              "      <td>9.0</td>\n",
              "    </tr>\n",
              "    <tr>\n",
              "      <th>Car</th>\n",
              "      <td>13510.0</td>\n",
              "      <td>1.723168e+00</td>\n",
              "      <td>1.007877</td>\n",
              "      <td>0.0</td>\n",
              "      <td>1.0</td>\n",
              "      <td>2.0</td>\n",
              "      <td>2.0</td>\n",
              "      <td>26.0</td>\n",
              "    </tr>\n",
              "    <tr>\n",
              "      <th>Landsize</th>\n",
              "      <td>12140.0</td>\n",
              "      <td>5.307829e+02</td>\n",
              "      <td>1135.598029</td>\n",
              "      <td>0.0</td>\n",
              "      <td>212.0</td>\n",
              "      <td>479.0</td>\n",
              "      <td>656.0</td>\n",
              "      <td>44500.0</td>\n",
              "    </tr>\n",
              "    <tr>\n",
              "      <th>BuildingArea</th>\n",
              "      <td>13742.0</td>\n",
              "      <td>1.602564e+02</td>\n",
              "      <td>401.267060</td>\n",
              "      <td>0.0</td>\n",
              "      <td>102.0</td>\n",
              "      <td>136.0</td>\n",
              "      <td>188.0</td>\n",
              "      <td>44515.0</td>\n",
              "    </tr>\n",
              "    <tr>\n",
              "      <th>YearBuilt</th>\n",
              "      <td>13238.0</td>\n",
              "      <td>1.965004e+03</td>\n",
              "      <td>37.849163</td>\n",
              "      <td>1196.0</td>\n",
              "      <td>1940.0</td>\n",
              "      <td>1970.0</td>\n",
              "      <td>2000.0</td>\n",
              "      <td>2106.0</td>\n",
              "    </tr>\n",
              "    <tr>\n",
              "      <th>Propertycount</th>\n",
              "      <td>13742.0</td>\n",
              "      <td>7.485790e+03</td>\n",
              "      <td>4314.543625</td>\n",
              "      <td>129.0</td>\n",
              "      <td>4387.0</td>\n",
              "      <td>6567.0</td>\n",
              "      <td>10331.0</td>\n",
              "      <td>21650.0</td>\n",
              "    </tr>\n",
              "  </tbody>\n",
              "</table>\n",
              "</div>"
            ],
            "text/plain": [
              "                 count          mean  ...        75%        max\n",
              "Rooms          13742.0  3.148377e+00  ...        4.0       12.0\n",
              "Price          10656.0  1.087051e+06  ...  1330000.0  9000000.0\n",
              "Distance       13742.0  1.135528e+01  ...       14.2       48.1\n",
              "Bedroom2       13742.0  3.126255e+00  ...        4.0       12.0\n",
              "Bathroom       13742.0  1.691239e+00  ...        2.0        9.0\n",
              "Car            13510.0  1.723168e+00  ...        2.0       26.0\n",
              "Landsize       12140.0  5.307829e+02  ...      656.0    44500.0\n",
              "BuildingArea   13742.0  1.602564e+02  ...      188.0    44515.0\n",
              "YearBuilt      13238.0  1.965004e+03  ...     2000.0     2106.0\n",
              "Propertycount  13742.0  7.485790e+03  ...    10331.0    21650.0\n",
              "\n",
              "[10 rows x 8 columns]"
            ]
          },
          "metadata": {
            "tags": []
          },
          "execution_count": 13
        }
      ]
    },
    {
      "cell_type": "markdown",
      "metadata": {
        "id": "l02-M3F95AWX",
        "colab_type": "text"
      },
      "source": [
        "Con la descripcion de las columnas se ve que hay muestras que tienen areas construidas equivalentes a 0 lo cual no tiene sentido y por eso se eliminaran. Se realiza un boxplot para conocer la distribucion de estos valores."
      ]
    },
    {
      "cell_type": "code",
      "metadata": {
        "id": "Fcm0Sp2KBbOC",
        "colab_type": "code",
        "colab": {
          "base_uri": "https://localhost:8080/",
          "height": 265
        },
        "outputId": "d06e866f-0df9-49d6-c9f3-593894ab6a79"
      },
      "source": [
        "sns.boxplot(x=None,data=dataframe,y='BuildingArea')"
      ],
      "execution_count": 14,
      "outputs": [
        {
          "output_type": "execute_result",
          "data": {
            "text/plain": [
              "<matplotlib.axes._subplots.AxesSubplot at 0x7ff0ab24b6d8>"
            ]
          },
          "metadata": {
            "tags": []
          },
          "execution_count": 14
        },
        {
          "output_type": "display_data",
          "data": {
            "image/png": "[encoded data removed]",
            "text/plain": [
              "<Figure size 432x288 with 1 Axes>"
            ]
          },
          "metadata": {
            "tags": [],
            "needs_background": "light"
          }
        }
      ]
    },
    {
      "cell_type": "markdown",
      "metadata": {
        "id": "P5isO0t5CcHi",
        "colab_type": "text"
      },
      "source": [
        "Se puede ver que hay una muestra de un area construida que es demasiado grande y no tiene sentido. Entonces para no dañar nuestro modelo, lo mejor sera eliminarla."
      ]
    },
    {
      "cell_type": "code",
      "metadata": {
        "id": "_5d-nXJZCFti",
        "colab_type": "code",
        "colab": {
          "base_uri": "https://localhost:8080/",
          "height": 326
        },
        "outputId": "91749d7f-c30d-4ddf-cae9-03a48cd7c9a0"
      },
      "source": [
        "dataframe.reset_index(drop=True,inplace=True)\n",
        "dataframe.head()"
      ],
      "execution_count": 15,
      "outputs": [
        {
          "output_type": "execute_result",
          "data": {
            "text/html": [
              "<div>\n",
              "<style scoped>\n",
              "    .dataframe tbody tr th:only-of-type {\n",
              "        vertical-align: middle;\n",
              "    }\n",
              "\n",
              "    .dataframe tbody tr th {\n",
              "        vertical-align: top;\n",
              "    }\n",
              "\n",
              "    .dataframe thead th {\n",
              "        text-align: right;\n",
              "    }\n",
              "</style>\n",
              "<table border=\"1\" class=\"dataframe\">\n",
              "  <thead>\n",
              "    <tr style=\"text-align: right;\">\n",
              "      <th></th>\n",
              "      <th>Suburb</th>\n",
              "      <th>Address</th>\n",
              "      <th>Rooms</th>\n",
              "      <th>Type</th>\n",
              "      <th>Price</th>\n",
              "      <th>Method</th>\n",
              "      <th>SellerG</th>\n",
              "      <th>Date</th>\n",
              "      <th>Distance</th>\n",
              "      <th>Postcode</th>\n",
              "      <th>Bedroom2</th>\n",
              "      <th>Bathroom</th>\n",
              "      <th>Car</th>\n",
              "      <th>Landsize</th>\n",
              "      <th>BuildingArea</th>\n",
              "      <th>YearBuilt</th>\n",
              "      <th>CouncilArea</th>\n",
              "      <th>Regionname</th>\n",
              "      <th>Propertycount</th>\n",
              "    </tr>\n",
              "  </thead>\n",
              "  <tbody>\n",
              "    <tr>\n",
              "      <th>0</th>\n",
              "      <td>Abbotsford</td>\n",
              "      <td>25 Bloomburg St</td>\n",
              "      <td>2</td>\n",
              "      <td>h</td>\n",
              "      <td>1035000.0</td>\n",
              "      <td>S</td>\n",
              "      <td>Biggin</td>\n",
              "      <td>4/02/2016</td>\n",
              "      <td>2.5</td>\n",
              "      <td>3067.0</td>\n",
              "      <td>2.0</td>\n",
              "      <td>1.0</td>\n",
              "      <td>0.0</td>\n",
              "      <td>156.0</td>\n",
              "      <td>79.0</td>\n",
              "      <td>1900.0</td>\n",
              "      <td>Yarra City Council</td>\n",
              "      <td>Northern Metropolitan</td>\n",
              "      <td>4019.0</td>\n",
              "    </tr>\n",
              "    <tr>\n",
              "      <th>1</th>\n",
              "      <td>Abbotsford</td>\n",
              "      <td>5 Charles St</td>\n",
              "      <td>3</td>\n",
              "      <td>h</td>\n",
              "      <td>1465000.0</td>\n",
              "      <td>SP</td>\n",
              "      <td>Biggin</td>\n",
              "      <td>4/03/2017</td>\n",
              "      <td>2.5</td>\n",
              "      <td>3067.0</td>\n",
              "      <td>3.0</td>\n",
              "      <td>2.0</td>\n",
              "      <td>0.0</td>\n",
              "      <td>134.0</td>\n",
              "      <td>150.0</td>\n",
              "      <td>1900.0</td>\n",
              "      <td>Yarra City Council</td>\n",
              "      <td>Northern Metropolitan</td>\n",
              "      <td>4019.0</td>\n",
              "    </tr>\n",
              "    <tr>\n",
              "      <th>2</th>\n",
              "      <td>Abbotsford</td>\n",
              "      <td>55a Park St</td>\n",
              "      <td>4</td>\n",
              "      <td>h</td>\n",
              "      <td>1600000.0</td>\n",
              "      <td>VB</td>\n",
              "      <td>Nelson</td>\n",
              "      <td>4/06/2016</td>\n",
              "      <td>2.5</td>\n",
              "      <td>3067.0</td>\n",
              "      <td>3.0</td>\n",
              "      <td>1.0</td>\n",
              "      <td>2.0</td>\n",
              "      <td>120.0</td>\n",
              "      <td>142.0</td>\n",
              "      <td>2014.0</td>\n",
              "      <td>Yarra City Council</td>\n",
              "      <td>Northern Metropolitan</td>\n",
              "      <td>4019.0</td>\n",
              "    </tr>\n",
              "    <tr>\n",
              "      <th>3</th>\n",
              "      <td>Abbotsford</td>\n",
              "      <td>16 Maugie St</td>\n",
              "      <td>4</td>\n",
              "      <td>h</td>\n",
              "      <td>NaN</td>\n",
              "      <td>SN</td>\n",
              "      <td>Nelson</td>\n",
              "      <td>6/08/2016</td>\n",
              "      <td>2.5</td>\n",
              "      <td>3067.0</td>\n",
              "      <td>3.0</td>\n",
              "      <td>2.0</td>\n",
              "      <td>2.0</td>\n",
              "      <td>400.0</td>\n",
              "      <td>220.0</td>\n",
              "      <td>2006.0</td>\n",
              "      <td>Yarra City Council</td>\n",
              "      <td>Northern Metropolitan</td>\n",
              "      <td>4019.0</td>\n",
              "    </tr>\n",
              "    <tr>\n",
              "      <th>4</th>\n",
              "      <td>Abbotsford</td>\n",
              "      <td>124 Yarra St</td>\n",
              "      <td>3</td>\n",
              "      <td>h</td>\n",
              "      <td>1876000.0</td>\n",
              "      <td>S</td>\n",
              "      <td>Nelson</td>\n",
              "      <td>7/05/2016</td>\n",
              "      <td>2.5</td>\n",
              "      <td>3067.0</td>\n",
              "      <td>4.0</td>\n",
              "      <td>2.0</td>\n",
              "      <td>0.0</td>\n",
              "      <td>245.0</td>\n",
              "      <td>210.0</td>\n",
              "      <td>1910.0</td>\n",
              "      <td>Yarra City Council</td>\n",
              "      <td>Northern Metropolitan</td>\n",
              "      <td>4019.0</td>\n",
              "    </tr>\n",
              "  </tbody>\n",
              "</table>\n",
              "</div>"
            ],
            "text/plain": [
              "       Suburb          Address  ...             Regionname Propertycount\n",
              "0  Abbotsford  25 Bloomburg St  ...  Northern Metropolitan        4019.0\n",
              "1  Abbotsford     5 Charles St  ...  Northern Metropolitan        4019.0\n",
              "2  Abbotsford      55a Park St  ...  Northern Metropolitan        4019.0\n",
              "3  Abbotsford     16 Maugie St  ...  Northern Metropolitan        4019.0\n",
              "4  Abbotsford     124 Yarra St  ...  Northern Metropolitan        4019.0\n",
              "\n",
              "[5 rows x 19 columns]"
            ]
          },
          "metadata": {
            "tags": []
          },
          "execution_count": 15
        }
      ]
    },
    {
      "cell_type": "code",
      "metadata": {
        "id": "7WZectOgCpoG",
        "colab_type": "code",
        "colab": {
          "base_uri": "https://localhost:8080/",
          "height": 134
        },
        "outputId": "76639664-70a4-438e-f8ac-892d5ab66342"
      },
      "source": [
        "dataframe.loc[dataframe.BuildingArea>40000]"
      ],
      "execution_count": 16,
      "outputs": [
        {
          "output_type": "execute_result",
          "data": {
            "text/html": [
              "<div>\n",
              "<style scoped>\n",
              "    .dataframe tbody tr th:only-of-type {\n",
              "        vertical-align: middle;\n",
              "    }\n",
              "\n",
              "    .dataframe tbody tr th {\n",
              "        vertical-align: top;\n",
              "    }\n",
              "\n",
              "    .dataframe thead th {\n",
              "        text-align: right;\n",
              "    }\n",
              "</style>\n",
              "<table border=\"1\" class=\"dataframe\">\n",
              "  <thead>\n",
              "    <tr style=\"text-align: right;\">\n",
              "      <th></th>\n",
              "      <th>Suburb</th>\n",
              "      <th>Address</th>\n",
              "      <th>Rooms</th>\n",
              "      <th>Type</th>\n",
              "      <th>Price</th>\n",
              "      <th>Method</th>\n",
              "      <th>SellerG</th>\n",
              "      <th>Date</th>\n",
              "      <th>Distance</th>\n",
              "      <th>Postcode</th>\n",
              "      <th>Bedroom2</th>\n",
              "      <th>Bathroom</th>\n",
              "      <th>Car</th>\n",
              "      <th>Landsize</th>\n",
              "      <th>BuildingArea</th>\n",
              "      <th>YearBuilt</th>\n",
              "      <th>CouncilArea</th>\n",
              "      <th>Regionname</th>\n",
              "      <th>Propertycount</th>\n",
              "    </tr>\n",
              "  </thead>\n",
              "  <tbody>\n",
              "    <tr>\n",
              "      <th>9588</th>\n",
              "      <td>New Gisborne</td>\n",
              "      <td>71 Hamilton Rd</td>\n",
              "      <td>5</td>\n",
              "      <td>h</td>\n",
              "      <td>1355000.0</td>\n",
              "      <td>S</td>\n",
              "      <td>Raine</td>\n",
              "      <td>23/09/2017</td>\n",
              "      <td>48.1</td>\n",
              "      <td>3438.0</td>\n",
              "      <td>5.0</td>\n",
              "      <td>3.0</td>\n",
              "      <td>5.0</td>\n",
              "      <td>44500.0</td>\n",
              "      <td>44515.0</td>\n",
              "      <td>NaN</td>\n",
              "      <td>Macedon Ranges Shire Council</td>\n",
              "      <td>Northern Victoria</td>\n",
              "      <td>849.0</td>\n",
              "    </tr>\n",
              "  </tbody>\n",
              "</table>\n",
              "</div>"
            ],
            "text/plain": [
              "            Suburb         Address  ...         Regionname Propertycount\n",
              "9588  New Gisborne  71 Hamilton Rd  ...  Northern Victoria         849.0\n",
              "\n",
              "[1 rows x 19 columns]"
            ]
          },
          "metadata": {
            "tags": []
          },
          "execution_count": 16
        }
      ]
    },
    {
      "cell_type": "code",
      "metadata": {
        "id": "86x67nMzC5Bt",
        "colab_type": "code",
        "colab": {
          "base_uri": "https://localhost:8080/",
          "height": 266
        },
        "outputId": "058e25fa-ef4b-4df2-c631-f583b9eef0de"
      },
      "source": [
        "dataframe.drop(labels=[9588],inplace=True,axis='index')\n",
        "sns.boxplot(x=None,data=dataframe,y='BuildingArea')"
      ],
      "execution_count": 17,
      "outputs": [
        {
          "output_type": "execute_result",
          "data": {
            "text/plain": [
              "<matplotlib.axes._subplots.AxesSubplot at 0x7ff0ab1d7860>"
            ]
          },
          "metadata": {
            "tags": []
          },
          "execution_count": 17
        },
        {
          "output_type": "display_data",
          "data": {
            "image/png": "[encoded data removed]",
            "text/plain": [
              "<Figure size 432x288 with 1 Axes>"
            ]
          },
          "metadata": {
            "tags": [],
            "needs_background": "light"
          }
        }
      ]
    },
    {
      "cell_type": "code",
      "metadata": {
        "id": "PLkZA-JvfNKP",
        "colab_type": "code",
        "colab": {
          "base_uri": "https://localhost:8080/",
          "height": 537
        },
        "outputId": "43eeb715-05c1-4d82-f5a6-f313aadacb9a"
      },
      "source": [
        "plt.figure(figsize=(12,9))\n",
        "sns.boxplot(x=None,data=dataframe,y='BuildingArea')"
      ],
      "execution_count": null,
      "outputs": [
        {
          "output_type": "execute_result",
          "data": {
            "text/plain": [
              "<matplotlib.axes._subplots.AxesSubplot at 0x7f1986d0e630>"
            ]
          },
          "metadata": {
            "tags": []
          },
          "execution_count": 17
        },
        {
          "output_type": "display_data",
          "data": {
            "image/png": "[encoded data removed]",
            "text/plain": [
              "<Figure size 864x648 with 1 Axes>"
            ]
          },
          "metadata": {
            "tags": [],
            "needs_background": "light"
          }
        }
      ]
    },
    {
      "cell_type": "code",
      "metadata": {
        "id": "gn7LOyCafbC9",
        "colab_type": "code",
        "colab": {
          "base_uri": "https://localhost:8080/",
          "height": 713
        },
        "outputId": "16ad125c-6977-4025-cdcf-4f0a83b6defe"
      },
      "source": [
        "dataframe.loc[dataframe.BuildingArea>1000]"
      ],
      "execution_count": 18,
      "outputs": [
        {
          "output_type": "execute_result",
          "data": {
            "text/html": [
              "<div>\n",
              "<style scoped>\n",
              "    .dataframe tbody tr th:only-of-type {\n",
              "        vertical-align: middle;\n",
              "    }\n",
              "\n",
              "    .dataframe tbody tr th {\n",
              "        vertical-align: top;\n",
              "    }\n",
              "\n",
              "    .dataframe thead th {\n",
              "        text-align: right;\n",
              "    }\n",
              "</style>\n",
              "<table border=\"1\" class=\"dataframe\">\n",
              "  <thead>\n",
              "    <tr style=\"text-align: right;\">\n",
              "      <th></th>\n",
              "      <th>Suburb</th>\n",
              "      <th>Address</th>\n",
              "      <th>Rooms</th>\n",
              "      <th>Type</th>\n",
              "      <th>Price</th>\n",
              "      <th>Method</th>\n",
              "      <th>SellerG</th>\n",
              "      <th>Date</th>\n",
              "      <th>Distance</th>\n",
              "      <th>Postcode</th>\n",
              "      <th>Bedroom2</th>\n",
              "      <th>Bathroom</th>\n",
              "      <th>Car</th>\n",
              "      <th>Landsize</th>\n",
              "      <th>BuildingArea</th>\n",
              "      <th>YearBuilt</th>\n",
              "      <th>CouncilArea</th>\n",
              "      <th>Regionname</th>\n",
              "      <th>Propertycount</th>\n",
              "    </tr>\n",
              "  </thead>\n",
              "  <tbody>\n",
              "    <tr>\n",
              "      <th>692</th>\n",
              "      <td>Box Hill</td>\n",
              "      <td>30 Graham Pl</td>\n",
              "      <td>5</td>\n",
              "      <td>h</td>\n",
              "      <td>NaN</td>\n",
              "      <td>S</td>\n",
              "      <td>Noel</td>\n",
              "      <td>10/09/2016</td>\n",
              "      <td>13.1</td>\n",
              "      <td>3128.0</td>\n",
              "      <td>5.0</td>\n",
              "      <td>3.0</td>\n",
              "      <td>4.0</td>\n",
              "      <td>1044.0</td>\n",
              "      <td>1044.0</td>\n",
              "      <td>1920.0</td>\n",
              "      <td>Whitehorse City Council</td>\n",
              "      <td>Eastern Metropolitan</td>\n",
              "      <td>4605.0</td>\n",
              "    </tr>\n",
              "    <tr>\n",
              "      <th>995</th>\n",
              "      <td>Brunswick</td>\n",
              "      <td>7 Garnet St</td>\n",
              "      <td>3</td>\n",
              "      <td>h</td>\n",
              "      <td>1053000.0</td>\n",
              "      <td>S</td>\n",
              "      <td>Ray</td>\n",
              "      <td>27/06/2016</td>\n",
              "      <td>5.2</td>\n",
              "      <td>3056.0</td>\n",
              "      <td>3.0</td>\n",
              "      <td>1.0</td>\n",
              "      <td>1.0</td>\n",
              "      <td>343.0</td>\n",
              "      <td>1041.0</td>\n",
              "      <td>1925.0</td>\n",
              "      <td>Moreland City Council</td>\n",
              "      <td>Northern Metropolitan</td>\n",
              "      <td>11918.0</td>\n",
              "    </tr>\n",
              "    <tr>\n",
              "      <th>1082</th>\n",
              "      <td>Bulleen</td>\n",
              "      <td>19 Warringal St</td>\n",
              "      <td>4</td>\n",
              "      <td>h</td>\n",
              "      <td>1280000.0</td>\n",
              "      <td>S</td>\n",
              "      <td>Barry</td>\n",
              "      <td>11/03/2017</td>\n",
              "      <td>11.8</td>\n",
              "      <td>3105.0</td>\n",
              "      <td>4.0</td>\n",
              "      <td>1.0</td>\n",
              "      <td>2.0</td>\n",
              "      <td>732.0</td>\n",
              "      <td>6791.0</td>\n",
              "      <td>NaN</td>\n",
              "      <td>Manningham City Council</td>\n",
              "      <td>Eastern Metropolitan</td>\n",
              "      <td>4480.0</td>\n",
              "    </tr>\n",
              "    <tr>\n",
              "      <th>1165</th>\n",
              "      <td>Camberwell</td>\n",
              "      <td>46 Athelstan Rd</td>\n",
              "      <td>5</td>\n",
              "      <td>h</td>\n",
              "      <td>2608000.0</td>\n",
              "      <td>S</td>\n",
              "      <td>Marshall</td>\n",
              "      <td>15/10/2016</td>\n",
              "      <td>7.8</td>\n",
              "      <td>3124.0</td>\n",
              "      <td>5.0</td>\n",
              "      <td>2.0</td>\n",
              "      <td>4.0</td>\n",
              "      <td>730.0</td>\n",
              "      <td>3112.0</td>\n",
              "      <td>1920.0</td>\n",
              "      <td>Boroondara City Council</td>\n",
              "      <td>Southern Metropolitan</td>\n",
              "      <td>8920.0</td>\n",
              "    </tr>\n",
              "    <tr>\n",
              "      <th>1694</th>\n",
              "      <td>Elsternwick</td>\n",
              "      <td>5/16 St Georges Rd</td>\n",
              "      <td>2</td>\n",
              "      <td>u</td>\n",
              "      <td>741000.0</td>\n",
              "      <td>S</td>\n",
              "      <td>Biggin</td>\n",
              "      <td>16/04/2016</td>\n",
              "      <td>8.5</td>\n",
              "      <td>3185.0</td>\n",
              "      <td>3.0</td>\n",
              "      <td>1.0</td>\n",
              "      <td>1.0</td>\n",
              "      <td>0.0</td>\n",
              "      <td>1561.0</td>\n",
              "      <td>1966.0</td>\n",
              "      <td>Glen Eira City Council</td>\n",
              "      <td>Southern Metropolitan</td>\n",
              "      <td>4898.0</td>\n",
              "    </tr>\n",
              "    <tr>\n",
              "      <th>1952</th>\n",
              "      <td>Fitzroy North</td>\n",
              "      <td>186 Queens Pde</td>\n",
              "      <td>2</td>\n",
              "      <td>t</td>\n",
              "      <td>930000.0</td>\n",
              "      <td>S</td>\n",
              "      <td>Nelson</td>\n",
              "      <td>3/09/2016</td>\n",
              "      <td>3.5</td>\n",
              "      <td>3068.0</td>\n",
              "      <td>2.0</td>\n",
              "      <td>3.0</td>\n",
              "      <td>0.0</td>\n",
              "      <td>2778.0</td>\n",
              "      <td>3558.0</td>\n",
              "      <td>NaN</td>\n",
              "      <td>Moreland City Council</td>\n",
              "      <td>Northern Metropolitan</td>\n",
              "      <td>6244.0</td>\n",
              "    </tr>\n",
              "    <tr>\n",
              "      <th>2169</th>\n",
              "      <td>Glen Iris</td>\n",
              "      <td>1/58 Edgar St N</td>\n",
              "      <td>2</td>\n",
              "      <td>t</td>\n",
              "      <td>600000.0</td>\n",
              "      <td>VB</td>\n",
              "      <td>Gary</td>\n",
              "      <td>22/08/2016</td>\n",
              "      <td>9.2</td>\n",
              "      <td>3146.0</td>\n",
              "      <td>2.0</td>\n",
              "      <td>1.0</td>\n",
              "      <td>1.0</td>\n",
              "      <td>0.0</td>\n",
              "      <td>1143.0</td>\n",
              "      <td>NaN</td>\n",
              "      <td>Boroondara City Council</td>\n",
              "      <td>Southern Metropolitan</td>\n",
              "      <td>10412.0</td>\n",
              "    </tr>\n",
              "    <tr>\n",
              "      <th>2733</th>\n",
              "      <td>Kew</td>\n",
              "      <td>24 Fitzwilliam St</td>\n",
              "      <td>5</td>\n",
              "      <td>h</td>\n",
              "      <td>1975000.0</td>\n",
              "      <td>S</td>\n",
              "      <td>Kay</td>\n",
              "      <td>18/06/2016</td>\n",
              "      <td>5.6</td>\n",
              "      <td>3101.0</td>\n",
              "      <td>3.0</td>\n",
              "      <td>2.0</td>\n",
              "      <td>1.0</td>\n",
              "      <td>531.0</td>\n",
              "      <td>1022.0</td>\n",
              "      <td>1890.0</td>\n",
              "      <td>Boroondara City Council</td>\n",
              "      <td>Southern Metropolitan</td>\n",
              "      <td>10331.0</td>\n",
              "    </tr>\n",
              "    <tr>\n",
              "      <th>6219</th>\n",
              "      <td>Frankston South</td>\n",
              "      <td>169 Humphries Rd</td>\n",
              "      <td>3</td>\n",
              "      <td>h</td>\n",
              "      <td>NaN</td>\n",
              "      <td>SP</td>\n",
              "      <td>hockingstuart</td>\n",
              "      <td>1/07/2017</td>\n",
              "      <td>38.0</td>\n",
              "      <td>3199.0</td>\n",
              "      <td>3.0</td>\n",
              "      <td>2.0</td>\n",
              "      <td>5.0</td>\n",
              "      <td>3617.0</td>\n",
              "      <td>3647.0</td>\n",
              "      <td>NaN</td>\n",
              "      <td>Frankston City Council</td>\n",
              "      <td>South-Eastern Metropolitan</td>\n",
              "      <td>7566.0</td>\n",
              "    </tr>\n",
              "    <tr>\n",
              "      <th>6444</th>\n",
              "      <td>Glen Waverley</td>\n",
              "      <td>28 Brentwood Dr</td>\n",
              "      <td>5</td>\n",
              "      <td>h</td>\n",
              "      <td>NaN</td>\n",
              "      <td>PI</td>\n",
              "      <td>Ray</td>\n",
              "      <td>3/06/2017</td>\n",
              "      <td>16.7</td>\n",
              "      <td>3150.0</td>\n",
              "      <td>5.0</td>\n",
              "      <td>5.0</td>\n",
              "      <td>2.0</td>\n",
              "      <td>652.0</td>\n",
              "      <td>4645.0</td>\n",
              "      <td>NaN</td>\n",
              "      <td>Monash City Council</td>\n",
              "      <td>Eastern Metropolitan</td>\n",
              "      <td>15321.0</td>\n",
              "    </tr>\n",
              "    <tr>\n",
              "      <th>11761</th>\n",
              "      <td>Riddells Creek</td>\n",
              "      <td>6 Southbourne Rd</td>\n",
              "      <td>5</td>\n",
              "      <td>h</td>\n",
              "      <td>NaN</td>\n",
              "      <td>SP</td>\n",
              "      <td>Raine</td>\n",
              "      <td>25/11/2017</td>\n",
              "      <td>47.4</td>\n",
              "      <td>3431.0</td>\n",
              "      <td>5.0</td>\n",
              "      <td>3.0</td>\n",
              "      <td>6.0</td>\n",
              "      <td>NaN</td>\n",
              "      <td>2002.0</td>\n",
              "      <td>2000.0</td>\n",
              "      <td>Macedon Ranges Shire Council</td>\n",
              "      <td>Northern Victoria</td>\n",
              "      <td>1475.0</td>\n",
              "    </tr>\n",
              "    <tr>\n",
              "      <th>13252</th>\n",
              "      <td>Hampton East</td>\n",
              "      <td>1 Henrietta St</td>\n",
              "      <td>4</td>\n",
              "      <td>t</td>\n",
              "      <td>1180000.0</td>\n",
              "      <td>PI</td>\n",
              "      <td>Woodards</td>\n",
              "      <td>17/03/2018</td>\n",
              "      <td>13.8</td>\n",
              "      <td>3188.0</td>\n",
              "      <td>4.0</td>\n",
              "      <td>3.0</td>\n",
              "      <td>2.0</td>\n",
              "      <td>674.0</td>\n",
              "      <td>6178.0</td>\n",
              "      <td>NaN</td>\n",
              "      <td>Bayside City Council</td>\n",
              "      <td>Southern Metropolitan</td>\n",
              "      <td>2356.0</td>\n",
              "    </tr>\n",
              "  </tbody>\n",
              "</table>\n",
              "</div>"
            ],
            "text/plain": [
              "                Suburb  ... Propertycount\n",
              "692           Box Hill  ...        4605.0\n",
              "995          Brunswick  ...       11918.0\n",
              "1082           Bulleen  ...        4480.0\n",
              "1165        Camberwell  ...        8920.0\n",
              "1694       Elsternwick  ...        4898.0\n",
              "1952     Fitzroy North  ...        6244.0\n",
              "2169         Glen Iris  ...       10412.0\n",
              "2733               Kew  ...       10331.0\n",
              "6219   Frankston South  ...        7566.0\n",
              "6444     Glen Waverley  ...       15321.0\n",
              "11761   Riddells Creek  ...        1475.0\n",
              "13252     Hampton East  ...        2356.0\n",
              "\n",
              "[12 rows x 19 columns]"
            ]
          },
          "metadata": {
            "tags": []
          },
          "execution_count": 18
        }
      ]
    },
    {
      "cell_type": "markdown",
      "metadata": {
        "id": "0x5qB30lf1Wh",
        "colab_type": "text"
      },
      "source": [
        "Es mejor eliminar estas areas tan grandes construidas ya que son muy pocas y estan dispersas del resto de nuestras muestras"
      ]
    },
    {
      "cell_type": "code",
      "metadata": {
        "id": "zsW5AQXDf-Qh",
        "colab_type": "code",
        "colab": {
          "base_uri": "https://localhost:8080/",
          "height": 428
        },
        "outputId": "f093f0df-53a5-4892-efe8-41f3cb1a7027"
      },
      "source": [
        "dataframe=dataframe.loc[dataframe.BuildingArea<1000]\n",
        "plt.figure(figsize=(10,7))\n",
        "sns.boxplot(y='BuildingArea',data=dataframe)"
      ],
      "execution_count": 19,
      "outputs": [
        {
          "output_type": "execute_result",
          "data": {
            "text/plain": [
              "<matplotlib.axes._subplots.AxesSubplot at 0x7ff0aad068d0>"
            ]
          },
          "metadata": {
            "tags": []
          },
          "execution_count": 19
        },
        {
          "output_type": "display_data",
          "data": {
            "image/png": "[encoded data removed]",
            "text/plain": [
              "<Figure size 720x504 with 1 Axes>"
            ]
          },
          "metadata": {
            "tags": [],
            "needs_background": "light"
          }
        }
      ]
    },
    {
      "cell_type": "markdown",
      "metadata": {
        "id": "r6vK8FAFDVex",
        "colab_type": "text"
      },
      "source": [
        "Lo mejor es eliminar las muestras que tienen areas construidas menores a 2 metros ya que posiblemente estos valores pequeños pueden ser errores de recoleccion."
      ]
    },
    {
      "cell_type": "code",
      "metadata": {
        "id": "WY6M_mZvDUqP",
        "colab_type": "code",
        "colab": {
          "base_uri": "https://localhost:8080/",
          "height": 711
        },
        "outputId": "495bfb09-cadd-450c-bf91-a914e9a6403a"
      },
      "source": [
        "dataframe.loc[dataframe.BuildingArea<2]"
      ],
      "execution_count": 20,
      "outputs": [
        {
          "output_type": "execute_result",
          "data": {
            "text/html": [
              "<div>\n",
              "<style scoped>\n",
              "    .dataframe tbody tr th:only-of-type {\n",
              "        vertical-align: middle;\n",
              "    }\n",
              "\n",
              "    .dataframe tbody tr th {\n",
              "        vertical-align: top;\n",
              "    }\n",
              "\n",
              "    .dataframe thead th {\n",
              "        text-align: right;\n",
              "    }\n",
              "</style>\n",
              "<table border=\"1\" class=\"dataframe\">\n",
              "  <thead>\n",
              "    <tr style=\"text-align: right;\">\n",
              "      <th></th>\n",
              "      <th>Suburb</th>\n",
              "      <th>Address</th>\n",
              "      <th>Rooms</th>\n",
              "      <th>Type</th>\n",
              "      <th>Price</th>\n",
              "      <th>Method</th>\n",
              "      <th>SellerG</th>\n",
              "      <th>Date</th>\n",
              "      <th>Distance</th>\n",
              "      <th>Postcode</th>\n",
              "      <th>Bedroom2</th>\n",
              "      <th>Bathroom</th>\n",
              "      <th>Car</th>\n",
              "      <th>Landsize</th>\n",
              "      <th>BuildingArea</th>\n",
              "      <th>YearBuilt</th>\n",
              "      <th>CouncilArea</th>\n",
              "      <th>Regionname</th>\n",
              "      <th>Propertycount</th>\n",
              "    </tr>\n",
              "  </thead>\n",
              "  <tbody>\n",
              "    <tr>\n",
              "      <th>998</th>\n",
              "      <td>Brunswick</td>\n",
              "      <td>329 Brunswick Rd</td>\n",
              "      <td>4</td>\n",
              "      <td>h</td>\n",
              "      <td>1175000.0</td>\n",
              "      <td>PI</td>\n",
              "      <td>Jellis</td>\n",
              "      <td>27/11/2016</td>\n",
              "      <td>5.2</td>\n",
              "      <td>3056.0</td>\n",
              "      <td>4.0</td>\n",
              "      <td>1.0</td>\n",
              "      <td>2.0</td>\n",
              "      <td>319.0</td>\n",
              "      <td>1.0</td>\n",
              "      <td>NaN</td>\n",
              "      <td>Moreland City Council</td>\n",
              "      <td>Northern Metropolitan</td>\n",
              "      <td>11918.0</td>\n",
              "    </tr>\n",
              "    <tr>\n",
              "      <th>1516</th>\n",
              "      <td>Coburg</td>\n",
              "      <td>40 Elizabeth St</td>\n",
              "      <td>1</td>\n",
              "      <td>h</td>\n",
              "      <td>1007000.0</td>\n",
              "      <td>SP</td>\n",
              "      <td>Brad</td>\n",
              "      <td>28/08/2016</td>\n",
              "      <td>7.8</td>\n",
              "      <td>3058.0</td>\n",
              "      <td>1.0</td>\n",
              "      <td>2.0</td>\n",
              "      <td>0.0</td>\n",
              "      <td>807.0</td>\n",
              "      <td>1.0</td>\n",
              "      <td>NaN</td>\n",
              "      <td>Darebin City Council</td>\n",
              "      <td>Northern Metropolitan</td>\n",
              "      <td>11204.0</td>\n",
              "    </tr>\n",
              "    <tr>\n",
              "      <th>3256</th>\n",
              "      <td>North Melbourne</td>\n",
              "      <td>19 Shands La</td>\n",
              "      <td>2</td>\n",
              "      <td>t</td>\n",
              "      <td>841000.0</td>\n",
              "      <td>S</td>\n",
              "      <td>Jellis</td>\n",
              "      <td>4/03/2017</td>\n",
              "      <td>2.3</td>\n",
              "      <td>3051.0</td>\n",
              "      <td>2.0</td>\n",
              "      <td>1.0</td>\n",
              "      <td>1.0</td>\n",
              "      <td>215.0</td>\n",
              "      <td>0.0</td>\n",
              "      <td>2000.0</td>\n",
              "      <td>Melbourne City Council</td>\n",
              "      <td>Northern Metropolitan</td>\n",
              "      <td>6821.0</td>\n",
              "    </tr>\n",
              "    <tr>\n",
              "      <th>3294</th>\n",
              "      <td>North Melbourne</td>\n",
              "      <td>11/19 Wood St</td>\n",
              "      <td>2</td>\n",
              "      <td>u</td>\n",
              "      <td>587134.0</td>\n",
              "      <td>SP</td>\n",
              "      <td>Woodards</td>\n",
              "      <td>28/08/2016</td>\n",
              "      <td>2.3</td>\n",
              "      <td>3051.0</td>\n",
              "      <td>2.0</td>\n",
              "      <td>1.0</td>\n",
              "      <td>1.0</td>\n",
              "      <td>0.0</td>\n",
              "      <td>1.0</td>\n",
              "      <td>1970.0</td>\n",
              "      <td>Melbourne City Council</td>\n",
              "      <td>Northern Metropolitan</td>\n",
              "      <td>6821.0</td>\n",
              "    </tr>\n",
              "    <tr>\n",
              "      <th>3928</th>\n",
              "      <td>Richmond</td>\n",
              "      <td>5/285 Punt Rd</td>\n",
              "      <td>1</td>\n",
              "      <td>u</td>\n",
              "      <td>342000.0</td>\n",
              "      <td>S</td>\n",
              "      <td>Jellis</td>\n",
              "      <td>10/09/2016</td>\n",
              "      <td>2.6</td>\n",
              "      <td>3121.0</td>\n",
              "      <td>1.0</td>\n",
              "      <td>1.0</td>\n",
              "      <td>1.0</td>\n",
              "      <td>0.0</td>\n",
              "      <td>1.0</td>\n",
              "      <td>1970.0</td>\n",
              "      <td>Yarra City Council</td>\n",
              "      <td>Northern Metropolitan</td>\n",
              "      <td>14949.0</td>\n",
              "    </tr>\n",
              "    <tr>\n",
              "      <th>...</th>\n",
              "      <td>...</td>\n",
              "      <td>...</td>\n",
              "      <td>...</td>\n",
              "      <td>...</td>\n",
              "      <td>...</td>\n",
              "      <td>...</td>\n",
              "      <td>...</td>\n",
              "      <td>...</td>\n",
              "      <td>...</td>\n",
              "      <td>...</td>\n",
              "      <td>...</td>\n",
              "      <td>...</td>\n",
              "      <td>...</td>\n",
              "      <td>...</td>\n",
              "      <td>...</td>\n",
              "      <td>...</td>\n",
              "      <td>...</td>\n",
              "      <td>...</td>\n",
              "      <td>...</td>\n",
              "    </tr>\n",
              "    <tr>\n",
              "      <th>13112</th>\n",
              "      <td>Wollert</td>\n",
              "      <td>42 Rhone Dr</td>\n",
              "      <td>4</td>\n",
              "      <td>h</td>\n",
              "      <td>722500.0</td>\n",
              "      <td>S</td>\n",
              "      <td>LJH</td>\n",
              "      <td>17/02/2018</td>\n",
              "      <td>25.5</td>\n",
              "      <td>3750.0</td>\n",
              "      <td>4.0</td>\n",
              "      <td>2.0</td>\n",
              "      <td>2.0</td>\n",
              "      <td>512.0</td>\n",
              "      <td>0.0</td>\n",
              "      <td>NaN</td>\n",
              "      <td>Whittlesea City Council</td>\n",
              "      <td>Northern Metropolitan</td>\n",
              "      <td>2940.0</td>\n",
              "    </tr>\n",
              "    <tr>\n",
              "      <th>13249</th>\n",
              "      <td>Greenvale</td>\n",
              "      <td>26 Perugia Av</td>\n",
              "      <td>4</td>\n",
              "      <td>h</td>\n",
              "      <td>677000.0</td>\n",
              "      <td>S</td>\n",
              "      <td>Ray</td>\n",
              "      <td>17/03/2018</td>\n",
              "      <td>20.4</td>\n",
              "      <td>3059.0</td>\n",
              "      <td>4.0</td>\n",
              "      <td>2.0</td>\n",
              "      <td>2.0</td>\n",
              "      <td>312.0</td>\n",
              "      <td>0.0</td>\n",
              "      <td>2013.0</td>\n",
              "      <td>Hume City Council</td>\n",
              "      <td>Northern Metropolitan</td>\n",
              "      <td>4864.0</td>\n",
              "    </tr>\n",
              "    <tr>\n",
              "      <th>13320</th>\n",
              "      <td>Preston</td>\n",
              "      <td>91 Dundas St</td>\n",
              "      <td>3</td>\n",
              "      <td>h</td>\n",
              "      <td>950000.0</td>\n",
              "      <td>PI</td>\n",
              "      <td>Spencer</td>\n",
              "      <td>17/03/2018</td>\n",
              "      <td>8.4</td>\n",
              "      <td>3072.0</td>\n",
              "      <td>3.0</td>\n",
              "      <td>1.0</td>\n",
              "      <td>NaN</td>\n",
              "      <td>301.0</td>\n",
              "      <td>0.0</td>\n",
              "      <td>1935.0</td>\n",
              "      <td>Darebin City Council</td>\n",
              "      <td>Northern Metropolitan</td>\n",
              "      <td>14577.0</td>\n",
              "    </tr>\n",
              "    <tr>\n",
              "      <th>13395</th>\n",
              "      <td>Wollert</td>\n",
              "      <td>40 Whitebark St</td>\n",
              "      <td>4</td>\n",
              "      <td>h</td>\n",
              "      <td>615000.0</td>\n",
              "      <td>S</td>\n",
              "      <td>HAR</td>\n",
              "      <td>17/03/2018</td>\n",
              "      <td>25.5</td>\n",
              "      <td>3750.0</td>\n",
              "      <td>4.0</td>\n",
              "      <td>2.0</td>\n",
              "      <td>2.0</td>\n",
              "      <td>392.0</td>\n",
              "      <td>0.0</td>\n",
              "      <td>2015.0</td>\n",
              "      <td>Whittlesea City Council</td>\n",
              "      <td>Northern Metropolitan</td>\n",
              "      <td>2940.0</td>\n",
              "    </tr>\n",
              "    <tr>\n",
              "      <th>13459</th>\n",
              "      <td>Camberwell</td>\n",
              "      <td>1088 Toorak Rd</td>\n",
              "      <td>3</td>\n",
              "      <td>h</td>\n",
              "      <td>NaN</td>\n",
              "      <td>VB</td>\n",
              "      <td>Marshall</td>\n",
              "      <td>24/02/2018</td>\n",
              "      <td>7.7</td>\n",
              "      <td>3124.0</td>\n",
              "      <td>3.0</td>\n",
              "      <td>1.0</td>\n",
              "      <td>1.0</td>\n",
              "      <td>647.0</td>\n",
              "      <td>0.0</td>\n",
              "      <td>NaN</td>\n",
              "      <td>Boroondara City Council</td>\n",
              "      <td>Southern Metropolitan</td>\n",
              "      <td>8920.0</td>\n",
              "    </tr>\n",
              "  </tbody>\n",
              "</table>\n",
              "<p>92 rows × 19 columns</p>\n",
              "</div>"
            ],
            "text/plain": [
              "                Suburb           Address  ...             Regionname Propertycount\n",
              "998          Brunswick  329 Brunswick Rd  ...  Northern Metropolitan       11918.0\n",
              "1516            Coburg   40 Elizabeth St  ...  Northern Metropolitan       11204.0\n",
              "3256   North Melbourne      19 Shands La  ...  Northern Metropolitan        6821.0\n",
              "3294   North Melbourne     11/19 Wood St  ...  Northern Metropolitan        6821.0\n",
              "3928          Richmond     5/285 Punt Rd  ...  Northern Metropolitan       14949.0\n",
              "...                ...               ...  ...                    ...           ...\n",
              "13112          Wollert       42 Rhone Dr  ...  Northern Metropolitan        2940.0\n",
              "13249        Greenvale     26 Perugia Av  ...  Northern Metropolitan        4864.0\n",
              "13320          Preston      91 Dundas St  ...  Northern Metropolitan       14577.0\n",
              "13395          Wollert   40 Whitebark St  ...  Northern Metropolitan        2940.0\n",
              "13459       Camberwell    1088 Toorak Rd  ...  Southern Metropolitan        8920.0\n",
              "\n",
              "[92 rows x 19 columns]"
            ]
          },
          "metadata": {
            "tags": []
          },
          "execution_count": 20
        }
      ]
    },
    {
      "cell_type": "code",
      "metadata": {
        "id": "qrRIg7Im5vus",
        "colab_type": "code",
        "colab": {
          "base_uri": "https://localhost:8080/",
          "height": 359
        },
        "outputId": "96416671-5311-4925-c91b-170e36882660"
      },
      "source": [
        "dataframe=dataframe.loc[dataframe['BuildingArea']>2]\n",
        "dataframe.describe().T"
      ],
      "execution_count": 21,
      "outputs": [
        {
          "output_type": "execute_result",
          "data": {
            "text/html": [
              "<div>\n",
              "<style scoped>\n",
              "    .dataframe tbody tr th:only-of-type {\n",
              "        vertical-align: middle;\n",
              "    }\n",
              "\n",
              "    .dataframe tbody tr th {\n",
              "        vertical-align: top;\n",
              "    }\n",
              "\n",
              "    .dataframe thead th {\n",
              "        text-align: right;\n",
              "    }\n",
              "</style>\n",
              "<table border=\"1\" class=\"dataframe\">\n",
              "  <thead>\n",
              "    <tr style=\"text-align: right;\">\n",
              "      <th></th>\n",
              "      <th>count</th>\n",
              "      <th>mean</th>\n",
              "      <th>std</th>\n",
              "      <th>min</th>\n",
              "      <th>25%</th>\n",
              "      <th>50%</th>\n",
              "      <th>75%</th>\n",
              "      <th>max</th>\n",
              "    </tr>\n",
              "  </thead>\n",
              "  <tbody>\n",
              "    <tr>\n",
              "      <th>Rooms</th>\n",
              "      <td>13617.0</td>\n",
              "      <td>3.148858e+00</td>\n",
              "      <td>0.972721</td>\n",
              "      <td>1.0</td>\n",
              "      <td>3.00</td>\n",
              "      <td>3.0</td>\n",
              "      <td>4.0</td>\n",
              "      <td>12.0</td>\n",
              "    </tr>\n",
              "    <tr>\n",
              "      <th>Price</th>\n",
              "      <td>10554.0</td>\n",
              "      <td>1.087639e+06</td>\n",
              "      <td>677427.144885</td>\n",
              "      <td>131000.0</td>\n",
              "      <td>640000.00</td>\n",
              "      <td>895000.0</td>\n",
              "      <td>1332500.0</td>\n",
              "      <td>9000000.0</td>\n",
              "    </tr>\n",
              "    <tr>\n",
              "      <th>Distance</th>\n",
              "      <td>13617.0</td>\n",
              "      <td>1.134834e+01</td>\n",
              "      <td>7.081709</td>\n",
              "      <td>0.0</td>\n",
              "      <td>6.40</td>\n",
              "      <td>10.2</td>\n",
              "      <td>14.2</td>\n",
              "      <td>48.1</td>\n",
              "    </tr>\n",
              "    <tr>\n",
              "      <th>Bedroom2</th>\n",
              "      <td>13617.0</td>\n",
              "      <td>3.126460e+00</td>\n",
              "      <td>0.974417</td>\n",
              "      <td>0.0</td>\n",
              "      <td>3.00</td>\n",
              "      <td>3.0</td>\n",
              "      <td>4.0</td>\n",
              "      <td>12.0</td>\n",
              "    </tr>\n",
              "    <tr>\n",
              "      <th>Bathroom</th>\n",
              "      <td>13617.0</td>\n",
              "      <td>1.691489e+00</td>\n",
              "      <td>0.737854</td>\n",
              "      <td>1.0</td>\n",
              "      <td>1.00</td>\n",
              "      <td>2.0</td>\n",
              "      <td>2.0</td>\n",
              "      <td>9.0</td>\n",
              "    </tr>\n",
              "    <tr>\n",
              "      <th>Car</th>\n",
              "      <td>13387.0</td>\n",
              "      <td>1.723239e+00</td>\n",
              "      <td>1.006464</td>\n",
              "      <td>0.0</td>\n",
              "      <td>1.00</td>\n",
              "      <td>2.0</td>\n",
              "      <td>2.0</td>\n",
              "      <td>26.0</td>\n",
              "    </tr>\n",
              "    <tr>\n",
              "      <th>Landsize</th>\n",
              "      <td>12038.0</td>\n",
              "      <td>5.271397e+02</td>\n",
              "      <td>1065.749579</td>\n",
              "      <td>0.0</td>\n",
              "      <td>212.25</td>\n",
              "      <td>479.0</td>\n",
              "      <td>656.0</td>\n",
              "      <td>42800.0</td>\n",
              "    </tr>\n",
              "    <tr>\n",
              "      <th>BuildingArea</th>\n",
              "      <td>13617.0</td>\n",
              "      <td>1.558294e+02</td>\n",
              "      <td>86.004568</td>\n",
              "      <td>3.0</td>\n",
              "      <td>103.00</td>\n",
              "      <td>136.0</td>\n",
              "      <td>188.0</td>\n",
              "      <td>999.0</td>\n",
              "    </tr>\n",
              "    <tr>\n",
              "      <th>YearBuilt</th>\n",
              "      <td>13136.0</td>\n",
              "      <td>1.964955e+03</td>\n",
              "      <td>37.870911</td>\n",
              "      <td>1196.0</td>\n",
              "      <td>1940.00</td>\n",
              "      <td>1970.0</td>\n",
              "      <td>2000.0</td>\n",
              "      <td>2106.0</td>\n",
              "    </tr>\n",
              "    <tr>\n",
              "      <th>Propertycount</th>\n",
              "      <td>13617.0</td>\n",
              "      <td>7.481586e+03</td>\n",
              "      <td>4315.252148</td>\n",
              "      <td>249.0</td>\n",
              "      <td>4387.00</td>\n",
              "      <td>6567.0</td>\n",
              "      <td>10331.0</td>\n",
              "      <td>21650.0</td>\n",
              "    </tr>\n",
              "  </tbody>\n",
              "</table>\n",
              "</div>"
            ],
            "text/plain": [
              "                 count          mean  ...        75%        max\n",
              "Rooms          13617.0  3.148858e+00  ...        4.0       12.0\n",
              "Price          10554.0  1.087639e+06  ...  1332500.0  9000000.0\n",
              "Distance       13617.0  1.134834e+01  ...       14.2       48.1\n",
              "Bedroom2       13617.0  3.126460e+00  ...        4.0       12.0\n",
              "Bathroom       13617.0  1.691489e+00  ...        2.0        9.0\n",
              "Car            13387.0  1.723239e+00  ...        2.0       26.0\n",
              "Landsize       12038.0  5.271397e+02  ...      656.0    42800.0\n",
              "BuildingArea   13617.0  1.558294e+02  ...      188.0      999.0\n",
              "YearBuilt      13136.0  1.964955e+03  ...     2000.0     2106.0\n",
              "Propertycount  13617.0  7.481586e+03  ...    10331.0    21650.0\n",
              "\n",
              "[10 rows x 8 columns]"
            ]
          },
          "metadata": {
            "tags": []
          },
          "execution_count": 21
        }
      ]
    },
    {
      "cell_type": "markdown",
      "metadata": {
        "id": "gzRlwL9KEd3g",
        "colab_type": "text"
      },
      "source": [
        "En el año de construccion se puede ver que hay datos que son demasiados descabellados como el menor año y el año máximo que es mayor al actual."
      ]
    },
    {
      "cell_type": "code",
      "metadata": {
        "id": "hilYKlh86JT-",
        "colab_type": "code",
        "colab": {
          "base_uri": "https://localhost:8080/",
          "height": 230
        },
        "outputId": "491a243d-4323-4c76-b015-f354d58573c3"
      },
      "source": [
        "dataframe.loc[(dataframe['YearBuilt']>2018) | (dataframe['YearBuilt']<1800)]"
      ],
      "execution_count": 22,
      "outputs": [
        {
          "output_type": "execute_result",
          "data": {
            "text/html": [
              "<div>\n",
              "<style scoped>\n",
              "    .dataframe tbody tr th:only-of-type {\n",
              "        vertical-align: middle;\n",
              "    }\n",
              "\n",
              "    .dataframe tbody tr th {\n",
              "        vertical-align: top;\n",
              "    }\n",
              "\n",
              "    .dataframe thead th {\n",
              "        text-align: right;\n",
              "    }\n",
              "</style>\n",
              "<table border=\"1\" class=\"dataframe\">\n",
              "  <thead>\n",
              "    <tr style=\"text-align: right;\">\n",
              "      <th></th>\n",
              "      <th>Suburb</th>\n",
              "      <th>Address</th>\n",
              "      <th>Rooms</th>\n",
              "      <th>Type</th>\n",
              "      <th>Price</th>\n",
              "      <th>Method</th>\n",
              "      <th>SellerG</th>\n",
              "      <th>Date</th>\n",
              "      <th>Distance</th>\n",
              "      <th>Postcode</th>\n",
              "      <th>Bedroom2</th>\n",
              "      <th>Bathroom</th>\n",
              "      <th>Car</th>\n",
              "      <th>Landsize</th>\n",
              "      <th>BuildingArea</th>\n",
              "      <th>YearBuilt</th>\n",
              "      <th>CouncilArea</th>\n",
              "      <th>Regionname</th>\n",
              "      <th>Propertycount</th>\n",
              "    </tr>\n",
              "  </thead>\n",
              "  <tbody>\n",
              "    <tr>\n",
              "      <th>1077</th>\n",
              "      <td>Bulleen</td>\n",
              "      <td>3 Maringa St</td>\n",
              "      <td>4</td>\n",
              "      <td>h</td>\n",
              "      <td>NaN</td>\n",
              "      <td>SP</td>\n",
              "      <td>Ray</td>\n",
              "      <td>7/11/2016</td>\n",
              "      <td>11.8</td>\n",
              "      <td>3105.0</td>\n",
              "      <td>4.0</td>\n",
              "      <td>2.0</td>\n",
              "      <td>2.0</td>\n",
              "      <td>729.0</td>\n",
              "      <td>255.0</td>\n",
              "      <td>2106.0</td>\n",
              "      <td>Manningham City Council</td>\n",
              "      <td>Eastern Metropolitan</td>\n",
              "      <td>4480.0</td>\n",
              "    </tr>\n",
              "    <tr>\n",
              "      <th>6952</th>\n",
              "      <td>Mount Waverley</td>\n",
              "      <td>5 Armstrong St</td>\n",
              "      <td>3</td>\n",
              "      <td>h</td>\n",
              "      <td>1200000.0</td>\n",
              "      <td>VB</td>\n",
              "      <td>McGrath</td>\n",
              "      <td>24/06/2017</td>\n",
              "      <td>14.2</td>\n",
              "      <td>3149.0</td>\n",
              "      <td>3.0</td>\n",
              "      <td>1.0</td>\n",
              "      <td>4.0</td>\n",
              "      <td>807.0</td>\n",
              "      <td>117.0</td>\n",
              "      <td>1196.0</td>\n",
              "      <td>Monash City Council</td>\n",
              "      <td>Eastern Metropolitan</td>\n",
              "      <td>13366.0</td>\n",
              "    </tr>\n",
              "    <tr>\n",
              "      <th>13135</th>\n",
              "      <td>Bentleigh</td>\n",
              "      <td>1 Wyuna Ct</td>\n",
              "      <td>3</td>\n",
              "      <td>h</td>\n",
              "      <td>1100000.0</td>\n",
              "      <td>VB</td>\n",
              "      <td>Woodards</td>\n",
              "      <td>17/03/2018</td>\n",
              "      <td>11.4</td>\n",
              "      <td>3204.0</td>\n",
              "      <td>3.0</td>\n",
              "      <td>1.0</td>\n",
              "      <td>4.0</td>\n",
              "      <td>635.0</td>\n",
              "      <td>242.0</td>\n",
              "      <td>2019.0</td>\n",
              "      <td>Glen Eira City Council</td>\n",
              "      <td>Southern Metropolitan</td>\n",
              "      <td>6795.0</td>\n",
              "    </tr>\n",
              "  </tbody>\n",
              "</table>\n",
              "</div>"
            ],
            "text/plain": [
              "               Suburb         Address  ...             Regionname Propertycount\n",
              "1077          Bulleen    3 Maringa St  ...   Eastern Metropolitan        4480.0\n",
              "6952   Mount Waverley  5 Armstrong St  ...   Eastern Metropolitan       13366.0\n",
              "13135       Bentleigh      1 Wyuna Ct  ...  Southern Metropolitan        6795.0\n",
              "\n",
              "[3 rows x 19 columns]"
            ]
          },
          "metadata": {
            "tags": []
          },
          "execution_count": 22
        }
      ]
    },
    {
      "cell_type": "code",
      "metadata": {
        "id": "CxIXqqXw6hp4",
        "colab_type": "code",
        "colab": {
          "base_uri": "https://localhost:8080/",
          "height": 359
        },
        "outputId": "290990d8-92e2-4a88-f475-43b3c1ad3527"
      },
      "source": [
        "dataframe.drop(axis=0,labels=[1077,6952,13135],inplace=True)\n",
        "dataframe.describe().T"
      ],
      "execution_count": 23,
      "outputs": [
        {
          "output_type": "execute_result",
          "data": {
            "text/html": [
              "<div>\n",
              "<style scoped>\n",
              "    .dataframe tbody tr th:only-of-type {\n",
              "        vertical-align: middle;\n",
              "    }\n",
              "\n",
              "    .dataframe tbody tr th {\n",
              "        vertical-align: top;\n",
              "    }\n",
              "\n",
              "    .dataframe thead th {\n",
              "        text-align: right;\n",
              "    }\n",
              "</style>\n",
              "<table border=\"1\" class=\"dataframe\">\n",
              "  <thead>\n",
              "    <tr style=\"text-align: right;\">\n",
              "      <th></th>\n",
              "      <th>count</th>\n",
              "      <th>mean</th>\n",
              "      <th>std</th>\n",
              "      <th>min</th>\n",
              "      <th>25%</th>\n",
              "      <th>50%</th>\n",
              "      <th>75%</th>\n",
              "      <th>max</th>\n",
              "    </tr>\n",
              "  </thead>\n",
              "  <tbody>\n",
              "    <tr>\n",
              "      <th>Rooms</th>\n",
              "      <td>13614.0</td>\n",
              "      <td>3.148817e+00</td>\n",
              "      <td>0.972799</td>\n",
              "      <td>1.0</td>\n",
              "      <td>3.0</td>\n",
              "      <td>3.0</td>\n",
              "      <td>4.0</td>\n",
              "      <td>12.0</td>\n",
              "    </tr>\n",
              "    <tr>\n",
              "      <th>Price</th>\n",
              "      <td>10552.0</td>\n",
              "      <td>1.087627e+06</td>\n",
              "      <td>677490.452973</td>\n",
              "      <td>131000.0</td>\n",
              "      <td>640000.0</td>\n",
              "      <td>895000.0</td>\n",
              "      <td>1333500.0</td>\n",
              "      <td>9000000.0</td>\n",
              "    </tr>\n",
              "    <tr>\n",
              "      <th>Distance</th>\n",
              "      <td>13614.0</td>\n",
              "      <td>1.134809e+01</td>\n",
              "      <td>7.082446</td>\n",
              "      <td>0.0</td>\n",
              "      <td>6.4</td>\n",
              "      <td>10.2</td>\n",
              "      <td>14.2</td>\n",
              "      <td>48.1</td>\n",
              "    </tr>\n",
              "    <tr>\n",
              "      <th>Bedroom2</th>\n",
              "      <td>13614.0</td>\n",
              "      <td>3.126414e+00</td>\n",
              "      <td>0.974494</td>\n",
              "      <td>0.0</td>\n",
              "      <td>3.0</td>\n",
              "      <td>3.0</td>\n",
              "      <td>4.0</td>\n",
              "      <td>12.0</td>\n",
              "    </tr>\n",
              "    <tr>\n",
              "      <th>Bathroom</th>\n",
              "      <td>13614.0</td>\n",
              "      <td>1.691568e+00</td>\n",
              "      <td>0.737883</td>\n",
              "      <td>1.0</td>\n",
              "      <td>1.0</td>\n",
              "      <td>2.0</td>\n",
              "      <td>2.0</td>\n",
              "      <td>9.0</td>\n",
              "    </tr>\n",
              "    <tr>\n",
              "      <th>Car</th>\n",
              "      <td>13384.0</td>\n",
              "      <td>1.722878e+00</td>\n",
              "      <td>1.006189</td>\n",
              "      <td>0.0</td>\n",
              "      <td>1.0</td>\n",
              "      <td>2.0</td>\n",
              "      <td>2.0</td>\n",
              "      <td>26.0</td>\n",
              "    </tr>\n",
              "    <tr>\n",
              "      <th>Landsize</th>\n",
              "      <td>12035.0</td>\n",
              "      <td>5.270907e+02</td>\n",
              "      <td>1065.877317</td>\n",
              "      <td>0.0</td>\n",
              "      <td>212.0</td>\n",
              "      <td>479.0</td>\n",
              "      <td>656.0</td>\n",
              "      <td>42800.0</td>\n",
              "    </tr>\n",
              "    <tr>\n",
              "      <th>BuildingArea</th>\n",
              "      <td>13614.0</td>\n",
              "      <td>1.558187e+02</td>\n",
              "      <td>86.006029</td>\n",
              "      <td>3.0</td>\n",
              "      <td>103.0</td>\n",
              "      <td>136.0</td>\n",
              "      <td>188.0</td>\n",
              "      <td>999.0</td>\n",
              "    </tr>\n",
              "    <tr>\n",
              "      <th>YearBuilt</th>\n",
              "      <td>13133.0</td>\n",
              "      <td>1.964998e+03</td>\n",
              "      <td>37.252753</td>\n",
              "      <td>1800.0</td>\n",
              "      <td>1940.0</td>\n",
              "      <td>1970.0</td>\n",
              "      <td>2000.0</td>\n",
              "      <td>2018.0</td>\n",
              "    </tr>\n",
              "    <tr>\n",
              "      <th>Propertycount</th>\n",
              "      <td>13614.0</td>\n",
              "      <td>7.481424e+03</td>\n",
              "      <td>4315.352214</td>\n",
              "      <td>249.0</td>\n",
              "      <td>4387.0</td>\n",
              "      <td>6567.0</td>\n",
              "      <td>10331.0</td>\n",
              "      <td>21650.0</td>\n",
              "    </tr>\n",
              "  </tbody>\n",
              "</table>\n",
              "</div>"
            ],
            "text/plain": [
              "                 count          mean  ...        75%        max\n",
              "Rooms          13614.0  3.148817e+00  ...        4.0       12.0\n",
              "Price          10552.0  1.087627e+06  ...  1333500.0  9000000.0\n",
              "Distance       13614.0  1.134809e+01  ...       14.2       48.1\n",
              "Bedroom2       13614.0  3.126414e+00  ...        4.0       12.0\n",
              "Bathroom       13614.0  1.691568e+00  ...        2.0        9.0\n",
              "Car            13384.0  1.722878e+00  ...        2.0       26.0\n",
              "Landsize       12035.0  5.270907e+02  ...      656.0    42800.0\n",
              "BuildingArea   13614.0  1.558187e+02  ...      188.0      999.0\n",
              "YearBuilt      13133.0  1.964998e+03  ...     2000.0     2018.0\n",
              "Propertycount  13614.0  7.481424e+03  ...    10331.0    21650.0\n",
              "\n",
              "[10 rows x 8 columns]"
            ]
          },
          "metadata": {
            "tags": []
          },
          "execution_count": 23
        }
      ]
    },
    {
      "cell_type": "markdown",
      "metadata": {
        "id": "YUyqkGryE5DN",
        "colab_type": "text"
      },
      "source": [
        "En el landsize y en el Propertycount se ve que hay valores maximos que son demasiados altos con respecto al resto. Esto se va a mirar con un boxplot"
      ]
    },
    {
      "cell_type": "code",
      "metadata": {
        "id": "jzjS2lHWFKyA",
        "colab_type": "code",
        "colab": {
          "base_uri": "https://localhost:8080/",
          "height": 374
        },
        "outputId": "dadd7c63-722a-4d80-9613-844e29bdb411"
      },
      "source": [
        "plt.figure(figsize=(10,6))\n",
        "sns.boxplot(x=None,data=dataframe,y='Landsize')"
      ],
      "execution_count": 24,
      "outputs": [
        {
          "output_type": "execute_result",
          "data": {
            "text/plain": [
              "<matplotlib.axes._subplots.AxesSubplot at 0x7ff0aac86438>"
            ]
          },
          "metadata": {
            "tags": []
          },
          "execution_count": 24
        },
        {
          "output_type": "display_data",
          "data": {
            "image/png": "[encoded data removed]",
            "text/plain": [
              "<Figure size 720x432 with 1 Axes>"
            ]
          },
          "metadata": {
            "tags": [],
            "needs_background": "light"
          }
        }
      ]
    },
    {
      "cell_type": "code",
      "metadata": {
        "id": "0G8IRm0RFcBf",
        "colab_type": "code",
        "colab": {
          "base_uri": "https://localhost:8080/",
          "height": 374
        },
        "outputId": "01d093e9-710c-444c-fad0-3423fb7fa532"
      },
      "source": [
        "plt.figure(figsize=(10,6))\n",
        "sns.boxplot(x=None,data=dataframe,y='Propertycount')"
      ],
      "execution_count": 25,
      "outputs": [
        {
          "output_type": "execute_result",
          "data": {
            "text/plain": [
              "<matplotlib.axes._subplots.AxesSubplot at 0x7ff0aabee320>"
            ]
          },
          "metadata": {
            "tags": []
          },
          "execution_count": 25
        },
        {
          "output_type": "display_data",
          "data": {
            "image/png": "[encoded data removed]",
            "text/plain": [
              "<Figure size 720x432 with 1 Axes>"
            ]
          },
          "metadata": {
            "tags": [],
            "needs_background": "light"
          }
        }
      ]
    },
    {
      "cell_type": "markdown",
      "metadata": {
        "id": "lxLPoJscFvi8",
        "colab_type": "text"
      },
      "source": [
        "En el tamaño del area no construida se eliminan las muestras por encima de 20000 porque estan mas dispersas del resto de los datos, al igual que con la columna de propertycount"
      ]
    },
    {
      "cell_type": "code",
      "metadata": {
        "id": "Iq4OvLsKGAk8",
        "colab_type": "code",
        "colab": {
          "base_uri": "https://localhost:8080/",
          "height": 359
        },
        "outputId": "e4f9b679-2f18-496d-ac0b-1c344baac7c0"
      },
      "source": [
        "dataframe=dataframe.loc[dataframe.Landsize<20000]\n",
        "dataframe=dataframe.loc[dataframe.Propertycount<20000]\n",
        "dataframe.describe().T"
      ],
      "execution_count": 26,
      "outputs": [
        {
          "output_type": "execute_result",
          "data": {
            "text/html": [
              "<div>\n",
              "<style scoped>\n",
              "    .dataframe tbody tr th:only-of-type {\n",
              "        vertical-align: middle;\n",
              "    }\n",
              "\n",
              "    .dataframe tbody tr th {\n",
              "        vertical-align: top;\n",
              "    }\n",
              "\n",
              "    .dataframe thead th {\n",
              "        text-align: right;\n",
              "    }\n",
              "</style>\n",
              "<table border=\"1\" class=\"dataframe\">\n",
              "  <thead>\n",
              "    <tr style=\"text-align: right;\">\n",
              "      <th></th>\n",
              "      <th>count</th>\n",
              "      <th>mean</th>\n",
              "      <th>std</th>\n",
              "      <th>min</th>\n",
              "      <th>25%</th>\n",
              "      <th>50%</th>\n",
              "      <th>75%</th>\n",
              "      <th>max</th>\n",
              "    </tr>\n",
              "  </thead>\n",
              "  <tbody>\n",
              "    <tr>\n",
              "      <th>Rooms</th>\n",
              "      <td>11801.0</td>\n",
              "      <td>3.144140e+00</td>\n",
              "      <td>0.977797</td>\n",
              "      <td>1.0</td>\n",
              "      <td>3.0</td>\n",
              "      <td>3.0</td>\n",
              "      <td>4.0</td>\n",
              "      <td>12.0</td>\n",
              "    </tr>\n",
              "    <tr>\n",
              "      <th>Price</th>\n",
              "      <td>9091.0</td>\n",
              "      <td>1.104256e+06</td>\n",
              "      <td>680721.831474</td>\n",
              "      <td>131000.0</td>\n",
              "      <td>650000.0</td>\n",
              "      <td>910000.0</td>\n",
              "      <td>1360000.0</td>\n",
              "      <td>9000000.0</td>\n",
              "    </tr>\n",
              "    <tr>\n",
              "      <th>Distance</th>\n",
              "      <td>11801.0</td>\n",
              "      <td>1.102792e+01</td>\n",
              "      <td>6.899651</td>\n",
              "      <td>0.0</td>\n",
              "      <td>6.3</td>\n",
              "      <td>9.7</td>\n",
              "      <td>13.9</td>\n",
              "      <td>48.1</td>\n",
              "    </tr>\n",
              "    <tr>\n",
              "      <th>Bedroom2</th>\n",
              "      <td>11801.0</td>\n",
              "      <td>3.119142e+00</td>\n",
              "      <td>0.979903</td>\n",
              "      <td>0.0</td>\n",
              "      <td>3.0</td>\n",
              "      <td>3.0</td>\n",
              "      <td>4.0</td>\n",
              "      <td>12.0</td>\n",
              "    </tr>\n",
              "    <tr>\n",
              "      <th>Bathroom</th>\n",
              "      <td>11801.0</td>\n",
              "      <td>1.689094e+00</td>\n",
              "      <td>0.744943</td>\n",
              "      <td>1.0</td>\n",
              "      <td>1.0</td>\n",
              "      <td>2.0</td>\n",
              "      <td>2.0</td>\n",
              "      <td>9.0</td>\n",
              "    </tr>\n",
              "    <tr>\n",
              "      <th>Car</th>\n",
              "      <td>11621.0</td>\n",
              "      <td>1.704242e+00</td>\n",
              "      <td>1.007138</td>\n",
              "      <td>0.0</td>\n",
              "      <td>1.0</td>\n",
              "      <td>2.0</td>\n",
              "      <td>2.0</td>\n",
              "      <td>26.0</td>\n",
              "    </tr>\n",
              "    <tr>\n",
              "      <th>Landsize</th>\n",
              "      <td>11801.0</td>\n",
              "      <td>5.082568e+02</td>\n",
              "      <td>682.364878</td>\n",
              "      <td>0.0</td>\n",
              "      <td>213.0</td>\n",
              "      <td>479.0</td>\n",
              "      <td>657.0</td>\n",
              "      <td>17200.0</td>\n",
              "    </tr>\n",
              "    <tr>\n",
              "      <th>BuildingArea</th>\n",
              "      <td>11801.0</td>\n",
              "      <td>1.552735e+02</td>\n",
              "      <td>85.046359</td>\n",
              "      <td>3.0</td>\n",
              "      <td>102.0</td>\n",
              "      <td>136.0</td>\n",
              "      <td>187.0</td>\n",
              "      <td>934.0</td>\n",
              "    </tr>\n",
              "    <tr>\n",
              "      <th>YearBuilt</th>\n",
              "      <td>11389.0</td>\n",
              "      <td>1.963462e+03</td>\n",
              "      <td>37.486064</td>\n",
              "      <td>1800.0</td>\n",
              "      <td>1940.0</td>\n",
              "      <td>1970.0</td>\n",
              "      <td>1999.0</td>\n",
              "      <td>2018.0</td>\n",
              "    </tr>\n",
              "    <tr>\n",
              "      <th>Propertycount</th>\n",
              "      <td>11801.0</td>\n",
              "      <td>7.202939e+03</td>\n",
              "      <td>3858.302934</td>\n",
              "      <td>335.0</td>\n",
              "      <td>4380.0</td>\n",
              "      <td>6543.0</td>\n",
              "      <td>9758.0</td>\n",
              "      <td>17496.0</td>\n",
              "    </tr>\n",
              "  </tbody>\n",
              "</table>\n",
              "</div>"
            ],
            "text/plain": [
              "                 count          mean  ...        75%        max\n",
              "Rooms          11801.0  3.144140e+00  ...        4.0       12.0\n",
              "Price           9091.0  1.104256e+06  ...  1360000.0  9000000.0\n",
              "Distance       11801.0  1.102792e+01  ...       13.9       48.1\n",
              "Bedroom2       11801.0  3.119142e+00  ...        4.0       12.0\n",
              "Bathroom       11801.0  1.689094e+00  ...        2.0        9.0\n",
              "Car            11621.0  1.704242e+00  ...        2.0       26.0\n",
              "Landsize       11801.0  5.082568e+02  ...      657.0    17200.0\n",
              "BuildingArea   11801.0  1.552735e+02  ...      187.0      934.0\n",
              "YearBuilt      11389.0  1.963462e+03  ...     1999.0     2018.0\n",
              "Propertycount  11801.0  7.202939e+03  ...     9758.0    17496.0\n",
              "\n",
              "[10 rows x 8 columns]"
            ]
          },
          "metadata": {
            "tags": []
          },
          "execution_count": 26
        }
      ]
    },
    {
      "cell_type": "code",
      "metadata": {
        "id": "lSlzYrkIhM4i",
        "colab_type": "code",
        "colab": {
          "base_uri": "https://localhost:8080/",
          "height": 374
        },
        "outputId": "11f884c8-1b80-45c9-e96d-3f12de053818"
      },
      "source": [
        "plt.figure(figsize=(10,6))\n",
        "sns.boxplot(x=None,data=dataframe,y='Landsize')"
      ],
      "execution_count": 27,
      "outputs": [
        {
          "output_type": "execute_result",
          "data": {
            "text/plain": [
              "<matplotlib.axes._subplots.AxesSubplot at 0x7ff0aabad8d0>"
            ]
          },
          "metadata": {
            "tags": []
          },
          "execution_count": 27
        },
        {
          "output_type": "display_data",
          "data": {
            "image/png": "[encoded data removed]",
            "text/plain": [
              "<Figure size 720x432 with 1 Axes>"
            ]
          },
          "metadata": {
            "tags": [],
            "needs_background": "light"
          }
        }
      ]
    },
    {
      "cell_type": "markdown",
      "metadata": {
        "id": "JXKlNJvbHF20",
        "colab_type": "text"
      },
      "source": [
        "Examinar valores nulos"
      ]
    },
    {
      "cell_type": "code",
      "metadata": {
        "id": "VJrO6xp-HIaz",
        "colab_type": "code",
        "colab": {
          "base_uri": "https://localhost:8080/",
          "height": 357
        },
        "outputId": "fbbfb66e-cd36-45bd-9de9-e355bfdf4f19"
      },
      "source": [
        "dataframe.isna().sum()"
      ],
      "execution_count": 28,
      "outputs": [
        {
          "output_type": "execute_result",
          "data": {
            "text/plain": [
              "Suburb              0\n",
              "Address             0\n",
              "Rooms               0\n",
              "Type                0\n",
              "Price            2710\n",
              "Method              0\n",
              "SellerG             0\n",
              "Date                0\n",
              "Distance            0\n",
              "Postcode            0\n",
              "Bedroom2            0\n",
              "Bathroom            0\n",
              "Car               180\n",
              "Landsize            0\n",
              "BuildingArea        0\n",
              "YearBuilt         412\n",
              "CouncilArea         0\n",
              "Regionname          0\n",
              "Propertycount       0\n",
              "dtype: int64"
            ]
          },
          "metadata": {
            "tags": []
          },
          "execution_count": 28
        }
      ]
    },
    {
      "cell_type": "code",
      "metadata": {
        "id": "Hb3TaYCnHP0v",
        "colab_type": "code",
        "colab": {
          "base_uri": "https://localhost:8080/",
          "height": 34
        },
        "outputId": "401a0268-5779-4f1e-e7f4-e8eaaef6ba31"
      },
      "source": [
        "dataframe.shape"
      ],
      "execution_count": null,
      "outputs": [
        {
          "output_type": "execute_result",
          "data": {
            "text/plain": [
              "(11801, 19)"
            ]
          },
          "metadata": {
            "tags": []
          },
          "execution_count": 32
        }
      ]
    },
    {
      "cell_type": "markdown",
      "metadata": {
        "id": "CCR-nWsoJrRm",
        "colab_type": "text"
      },
      "source": [
        "Conocer la cantidad de valores en total por columna para proceder con el llenado de nulos."
      ]
    },
    {
      "cell_type": "code",
      "metadata": {
        "id": "Bk0HTKXSJ2ei",
        "colab_type": "code",
        "colab": {
          "base_uri": "https://localhost:8080/",
          "height": 221
        },
        "outputId": "3d2dfdb3-c9f8-44c5-d6ba-27594e5f952e"
      },
      "source": [
        "dataframe['Price'].value_counts(dropna=False)"
      ],
      "execution_count": 29,
      "outputs": [
        {
          "output_type": "execute_result",
          "data": {
            "text/plain": [
              "NaN          2710\n",
              "600000.0       87\n",
              "1300000.0      78\n",
              "1100000.0      68\n",
              "650000.0       67\n",
              "             ... \n",
              "904000.0        1\n",
              "3460000.0       1\n",
              "1557000.0       1\n",
              "1813000.0       1\n",
              "2545000.0       1\n",
              "Name: Price, Length: 1858, dtype: int64"
            ]
          },
          "metadata": {
            "tags": []
          },
          "execution_count": 29
        }
      ]
    },
    {
      "cell_type": "code",
      "metadata": {
        "id": "qQ1LwAadJ_tF",
        "colab_type": "code",
        "colab": {
          "base_uri": "https://localhost:8080/",
          "height": 221
        },
        "outputId": "1bd982fa-6457-4389-ff7f-979789222914"
      },
      "source": [
        "dataframe['YearBuilt'].value_counts(dropna=False)"
      ],
      "execution_count": 30,
      "outputs": [
        {
          "output_type": "execute_result",
          "data": {
            "text/plain": [
              "1970.0    1012\n",
              "1960.0     930\n",
              "1950.0     813\n",
              "1980.0     521\n",
              "1900.0     498\n",
              "          ... \n",
              "1830.0       1\n",
              "1894.0       1\n",
              "1884.0       1\n",
              "1855.0       1\n",
              "1942.0       1\n",
              "Name: YearBuilt, Length: 149, dtype: int64"
            ]
          },
          "metadata": {
            "tags": []
          },
          "execution_count": 30
        }
      ]
    },
    {
      "cell_type": "markdown",
      "metadata": {
        "id": "iKVjDBdIhhel",
        "colab_type": "text"
      },
      "source": [
        "Como hay demasiados valores nulos en el precio, seria un error llenarlos con el dato mas repetido, asi que la mejor estrategia es eliminar esas muestras"
      ]
    },
    {
      "cell_type": "code",
      "metadata": {
        "id": "cmLrm4czKIzL",
        "colab_type": "code",
        "colab": {
          "base_uri": "https://localhost:8080/",
          "height": 357
        },
        "outputId": "3a8e2666-643d-4485-c01f-844197ebb54e"
      },
      "source": [
        "dataframe.dropna(axis=0,subset=['Price'],inplace=True)\n",
        "dataframe.isna().sum()"
      ],
      "execution_count": 31,
      "outputs": [
        {
          "output_type": "execute_result",
          "data": {
            "text/plain": [
              "Suburb             0\n",
              "Address            0\n",
              "Rooms              0\n",
              "Type               0\n",
              "Price              0\n",
              "Method             0\n",
              "SellerG            0\n",
              "Date               0\n",
              "Distance           0\n",
              "Postcode           0\n",
              "Bedroom2           0\n",
              "Bathroom           0\n",
              "Car              136\n",
              "Landsize           0\n",
              "BuildingArea       0\n",
              "YearBuilt        331\n",
              "CouncilArea        0\n",
              "Regionname         0\n",
              "Propertycount      0\n",
              "dtype: int64"
            ]
          },
          "metadata": {
            "tags": []
          },
          "execution_count": 31
        }
      ]
    },
    {
      "cell_type": "markdown",
      "metadata": {
        "id": "5YsL700Z7sJe",
        "colab_type": "text"
      },
      "source": [
        "Lo que sigue es cambiar el tipo de variable de la fecha de venta para poder manipularla y asi integrarla con la fecha."
      ]
    },
    {
      "cell_type": "code",
      "metadata": {
        "id": "73ffXmvV75_n",
        "colab_type": "code",
        "colab": {
          "base_uri": "https://localhost:8080/",
          "height": 357
        },
        "outputId": "51d4ede1-660e-4017-9094-d27fa0331628"
      },
      "source": [
        "dataframe['Date']=dataframe['Date'].astype('datetime64[ns]')\n",
        "dataframe['Price']=dataframe['Price'].astype('int64')\n",
        "dataframe['Bathroom']=dataframe['Bathroom'].astype('int64')\n",
        "dataframe.dtypes"
      ],
      "execution_count": 32,
      "outputs": [
        {
          "output_type": "execute_result",
          "data": {
            "text/plain": [
              "Suburb                   object\n",
              "Address                  object\n",
              "Rooms                     int64\n",
              "Type                     object\n",
              "Price                     int64\n",
              "Method                   object\n",
              "SellerG                  object\n",
              "Date             datetime64[ns]\n",
              "Distance                float64\n",
              "Postcode               category\n",
              "Bedroom2                float64\n",
              "Bathroom                  int64\n",
              "Car                     float64\n",
              "Landsize                float64\n",
              "BuildingArea            float64\n",
              "YearBuilt               float64\n",
              "CouncilArea              object\n",
              "Regionname               object\n",
              "Propertycount           float64\n",
              "dtype: object"
            ]
          },
          "metadata": {
            "tags": []
          },
          "execution_count": 32
        }
      ]
    },
    {
      "cell_type": "code",
      "metadata": {
        "id": "Maxvcx7q8OQE",
        "colab_type": "code",
        "colab": {
          "base_uri": "https://localhost:8080/",
          "height": 326
        },
        "outputId": "f7072828-9619-4f86-b7b4-13b19fb216dd"
      },
      "source": [
        "dataframe['Date']=dataframe['Date'].dt.year\n",
        "dataframe.head()"
      ],
      "execution_count": 33,
      "outputs": [
        {
          "output_type": "execute_result",
          "data": {
            "text/html": [
              "<div>\n",
              "<style scoped>\n",
              "    .dataframe tbody tr th:only-of-type {\n",
              "        vertical-align: middle;\n",
              "    }\n",
              "\n",
              "    .dataframe tbody tr th {\n",
              "        vertical-align: top;\n",
              "    }\n",
              "\n",
              "    .dataframe thead th {\n",
              "        text-align: right;\n",
              "    }\n",
              "</style>\n",
              "<table border=\"1\" class=\"dataframe\">\n",
              "  <thead>\n",
              "    <tr style=\"text-align: right;\">\n",
              "      <th></th>\n",
              "      <th>Suburb</th>\n",
              "      <th>Address</th>\n",
              "      <th>Rooms</th>\n",
              "      <th>Type</th>\n",
              "      <th>Price</th>\n",
              "      <th>Method</th>\n",
              "      <th>SellerG</th>\n",
              "      <th>Date</th>\n",
              "      <th>Distance</th>\n",
              "      <th>Postcode</th>\n",
              "      <th>Bedroom2</th>\n",
              "      <th>Bathroom</th>\n",
              "      <th>Car</th>\n",
              "      <th>Landsize</th>\n",
              "      <th>BuildingArea</th>\n",
              "      <th>YearBuilt</th>\n",
              "      <th>CouncilArea</th>\n",
              "      <th>Regionname</th>\n",
              "      <th>Propertycount</th>\n",
              "    </tr>\n",
              "  </thead>\n",
              "  <tbody>\n",
              "    <tr>\n",
              "      <th>0</th>\n",
              "      <td>Abbotsford</td>\n",
              "      <td>25 Bloomburg St</td>\n",
              "      <td>2</td>\n",
              "      <td>h</td>\n",
              "      <td>1035000</td>\n",
              "      <td>S</td>\n",
              "      <td>Biggin</td>\n",
              "      <td>2016</td>\n",
              "      <td>2.5</td>\n",
              "      <td>3067.0</td>\n",
              "      <td>2.0</td>\n",
              "      <td>1</td>\n",
              "      <td>0.0</td>\n",
              "      <td>156.0</td>\n",
              "      <td>79.0</td>\n",
              "      <td>1900.0</td>\n",
              "      <td>Yarra City Council</td>\n",
              "      <td>Northern Metropolitan</td>\n",
              "      <td>4019.0</td>\n",
              "    </tr>\n",
              "    <tr>\n",
              "      <th>1</th>\n",
              "      <td>Abbotsford</td>\n",
              "      <td>5 Charles St</td>\n",
              "      <td>3</td>\n",
              "      <td>h</td>\n",
              "      <td>1465000</td>\n",
              "      <td>SP</td>\n",
              "      <td>Biggin</td>\n",
              "      <td>2017</td>\n",
              "      <td>2.5</td>\n",
              "      <td>3067.0</td>\n",
              "      <td>3.0</td>\n",
              "      <td>2</td>\n",
              "      <td>0.0</td>\n",
              "      <td>134.0</td>\n",
              "      <td>150.0</td>\n",
              "      <td>1900.0</td>\n",
              "      <td>Yarra City Council</td>\n",
              "      <td>Northern Metropolitan</td>\n",
              "      <td>4019.0</td>\n",
              "    </tr>\n",
              "    <tr>\n",
              "      <th>2</th>\n",
              "      <td>Abbotsford</td>\n",
              "      <td>55a Park St</td>\n",
              "      <td>4</td>\n",
              "      <td>h</td>\n",
              "      <td>1600000</td>\n",
              "      <td>VB</td>\n",
              "      <td>Nelson</td>\n",
              "      <td>2016</td>\n",
              "      <td>2.5</td>\n",
              "      <td>3067.0</td>\n",
              "      <td>3.0</td>\n",
              "      <td>1</td>\n",
              "      <td>2.0</td>\n",
              "      <td>120.0</td>\n",
              "      <td>142.0</td>\n",
              "      <td>2014.0</td>\n",
              "      <td>Yarra City Council</td>\n",
              "      <td>Northern Metropolitan</td>\n",
              "      <td>4019.0</td>\n",
              "    </tr>\n",
              "    <tr>\n",
              "      <th>4</th>\n",
              "      <td>Abbotsford</td>\n",
              "      <td>124 Yarra St</td>\n",
              "      <td>3</td>\n",
              "      <td>h</td>\n",
              "      <td>1876000</td>\n",
              "      <td>S</td>\n",
              "      <td>Nelson</td>\n",
              "      <td>2016</td>\n",
              "      <td>2.5</td>\n",
              "      <td>3067.0</td>\n",
              "      <td>4.0</td>\n",
              "      <td>2</td>\n",
              "      <td>0.0</td>\n",
              "      <td>245.0</td>\n",
              "      <td>210.0</td>\n",
              "      <td>1910.0</td>\n",
              "      <td>Yarra City Council</td>\n",
              "      <td>Northern Metropolitan</td>\n",
              "      <td>4019.0</td>\n",
              "    </tr>\n",
              "    <tr>\n",
              "      <th>7</th>\n",
              "      <td>Abbotsford</td>\n",
              "      <td>98 Charles St</td>\n",
              "      <td>2</td>\n",
              "      <td>h</td>\n",
              "      <td>1636000</td>\n",
              "      <td>S</td>\n",
              "      <td>Nelson</td>\n",
              "      <td>2016</td>\n",
              "      <td>2.5</td>\n",
              "      <td>3067.0</td>\n",
              "      <td>2.0</td>\n",
              "      <td>1</td>\n",
              "      <td>2.0</td>\n",
              "      <td>256.0</td>\n",
              "      <td>107.0</td>\n",
              "      <td>1890.0</td>\n",
              "      <td>Yarra City Council</td>\n",
              "      <td>Northern Metropolitan</td>\n",
              "      <td>4019.0</td>\n",
              "    </tr>\n",
              "  </tbody>\n",
              "</table>\n",
              "</div>"
            ],
            "text/plain": [
              "       Suburb          Address  ...             Regionname Propertycount\n",
              "0  Abbotsford  25 Bloomburg St  ...  Northern Metropolitan        4019.0\n",
              "1  Abbotsford     5 Charles St  ...  Northern Metropolitan        4019.0\n",
              "2  Abbotsford      55a Park St  ...  Northern Metropolitan        4019.0\n",
              "4  Abbotsford     124 Yarra St  ...  Northern Metropolitan        4019.0\n",
              "7  Abbotsford    98 Charles St  ...  Northern Metropolitan        4019.0\n",
              "\n",
              "[5 rows x 19 columns]"
            ]
          },
          "metadata": {
            "tags": []
          },
          "execution_count": 33
        }
      ]
    },
    {
      "cell_type": "markdown",
      "metadata": {
        "id": "TNoK18sQA2VT",
        "colab_type": "text"
      },
      "source": [
        "Para llenar la caracteristica de numero de garajes, se llena con el mas frecuente y no por la media ya que esta caracteristica no puede ser decimal."
      ]
    },
    {
      "cell_type": "markdown",
      "metadata": {
        "id": "YzKonEkABx3L",
        "colab_type": "text"
      },
      "source": [
        "El año de construccion se llenara con la moda."
      ]
    },
    {
      "cell_type": "markdown",
      "metadata": {
        "id": "XSWIZ1aOCGWy",
        "colab_type": "text"
      },
      "source": [
        "Como hay muchos mas valores nulos que de las otras muestras en la caracteristica del precio sera mejor eliminar esas muestras."
      ]
    },
    {
      "cell_type": "markdown",
      "metadata": {
        "id": "29FNPq7UCjaz",
        "colab_type": "text"
      },
      "source": [
        "Se va a crear una caracteristica nueva llamada Age que es la resta de la fecha de venta y de construccion, otra caracteristica sera el area total que sera la suma del area construida y no construida."
      ]
    },
    {
      "cell_type": "code",
      "metadata": {
        "id": "xUpim0QVC8Ep",
        "colab_type": "code",
        "colab": {
          "base_uri": "https://localhost:8080/",
          "height": 357
        },
        "outputId": "43c68ec1-d17f-4ddb-cc68-64c161469e42"
      },
      "source": [
        "dataframe['YearBuilt'].fillna(value=dataframe['YearBuilt'].mode()[0],inplace=True)\n",
        "dataframe['YearBuilt']=dataframe['YearBuilt'].astype('int64')\n",
        "dataframe.dtypes"
      ],
      "execution_count": 34,
      "outputs": [
        {
          "output_type": "execute_result",
          "data": {
            "text/plain": [
              "Suburb             object\n",
              "Address            object\n",
              "Rooms               int64\n",
              "Type               object\n",
              "Price               int64\n",
              "Method             object\n",
              "SellerG            object\n",
              "Date                int64\n",
              "Distance          float64\n",
              "Postcode         category\n",
              "Bedroom2          float64\n",
              "Bathroom            int64\n",
              "Car               float64\n",
              "Landsize          float64\n",
              "BuildingArea      float64\n",
              "YearBuilt           int64\n",
              "CouncilArea        object\n",
              "Regionname         object\n",
              "Propertycount     float64\n",
              "dtype: object"
            ]
          },
          "metadata": {
            "tags": []
          },
          "execution_count": 34
        }
      ]
    },
    {
      "cell_type": "code",
      "metadata": {
        "id": "grW7dslh8Br5",
        "colab_type": "code",
        "colab": {
          "base_uri": "https://localhost:8080/",
          "height": 357
        },
        "outputId": "31127644-2e4d-4e55-faff-822839e05d3e"
      },
      "source": [
        "dataframe.isna().sum()"
      ],
      "execution_count": null,
      "outputs": [
        {
          "output_type": "execute_result",
          "data": {
            "text/plain": [
              "Suburb             0\n",
              "Address            0\n",
              "Rooms              0\n",
              "Type               0\n",
              "Price              0\n",
              "Method             0\n",
              "SellerG            0\n",
              "Date               0\n",
              "Distance           0\n",
              "Postcode           0\n",
              "Bedroom2           0\n",
              "Bathroom           0\n",
              "Car              136\n",
              "Landsize           0\n",
              "BuildingArea       0\n",
              "YearBuilt          0\n",
              "CouncilArea        0\n",
              "Regionname         0\n",
              "Propertycount      0\n",
              "dtype: int64"
            ]
          },
          "metadata": {
            "tags": []
          },
          "execution_count": 41
        }
      ]
    },
    {
      "cell_type": "code",
      "metadata": {
        "id": "KnVetYi5EISc",
        "colab_type": "code",
        "colab": {
          "base_uri": "https://localhost:8080/",
          "height": 326
        },
        "outputId": "74d7b61a-39bc-4896-8803-6b3bbbd8b867"
      },
      "source": [
        "dataframe['Age']=dataframe['Date']- dataframe['YearBuilt']\n",
        "dataframe['TotalArea']=dataframe['Landsize']+dataframe['BuildingArea']\n",
        "dataframe.head()"
      ],
      "execution_count": 35,
      "outputs": [
        {
          "output_type": "execute_result",
          "data": {
            "text/html": [
              "<div>\n",
              "<style scoped>\n",
              "    .dataframe tbody tr th:only-of-type {\n",
              "        vertical-align: middle;\n",
              "    }\n",
              "\n",
              "    .dataframe tbody tr th {\n",
              "        vertical-align: top;\n",
              "    }\n",
              "\n",
              "    .dataframe thead th {\n",
              "        text-align: right;\n",
              "    }\n",
              "</style>\n",
              "<table border=\"1\" class=\"dataframe\">\n",
              "  <thead>\n",
              "    <tr style=\"text-align: right;\">\n",
              "      <th></th>\n",
              "      <th>Suburb</th>\n",
              "      <th>Address</th>\n",
              "      <th>Rooms</th>\n",
              "      <th>Type</th>\n",
              "      <th>Price</th>\n",
              "      <th>Method</th>\n",
              "      <th>SellerG</th>\n",
              "      <th>Date</th>\n",
              "      <th>Distance</th>\n",
              "      <th>Postcode</th>\n",
              "      <th>Bedroom2</th>\n",
              "      <th>Bathroom</th>\n",
              "      <th>Car</th>\n",
              "      <th>Landsize</th>\n",
              "      <th>BuildingArea</th>\n",
              "      <th>YearBuilt</th>\n",
              "      <th>CouncilArea</th>\n",
              "      <th>Regionname</th>\n",
              "      <th>Propertycount</th>\n",
              "      <th>Age</th>\n",
              "      <th>TotalArea</th>\n",
              "    </tr>\n",
              "  </thead>\n",
              "  <tbody>\n",
              "    <tr>\n",
              "      <th>0</th>\n",
              "      <td>Abbotsford</td>\n",
              "      <td>25 Bloomburg St</td>\n",
              "      <td>2</td>\n",
              "      <td>h</td>\n",
              "      <td>1035000</td>\n",
              "      <td>S</td>\n",
              "      <td>Biggin</td>\n",
              "      <td>2016</td>\n",
              "      <td>2.5</td>\n",
              "      <td>3067.0</td>\n",
              "      <td>2.0</td>\n",
              "      <td>1</td>\n",
              "      <td>0.0</td>\n",
              "      <td>156.0</td>\n",
              "      <td>79.0</td>\n",
              "      <td>1900</td>\n",
              "      <td>Yarra City Council</td>\n",
              "      <td>Northern Metropolitan</td>\n",
              "      <td>4019.0</td>\n",
              "      <td>116</td>\n",
              "      <td>235.0</td>\n",
              "    </tr>\n",
              "    <tr>\n",
              "      <th>1</th>\n",
              "      <td>Abbotsford</td>\n",
              "      <td>5 Charles St</td>\n",
              "      <td>3</td>\n",
              "      <td>h</td>\n",
              "      <td>1465000</td>\n",
              "      <td>SP</td>\n",
              "      <td>Biggin</td>\n",
              "      <td>2017</td>\n",
              "      <td>2.5</td>\n",
              "      <td>3067.0</td>\n",
              "      <td>3.0</td>\n",
              "      <td>2</td>\n",
              "      <td>0.0</td>\n",
              "      <td>134.0</td>\n",
              "      <td>150.0</td>\n",
              "      <td>1900</td>\n",
              "      <td>Yarra City Council</td>\n",
              "      <td>Northern Metropolitan</td>\n",
              "      <td>4019.0</td>\n",
              "      <td>117</td>\n",
              "      <td>284.0</td>\n",
              "    </tr>\n",
              "    <tr>\n",
              "      <th>2</th>\n",
              "      <td>Abbotsford</td>\n",
              "      <td>55a Park St</td>\n",
              "      <td>4</td>\n",
              "      <td>h</td>\n",
              "      <td>1600000</td>\n",
              "      <td>VB</td>\n",
              "      <td>Nelson</td>\n",
              "      <td>2016</td>\n",
              "      <td>2.5</td>\n",
              "      <td>3067.0</td>\n",
              "      <td>3.0</td>\n",
              "      <td>1</td>\n",
              "      <td>2.0</td>\n",
              "      <td>120.0</td>\n",
              "      <td>142.0</td>\n",
              "      <td>2014</td>\n",
              "      <td>Yarra City Council</td>\n",
              "      <td>Northern Metropolitan</td>\n",
              "      <td>4019.0</td>\n",
              "      <td>2</td>\n",
              "      <td>262.0</td>\n",
              "    </tr>\n",
              "    <tr>\n",
              "      <th>4</th>\n",
              "      <td>Abbotsford</td>\n",
              "      <td>124 Yarra St</td>\n",
              "      <td>3</td>\n",
              "      <td>h</td>\n",
              "      <td>1876000</td>\n",
              "      <td>S</td>\n",
              "      <td>Nelson</td>\n",
              "      <td>2016</td>\n",
              "      <td>2.5</td>\n",
              "      <td>3067.0</td>\n",
              "      <td>4.0</td>\n",
              "      <td>2</td>\n",
              "      <td>0.0</td>\n",
              "      <td>245.0</td>\n",
              "      <td>210.0</td>\n",
              "      <td>1910</td>\n",
              "      <td>Yarra City Council</td>\n",
              "      <td>Northern Metropolitan</td>\n",
              "      <td>4019.0</td>\n",
              "      <td>106</td>\n",
              "      <td>455.0</td>\n",
              "    </tr>\n",
              "    <tr>\n",
              "      <th>7</th>\n",
              "      <td>Abbotsford</td>\n",
              "      <td>98 Charles St</td>\n",
              "      <td>2</td>\n",
              "      <td>h</td>\n",
              "      <td>1636000</td>\n",
              "      <td>S</td>\n",
              "      <td>Nelson</td>\n",
              "      <td>2016</td>\n",
              "      <td>2.5</td>\n",
              "      <td>3067.0</td>\n",
              "      <td>2.0</td>\n",
              "      <td>1</td>\n",
              "      <td>2.0</td>\n",
              "      <td>256.0</td>\n",
              "      <td>107.0</td>\n",
              "      <td>1890</td>\n",
              "      <td>Yarra City Council</td>\n",
              "      <td>Northern Metropolitan</td>\n",
              "      <td>4019.0</td>\n",
              "      <td>126</td>\n",
              "      <td>363.0</td>\n",
              "    </tr>\n",
              "  </tbody>\n",
              "</table>\n",
              "</div>"
            ],
            "text/plain": [
              "       Suburb          Address  Rooms  ... Propertycount  Age TotalArea\n",
              "0  Abbotsford  25 Bloomburg St      2  ...        4019.0  116     235.0\n",
              "1  Abbotsford     5 Charles St      3  ...        4019.0  117     284.0\n",
              "2  Abbotsford      55a Park St      4  ...        4019.0    2     262.0\n",
              "4  Abbotsford     124 Yarra St      3  ...        4019.0  106     455.0\n",
              "7  Abbotsford    98 Charles St      2  ...        4019.0  126     363.0\n",
              "\n",
              "[5 rows x 21 columns]"
            ]
          },
          "metadata": {
            "tags": []
          },
          "execution_count": 35
        }
      ]
    },
    {
      "cell_type": "markdown",
      "metadata": {
        "id": "smlXquXIFNcq",
        "colab_type": "text"
      },
      "source": [
        "## **Seleccion de Caracteristicas**"
      ]
    },
    {
      "cell_type": "code",
      "metadata": {
        "id": "86BcsJW0Hb8a",
        "colab_type": "code",
        "colab": {
          "base_uri": "https://localhost:8080/",
          "height": 452
        },
        "outputId": "95b840d0-bcac-4cba-b2e2-8e852dc13695"
      },
      "source": [
        "dataframe.describe().T"
      ],
      "execution_count": 36,
      "outputs": [
        {
          "output_type": "execute_result",
          "data": {
            "text/html": [
              "<div>\n",
              "<style scoped>\n",
              "    .dataframe tbody tr th:only-of-type {\n",
              "        vertical-align: middle;\n",
              "    }\n",
              "\n",
              "    .dataframe tbody tr th {\n",
              "        vertical-align: top;\n",
              "    }\n",
              "\n",
              "    .dataframe thead th {\n",
              "        text-align: right;\n",
              "    }\n",
              "</style>\n",
              "<table border=\"1\" class=\"dataframe\">\n",
              "  <thead>\n",
              "    <tr style=\"text-align: right;\">\n",
              "      <th></th>\n",
              "      <th>count</th>\n",
              "      <th>mean</th>\n",
              "      <th>std</th>\n",
              "      <th>min</th>\n",
              "      <th>25%</th>\n",
              "      <th>50%</th>\n",
              "      <th>75%</th>\n",
              "      <th>max</th>\n",
              "    </tr>\n",
              "  </thead>\n",
              "  <tbody>\n",
              "    <tr>\n",
              "      <th>Rooms</th>\n",
              "      <td>9091.0</td>\n",
              "      <td>3.101309e+00</td>\n",
              "      <td>0.963109</td>\n",
              "      <td>1.0</td>\n",
              "      <td>2.00</td>\n",
              "      <td>3.0</td>\n",
              "      <td>4.000</td>\n",
              "      <td>12.0</td>\n",
              "    </tr>\n",
              "    <tr>\n",
              "      <th>Price</th>\n",
              "      <td>9091.0</td>\n",
              "      <td>1.104256e+06</td>\n",
              "      <td>680721.831474</td>\n",
              "      <td>131000.0</td>\n",
              "      <td>650000.00</td>\n",
              "      <td>910000.0</td>\n",
              "      <td>1360000.000</td>\n",
              "      <td>9000000.0</td>\n",
              "    </tr>\n",
              "    <tr>\n",
              "      <th>Date</th>\n",
              "      <td>9091.0</td>\n",
              "      <td>2.016739e+03</td>\n",
              "      <td>0.661045</td>\n",
              "      <td>2016.0</td>\n",
              "      <td>2016.00</td>\n",
              "      <td>2017.0</td>\n",
              "      <td>2017.000</td>\n",
              "      <td>2018.0</td>\n",
              "    </tr>\n",
              "    <tr>\n",
              "      <th>Distance</th>\n",
              "      <td>9091.0</td>\n",
              "      <td>1.115157e+01</td>\n",
              "      <td>6.918003</td>\n",
              "      <td>0.0</td>\n",
              "      <td>6.35</td>\n",
              "      <td>9.9</td>\n",
              "      <td>14.000</td>\n",
              "      <td>47.4</td>\n",
              "    </tr>\n",
              "    <tr>\n",
              "      <th>Bedroom2</th>\n",
              "      <td>9091.0</td>\n",
              "      <td>3.080299e+00</td>\n",
              "      <td>0.966398</td>\n",
              "      <td>0.0</td>\n",
              "      <td>2.00</td>\n",
              "      <td>3.0</td>\n",
              "      <td>4.000</td>\n",
              "      <td>12.0</td>\n",
              "    </tr>\n",
              "    <tr>\n",
              "      <th>Bathroom</th>\n",
              "      <td>9091.0</td>\n",
              "      <td>1.655373e+00</td>\n",
              "      <td>0.726012</td>\n",
              "      <td>1.0</td>\n",
              "      <td>1.00</td>\n",
              "      <td>2.0</td>\n",
              "      <td>2.000</td>\n",
              "      <td>9.0</td>\n",
              "    </tr>\n",
              "    <tr>\n",
              "      <th>Car</th>\n",
              "      <td>8955.0</td>\n",
              "      <td>1.692686e+00</td>\n",
              "      <td>0.969162</td>\n",
              "      <td>0.0</td>\n",
              "      <td>1.00</td>\n",
              "      <td>2.0</td>\n",
              "      <td>2.000</td>\n",
              "      <td>10.0</td>\n",
              "    </tr>\n",
              "    <tr>\n",
              "      <th>Landsize</th>\n",
              "      <td>9091.0</td>\n",
              "      <td>5.005764e+02</td>\n",
              "      <td>676.924272</td>\n",
              "      <td>0.0</td>\n",
              "      <td>208.00</td>\n",
              "      <td>468.0</td>\n",
              "      <td>651.000</td>\n",
              "      <td>17200.0</td>\n",
              "    </tr>\n",
              "    <tr>\n",
              "      <th>BuildingArea</th>\n",
              "      <td>9091.0</td>\n",
              "      <td>1.510926e+02</td>\n",
              "      <td>83.083481</td>\n",
              "      <td>3.0</td>\n",
              "      <td>100.00</td>\n",
              "      <td>133.0</td>\n",
              "      <td>181.000</td>\n",
              "      <td>934.0</td>\n",
              "    </tr>\n",
              "    <tr>\n",
              "      <th>YearBuilt</th>\n",
              "      <td>9091.0</td>\n",
              "      <td>1.965059e+03</td>\n",
              "      <td>36.078914</td>\n",
              "      <td>1830.0</td>\n",
              "      <td>1945.00</td>\n",
              "      <td>1970.0</td>\n",
              "      <td>1998.000</td>\n",
              "      <td>2018.0</td>\n",
              "    </tr>\n",
              "    <tr>\n",
              "      <th>Propertycount</th>\n",
              "      <td>9091.0</td>\n",
              "      <td>7.151452e+03</td>\n",
              "      <td>3872.452104</td>\n",
              "      <td>389.0</td>\n",
              "      <td>4280.00</td>\n",
              "      <td>6482.0</td>\n",
              "      <td>9264.000</td>\n",
              "      <td>17496.0</td>\n",
              "    </tr>\n",
              "    <tr>\n",
              "      <th>Age</th>\n",
              "      <td>9091.0</td>\n",
              "      <td>5.167990e+01</td>\n",
              "      <td>36.021932</td>\n",
              "      <td>-2.0</td>\n",
              "      <td>19.00</td>\n",
              "      <td>47.0</td>\n",
              "      <td>72.000</td>\n",
              "      <td>186.0</td>\n",
              "    </tr>\n",
              "    <tr>\n",
              "      <th>TotalArea</th>\n",
              "      <td>9091.0</td>\n",
              "      <td>6.516690e+02</td>\n",
              "      <td>693.004618</td>\n",
              "      <td>3.0</td>\n",
              "      <td>329.00</td>\n",
              "      <td>631.0</td>\n",
              "      <td>828.635</td>\n",
              "      <td>17279.0</td>\n",
              "    </tr>\n",
              "  </tbody>\n",
              "</table>\n",
              "</div>"
            ],
            "text/plain": [
              "                count          mean  ...          75%        max\n",
              "Rooms          9091.0  3.101309e+00  ...        4.000       12.0\n",
              "Price          9091.0  1.104256e+06  ...  1360000.000  9000000.0\n",
              "Date           9091.0  2.016739e+03  ...     2017.000     2018.0\n",
              "Distance       9091.0  1.115157e+01  ...       14.000       47.4\n",
              "Bedroom2       9091.0  3.080299e+00  ...        4.000       12.0\n",
              "Bathroom       9091.0  1.655373e+00  ...        2.000        9.0\n",
              "Car            8955.0  1.692686e+00  ...        2.000       10.0\n",
              "Landsize       9091.0  5.005764e+02  ...      651.000    17200.0\n",
              "BuildingArea   9091.0  1.510926e+02  ...      181.000      934.0\n",
              "YearBuilt      9091.0  1.965059e+03  ...     1998.000     2018.0\n",
              "Propertycount  9091.0  7.151452e+03  ...     9264.000    17496.0\n",
              "Age            9091.0  5.167990e+01  ...       72.000      186.0\n",
              "TotalArea      9091.0  6.516690e+02  ...      828.635    17279.0\n",
              "\n",
              "[13 rows x 8 columns]"
            ]
          },
          "metadata": {
            "tags": []
          },
          "execution_count": 36
        }
      ]
    },
    {
      "cell_type": "markdown",
      "metadata": {
        "id": "-JjtZJjejh-J",
        "colab_type": "text"
      },
      "source": [
        "En la descripcion se puede ver que hay edades negativos lo que no tiene sentido, asi que mejor sera eliminarlos."
      ]
    },
    {
      "cell_type": "code",
      "metadata": {
        "id": "3eyTIMXKjLkp",
        "colab_type": "code",
        "colab": {
          "base_uri": "https://localhost:8080/",
          "height": 452
        },
        "outputId": "87a2a2c1-c8cf-4c0c-fc50-70ac0d15ad83"
      },
      "source": [
        "dataframe=dataframe.loc[dataframe.Age>0]\n",
        "dataframe.describe().T"
      ],
      "execution_count": 37,
      "outputs": [
        {
          "output_type": "execute_result",
          "data": {
            "text/html": [
              "<div>\n",
              "<style scoped>\n",
              "    .dataframe tbody tr th:only-of-type {\n",
              "        vertical-align: middle;\n",
              "    }\n",
              "\n",
              "    .dataframe tbody tr th {\n",
              "        vertical-align: top;\n",
              "    }\n",
              "\n",
              "    .dataframe thead th {\n",
              "        text-align: right;\n",
              "    }\n",
              "</style>\n",
              "<table border=\"1\" class=\"dataframe\">\n",
              "  <thead>\n",
              "    <tr style=\"text-align: right;\">\n",
              "      <th></th>\n",
              "      <th>count</th>\n",
              "      <th>mean</th>\n",
              "      <th>std</th>\n",
              "      <th>min</th>\n",
              "      <th>25%</th>\n",
              "      <th>50%</th>\n",
              "      <th>75%</th>\n",
              "      <th>max</th>\n",
              "    </tr>\n",
              "  </thead>\n",
              "  <tbody>\n",
              "    <tr>\n",
              "      <th>Rooms</th>\n",
              "      <td>9035.0</td>\n",
              "      <td>3.099059e+00</td>\n",
              "      <td>0.962798</td>\n",
              "      <td>1.0</td>\n",
              "      <td>2.0</td>\n",
              "      <td>3.0</td>\n",
              "      <td>4.0</td>\n",
              "      <td>12.0</td>\n",
              "    </tr>\n",
              "    <tr>\n",
              "      <th>Price</th>\n",
              "      <td>9035.0</td>\n",
              "      <td>1.102456e+06</td>\n",
              "      <td>679638.934005</td>\n",
              "      <td>131000.0</td>\n",
              "      <td>650000.0</td>\n",
              "      <td>907000.0</td>\n",
              "      <td>1354500.0</td>\n",
              "      <td>9000000.0</td>\n",
              "    </tr>\n",
              "    <tr>\n",
              "      <th>Date</th>\n",
              "      <td>9035.0</td>\n",
              "      <td>2.016740e+03</td>\n",
              "      <td>0.661270</td>\n",
              "      <td>2016.0</td>\n",
              "      <td>2016.0</td>\n",
              "      <td>2017.0</td>\n",
              "      <td>2017.0</td>\n",
              "      <td>2018.0</td>\n",
              "    </tr>\n",
              "    <tr>\n",
              "      <th>Distance</th>\n",
              "      <td>9035.0</td>\n",
              "      <td>1.115976e+01</td>\n",
              "      <td>6.932452</td>\n",
              "      <td>0.0</td>\n",
              "      <td>6.3</td>\n",
              "      <td>9.9</td>\n",
              "      <td>14.0</td>\n",
              "      <td>47.4</td>\n",
              "    </tr>\n",
              "    <tr>\n",
              "      <th>Bedroom2</th>\n",
              "      <td>9035.0</td>\n",
              "      <td>3.077255e+00</td>\n",
              "      <td>0.965653</td>\n",
              "      <td>0.0</td>\n",
              "      <td>2.0</td>\n",
              "      <td>3.0</td>\n",
              "      <td>4.0</td>\n",
              "      <td>12.0</td>\n",
              "    </tr>\n",
              "    <tr>\n",
              "      <th>Bathroom</th>\n",
              "      <td>9035.0</td>\n",
              "      <td>1.649585e+00</td>\n",
              "      <td>0.721640</td>\n",
              "      <td>1.0</td>\n",
              "      <td>1.0</td>\n",
              "      <td>2.0</td>\n",
              "      <td>2.0</td>\n",
              "      <td>9.0</td>\n",
              "    </tr>\n",
              "    <tr>\n",
              "      <th>Car</th>\n",
              "      <td>8899.0</td>\n",
              "      <td>1.692662e+00</td>\n",
              "      <td>0.970712</td>\n",
              "      <td>0.0</td>\n",
              "      <td>1.0</td>\n",
              "      <td>2.0</td>\n",
              "      <td>2.0</td>\n",
              "      <td>10.0</td>\n",
              "    </tr>\n",
              "    <tr>\n",
              "      <th>Landsize</th>\n",
              "      <td>9035.0</td>\n",
              "      <td>5.009043e+02</td>\n",
              "      <td>678.803652</td>\n",
              "      <td>0.0</td>\n",
              "      <td>207.0</td>\n",
              "      <td>468.0</td>\n",
              "      <td>651.0</td>\n",
              "      <td>17200.0</td>\n",
              "    </tr>\n",
              "    <tr>\n",
              "      <th>BuildingArea</th>\n",
              "      <td>9035.0</td>\n",
              "      <td>1.506264e+02</td>\n",
              "      <td>82.821833</td>\n",
              "      <td>3.0</td>\n",
              "      <td>100.0</td>\n",
              "      <td>133.0</td>\n",
              "      <td>181.0</td>\n",
              "      <td>934.0</td>\n",
              "    </tr>\n",
              "    <tr>\n",
              "      <th>YearBuilt</th>\n",
              "      <td>9035.0</td>\n",
              "      <td>1.964740e+03</td>\n",
              "      <td>35.960350</td>\n",
              "      <td>1830.0</td>\n",
              "      <td>1942.5</td>\n",
              "      <td>1970.0</td>\n",
              "      <td>1997.0</td>\n",
              "      <td>2017.0</td>\n",
              "    </tr>\n",
              "    <tr>\n",
              "      <th>Propertycount</th>\n",
              "      <td>9035.0</td>\n",
              "      <td>7.154970e+03</td>\n",
              "      <td>3872.920571</td>\n",
              "      <td>389.0</td>\n",
              "      <td>4280.0</td>\n",
              "      <td>6482.0</td>\n",
              "      <td>9264.0</td>\n",
              "      <td>17496.0</td>\n",
              "    </tr>\n",
              "    <tr>\n",
              "      <th>Age</th>\n",
              "      <td>9035.0</td>\n",
              "      <td>5.200089e+01</td>\n",
              "      <td>35.901179</td>\n",
              "      <td>1.0</td>\n",
              "      <td>20.0</td>\n",
              "      <td>47.0</td>\n",
              "      <td>74.5</td>\n",
              "      <td>186.0</td>\n",
              "    </tr>\n",
              "    <tr>\n",
              "      <th>TotalArea</th>\n",
              "      <td>9035.0</td>\n",
              "      <td>6.515307e+02</td>\n",
              "      <td>694.842589</td>\n",
              "      <td>3.0</td>\n",
              "      <td>328.0</td>\n",
              "      <td>631.0</td>\n",
              "      <td>828.0</td>\n",
              "      <td>17279.0</td>\n",
              "    </tr>\n",
              "  </tbody>\n",
              "</table>\n",
              "</div>"
            ],
            "text/plain": [
              "                count          mean  ...        75%        max\n",
              "Rooms          9035.0  3.099059e+00  ...        4.0       12.0\n",
              "Price          9035.0  1.102456e+06  ...  1354500.0  9000000.0\n",
              "Date           9035.0  2.016740e+03  ...     2017.0     2018.0\n",
              "Distance       9035.0  1.115976e+01  ...       14.0       47.4\n",
              "Bedroom2       9035.0  3.077255e+00  ...        4.0       12.0\n",
              "Bathroom       9035.0  1.649585e+00  ...        2.0        9.0\n",
              "Car            8899.0  1.692662e+00  ...        2.0       10.0\n",
              "Landsize       9035.0  5.009043e+02  ...      651.0    17200.0\n",
              "BuildingArea   9035.0  1.506264e+02  ...      181.0      934.0\n",
              "YearBuilt      9035.0  1.964740e+03  ...     1997.0     2017.0\n",
              "Propertycount  9035.0  7.154970e+03  ...     9264.0    17496.0\n",
              "Age            9035.0  5.200089e+01  ...       74.5      186.0\n",
              "TotalArea      9035.0  6.515307e+02  ...      828.0    17279.0\n",
              "\n",
              "[13 rows x 8 columns]"
            ]
          },
          "metadata": {
            "tags": []
          },
          "execution_count": 37
        }
      ]
    },
    {
      "cell_type": "markdown",
      "metadata": {
        "id": "7EbQZ2qtHadH",
        "colab_type": "text"
      },
      "source": [
        "Despues de haber manipulado los datos nulos, lo que sigue es seleccionar las caracteristicas, ya sea eliminando o creando una nueva a partir de las existentes.\\\n",
        "Con respecto a las caracteristicas de Suburb, Address, Regionname and Council Area estan relacionadas con la ubicación, entonces para evitar redundancias en esa categoria solo se usara la columna de la Region. \\\n",
        "Con las columnas de LandSize y BuildingArea como se refieren a tamaño se creara una columna nueva que sea la suma de estas 2 y se eliminaran las otras 2. \\\n",
        "La antiguedad de la casa es muy importante a la hora de dar el precio es importante y para eso se debe tener en cuenta tanto el año de construccion como el año en que se vendio, asi que se creara una columna que sea la resta  y se eliminan las otras 2. \\\n",
        "Como la agencia de ventas no es tan crucial a la hora de dar el precio a una casa, entonces la columna  SellerG se elimina."
      ]
    },
    {
      "cell_type": "markdown",
      "metadata": {
        "id": "H33KXB0BLrVE",
        "colab_type": "text"
      },
      "source": [
        "Como aun existen variables cualitativas y no se pueden escoger todas, por medio de las graficas de violinplot se puede conocer la relación y la influencia de estas en el precio"
      ]
    },
    {
      "cell_type": "code",
      "metadata": {
        "id": "bzlE8z9hsypD",
        "colab_type": "code",
        "colab": {
          "base_uri": "https://localhost:8080/",
          "height": 546
        },
        "outputId": "cb401d9d-e219-41eb-d6e5-c4ced3614ba0"
      },
      "source": [
        "#Conocer la relacion existente entre la region y el precio\n",
        "fig, ax=plt.subplots(figsize=(10,6))\n",
        "sns.violinplot(data=dataframe,x='Regionname',y='Price',ax=ax)\n",
        "ax.tick_params(labelrotation=90)"
      ],
      "execution_count": null,
      "outputs": [
        {
          "output_type": "display_data",
          "data": {
            "image/png": "[encoded data removed]",
            "text/plain": [
              "<Figure size 720x432 with 1 Axes>"
            ]
          },
          "metadata": {
            "tags": [],
            "needs_background": "light"
          }
        }
      ]
    },
    {
      "cell_type": "markdown",
      "metadata": {
        "id": "yEOgV85MMlfB",
        "colab_type": "text"
      },
      "source": [
        "Se puede ver que la region influye en el precio porque en cada concentración de datos tiene un valor de precio"
      ]
    },
    {
      "cell_type": "code",
      "metadata": {
        "id": "HkT3lefIkNsH",
        "colab_type": "code",
        "colab": {
          "base_uri": "https://localhost:8080/",
          "height": 574
        },
        "outputId": "85721e7e-d45a-4b8a-d09b-08bcbb571bcc"
      },
      "source": [
        "fig, ax=plt.subplots(figsize=(10,6))\n",
        "sns.violinplot(data=dataframe,x='CouncilArea',y='Price',ax=ax)\n",
        "ax.tick_params(labelrotation=90)"
      ],
      "execution_count": null,
      "outputs": [
        {
          "output_type": "display_data",
          "data": {
            "image/png": "[encoded data removed]",
            "text/plain": [
              "<Figure size 720x432 with 1 Axes>"
            ]
          },
          "metadata": {
            "tags": [],
            "needs_background": "light"
          }
        }
      ]
    },
    {
      "cell_type": "markdown",
      "metadata": {
        "id": "-tzH7N5gkv-Q",
        "colab_type": "text"
      },
      "source": [
        "El area administrativa esta relacionada con el precio de la casa como se puede ver en la grafica anterior"
      ]
    },
    {
      "cell_type": "code",
      "metadata": {
        "id": "QDYA_guPP_VH",
        "colab_type": "code",
        "colab": {
          "base_uri": "https://localhost:8080/",
          "height": 410
        },
        "outputId": "b3dc738a-c784-4ebd-9b43-8e89b737116a"
      },
      "source": [
        "fig, ax=plt.subplots(figsize=(15,6))\n",
        "sns.violinplot(data=dataframe,x='Method',y='Price',ax=ax)#Conocer la relacion existente entre El method y el precio\n",
        "ax.tick_params(labelrotation=90)"
      ],
      "execution_count": null,
      "outputs": [
        {
          "output_type": "display_data",
          "data": {
            "image/png": "[encoded data removed]",
            "text/plain": [
              "<Figure size 1080x432 with 1 Axes>"
            ]
          },
          "metadata": {
            "tags": [],
            "needs_background": "light"
          }
        }
      ]
    },
    {
      "cell_type": "markdown",
      "metadata": {
        "id": "5I142wE9QQqH",
        "colab_type": "text"
      },
      "source": [
        "Esta variable anterior se podria descartar porque sus concentraciones con respecto a los precios son parecidas"
      ]
    },
    {
      "cell_type": "code",
      "metadata": {
        "colab_type": "code",
        "id": "aGFD9ufvRQzX",
        "colab": {
          "base_uri": "https://localhost:8080/",
          "height": 422
        },
        "outputId": "f4b4ce34-8288-44cb-d59e-8095b7a699d8"
      },
      "source": [
        "fig, ax=plt.subplots(figsize=(15,6))\n",
        "sns.violinplot(data=dataframe,x='Type',y='Price',ax=ax)#Conocer la relacion existente entre El Type y el precio"
      ],
      "execution_count": null,
      "outputs": [
        {
          "output_type": "execute_result",
          "data": {
            "text/plain": [
              "<matplotlib.axes._subplots.AxesSubplot at 0x7f198228e128>"
            ]
          },
          "metadata": {
            "tags": []
          },
          "execution_count": 50
        },
        {
          "output_type": "display_data",
          "data": {
            "image/png": "[encoded data removed]",
            "text/plain": [
              "<Figure size 1080x432 with 1 Axes>"
            ]
          },
          "metadata": {
            "tags": [],
            "needs_background": "light"
          }
        }
      ]
    },
    {
      "cell_type": "markdown",
      "metadata": {
        "id": "tRxI51YnRfjI",
        "colab_type": "text"
      },
      "source": [
        "En la anterior casa se puede ver que el tipo de casa influye en el precio"
      ]
    },
    {
      "cell_type": "code",
      "metadata": {
        "id": "6A1r7Vz8OqVy",
        "colab_type": "code",
        "colab": {
          "base_uri": "https://localhost:8080/",
          "height": 204
        },
        "outputId": "417bea53-0bb3-44a2-f5ae-93d4fa36fa3f"
      },
      "source": [
        "dataframe.drop(columns=['Suburb','Address','SellerG','Method','Landsize',\n",
        "                        'BuildingArea','Date','YearBuilt'],inplace=True)\n",
        "dataframe.head()"
      ],
      "execution_count": 38,
      "outputs": [
        {
          "output_type": "execute_result",
          "data": {
            "text/html": [
              "<div>\n",
              "<style scoped>\n",
              "    .dataframe tbody tr th:only-of-type {\n",
              "        vertical-align: middle;\n",
              "    }\n",
              "\n",
              "    .dataframe tbody tr th {\n",
              "        vertical-align: top;\n",
              "    }\n",
              "\n",
              "    .dataframe thead th {\n",
              "        text-align: right;\n",
              "    }\n",
              "</style>\n",
              "<table border=\"1\" class=\"dataframe\">\n",
              "  <thead>\n",
              "    <tr style=\"text-align: right;\">\n",
              "      <th></th>\n",
              "      <th>Rooms</th>\n",
              "      <th>Type</th>\n",
              "      <th>Price</th>\n",
              "      <th>Distance</th>\n",
              "      <th>Postcode</th>\n",
              "      <th>Bedroom2</th>\n",
              "      <th>Bathroom</th>\n",
              "      <th>Car</th>\n",
              "      <th>CouncilArea</th>\n",
              "      <th>Regionname</th>\n",
              "      <th>Propertycount</th>\n",
              "      <th>Age</th>\n",
              "      <th>TotalArea</th>\n",
              "    </tr>\n",
              "  </thead>\n",
              "  <tbody>\n",
              "    <tr>\n",
              "      <th>0</th>\n",
              "      <td>2</td>\n",
              "      <td>h</td>\n",
              "      <td>1035000</td>\n",
              "      <td>2.5</td>\n",
              "      <td>3067.0</td>\n",
              "      <td>2.0</td>\n",
              "      <td>1</td>\n",
              "      <td>0.0</td>\n",
              "      <td>Yarra City Council</td>\n",
              "      <td>Northern Metropolitan</td>\n",
              "      <td>4019.0</td>\n",
              "      <td>116</td>\n",
              "      <td>235.0</td>\n",
              "    </tr>\n",
              "    <tr>\n",
              "      <th>1</th>\n",
              "      <td>3</td>\n",
              "      <td>h</td>\n",
              "      <td>1465000</td>\n",
              "      <td>2.5</td>\n",
              "      <td>3067.0</td>\n",
              "      <td>3.0</td>\n",
              "      <td>2</td>\n",
              "      <td>0.0</td>\n",
              "      <td>Yarra City Council</td>\n",
              "      <td>Northern Metropolitan</td>\n",
              "      <td>4019.0</td>\n",
              "      <td>117</td>\n",
              "      <td>284.0</td>\n",
              "    </tr>\n",
              "    <tr>\n",
              "      <th>2</th>\n",
              "      <td>4</td>\n",
              "      <td>h</td>\n",
              "      <td>1600000</td>\n",
              "      <td>2.5</td>\n",
              "      <td>3067.0</td>\n",
              "      <td>3.0</td>\n",
              "      <td>1</td>\n",
              "      <td>2.0</td>\n",
              "      <td>Yarra City Council</td>\n",
              "      <td>Northern Metropolitan</td>\n",
              "      <td>4019.0</td>\n",
              "      <td>2</td>\n",
              "      <td>262.0</td>\n",
              "    </tr>\n",
              "    <tr>\n",
              "      <th>4</th>\n",
              "      <td>3</td>\n",
              "      <td>h</td>\n",
              "      <td>1876000</td>\n",
              "      <td>2.5</td>\n",
              "      <td>3067.0</td>\n",
              "      <td>4.0</td>\n",
              "      <td>2</td>\n",
              "      <td>0.0</td>\n",
              "      <td>Yarra City Council</td>\n",
              "      <td>Northern Metropolitan</td>\n",
              "      <td>4019.0</td>\n",
              "      <td>106</td>\n",
              "      <td>455.0</td>\n",
              "    </tr>\n",
              "    <tr>\n",
              "      <th>7</th>\n",
              "      <td>2</td>\n",
              "      <td>h</td>\n",
              "      <td>1636000</td>\n",
              "      <td>2.5</td>\n",
              "      <td>3067.0</td>\n",
              "      <td>2.0</td>\n",
              "      <td>1</td>\n",
              "      <td>2.0</td>\n",
              "      <td>Yarra City Council</td>\n",
              "      <td>Northern Metropolitan</td>\n",
              "      <td>4019.0</td>\n",
              "      <td>126</td>\n",
              "      <td>363.0</td>\n",
              "    </tr>\n",
              "  </tbody>\n",
              "</table>\n",
              "</div>"
            ],
            "text/plain": [
              "   Rooms Type    Price  ...  Propertycount  Age  TotalArea\n",
              "0      2    h  1035000  ...         4019.0  116      235.0\n",
              "1      3    h  1465000  ...         4019.0  117      284.0\n",
              "2      4    h  1600000  ...         4019.0    2      262.0\n",
              "4      3    h  1876000  ...         4019.0  106      455.0\n",
              "7      2    h  1636000  ...         4019.0  126      363.0\n",
              "\n",
              "[5 rows x 13 columns]"
            ]
          },
          "metadata": {
            "tags": []
          },
          "execution_count": 38
        }
      ]
    },
    {
      "cell_type": "markdown",
      "metadata": {
        "id": "h8_D4COlSJZv",
        "colab_type": "text"
      },
      "source": [
        "## **Variables Numéricas**"
      ]
    },
    {
      "cell_type": "markdown",
      "metadata": {
        "id": "36lTvDxqSRNZ",
        "colab_type": "text"
      },
      "source": [
        "Ahora lo que corresponde hacer con las variables numéricas es hallar la correlación existente entre ellas y asi poder escoger las más correlacionadas  con el precio y al mismo tiempo escoger variables independientes que no estan tan correlacionadas."
      ]
    },
    {
      "cell_type": "code",
      "metadata": {
        "id": "9SVMmgBC-hsK",
        "colab_type": "code",
        "colab": {
          "base_uri": "https://localhost:8080/",
          "height": 615
        },
        "outputId": "024a47c7-3191-4afd-adfc-1b43d646ad47"
      },
      "source": [
        "corr=dataframe.corr()\n",
        "fig, ax= plt.subplots(figsize=(15,10))#Hallar correlacion entre las variables numericas\n",
        "sns.heatmap(data=corr,annot=True,cmap='coolwarm')"
      ],
      "execution_count": 39,
      "outputs": [
        {
          "output_type": "execute_result",
          "data": {
            "text/plain": [
              "<matplotlib.axes._subplots.AxesSubplot at 0x7ff0aab59f98>"
            ]
          },
          "metadata": {
            "tags": []
          },
          "execution_count": 39
        },
        {
          "output_type": "display_data",
          "data": {
            "image/png": "[encoded data removed]",
            "text/plain": [
              "<Figure size 1080x720 with 2 Axes>"
            ]
          },
          "metadata": {
            "tags": [],
            "needs_background": "light"
          }
        }
      ]
    },
    {
      "cell_type": "markdown",
      "metadata": {
        "id": "1NrBX7KZDiJp",
        "colab_type": "text"
      },
      "source": [
        "Del mapa de calor anterior se evidencia que la columna de Bedroom2 esta muy correlacionada con el numero de habitaciones, entonces es mejor eliminarla para evitar las redundancias. Del resto de las caracteristicas con el valor del coeficiente son independientes entre si."
      ]
    },
    {
      "cell_type": "code",
      "metadata": {
        "id": "j2Xs-KfQa8h1",
        "colab_type": "code",
        "colab": {
          "base_uri": "https://localhost:8080/",
          "height": 204
        },
        "outputId": "6585d875-df17-4809-8401-784e31860508"
      },
      "source": [
        "dataframe.drop(columns=['Bedroom2'],inplace=True)\n",
        "dataframe.head()"
      ],
      "execution_count": 40,
      "outputs": [
        {
          "output_type": "execute_result",
          "data": {
            "text/html": [
              "<div>\n",
              "<style scoped>\n",
              "    .dataframe tbody tr th:only-of-type {\n",
              "        vertical-align: middle;\n",
              "    }\n",
              "\n",
              "    .dataframe tbody tr th {\n",
              "        vertical-align: top;\n",
              "    }\n",
              "\n",
              "    .dataframe thead th {\n",
              "        text-align: right;\n",
              "    }\n",
              "</style>\n",
              "<table border=\"1\" class=\"dataframe\">\n",
              "  <thead>\n",
              "    <tr style=\"text-align: right;\">\n",
              "      <th></th>\n",
              "      <th>Rooms</th>\n",
              "      <th>Type</th>\n",
              "      <th>Price</th>\n",
              "      <th>Distance</th>\n",
              "      <th>Postcode</th>\n",
              "      <th>Bathroom</th>\n",
              "      <th>Car</th>\n",
              "      <th>CouncilArea</th>\n",
              "      <th>Regionname</th>\n",
              "      <th>Propertycount</th>\n",
              "      <th>Age</th>\n",
              "      <th>TotalArea</th>\n",
              "    </tr>\n",
              "  </thead>\n",
              "  <tbody>\n",
              "    <tr>\n",
              "      <th>0</th>\n",
              "      <td>2</td>\n",
              "      <td>h</td>\n",
              "      <td>1035000</td>\n",
              "      <td>2.5</td>\n",
              "      <td>3067.0</td>\n",
              "      <td>1</td>\n",
              "      <td>0.0</td>\n",
              "      <td>Yarra City Council</td>\n",
              "      <td>Northern Metropolitan</td>\n",
              "      <td>4019.0</td>\n",
              "      <td>116</td>\n",
              "      <td>235.0</td>\n",
              "    </tr>\n",
              "    <tr>\n",
              "      <th>1</th>\n",
              "      <td>3</td>\n",
              "      <td>h</td>\n",
              "      <td>1465000</td>\n",
              "      <td>2.5</td>\n",
              "      <td>3067.0</td>\n",
              "      <td>2</td>\n",
              "      <td>0.0</td>\n",
              "      <td>Yarra City Council</td>\n",
              "      <td>Northern Metropolitan</td>\n",
              "      <td>4019.0</td>\n",
              "      <td>117</td>\n",
              "      <td>284.0</td>\n",
              "    </tr>\n",
              "    <tr>\n",
              "      <th>2</th>\n",
              "      <td>4</td>\n",
              "      <td>h</td>\n",
              "      <td>1600000</td>\n",
              "      <td>2.5</td>\n",
              "      <td>3067.0</td>\n",
              "      <td>1</td>\n",
              "      <td>2.0</td>\n",
              "      <td>Yarra City Council</td>\n",
              "      <td>Northern Metropolitan</td>\n",
              "      <td>4019.0</td>\n",
              "      <td>2</td>\n",
              "      <td>262.0</td>\n",
              "    </tr>\n",
              "    <tr>\n",
              "      <th>4</th>\n",
              "      <td>3</td>\n",
              "      <td>h</td>\n",
              "      <td>1876000</td>\n",
              "      <td>2.5</td>\n",
              "      <td>3067.0</td>\n",
              "      <td>2</td>\n",
              "      <td>0.0</td>\n",
              "      <td>Yarra City Council</td>\n",
              "      <td>Northern Metropolitan</td>\n",
              "      <td>4019.0</td>\n",
              "      <td>106</td>\n",
              "      <td>455.0</td>\n",
              "    </tr>\n",
              "    <tr>\n",
              "      <th>7</th>\n",
              "      <td>2</td>\n",
              "      <td>h</td>\n",
              "      <td>1636000</td>\n",
              "      <td>2.5</td>\n",
              "      <td>3067.0</td>\n",
              "      <td>1</td>\n",
              "      <td>2.0</td>\n",
              "      <td>Yarra City Council</td>\n",
              "      <td>Northern Metropolitan</td>\n",
              "      <td>4019.0</td>\n",
              "      <td>126</td>\n",
              "      <td>363.0</td>\n",
              "    </tr>\n",
              "  </tbody>\n",
              "</table>\n",
              "</div>"
            ],
            "text/plain": [
              "   Rooms Type    Price  ...  Propertycount  Age  TotalArea\n",
              "0      2    h  1035000  ...         4019.0  116      235.0\n",
              "1      3    h  1465000  ...         4019.0  117      284.0\n",
              "2      4    h  1600000  ...         4019.0    2      262.0\n",
              "4      3    h  1876000  ...         4019.0  106      455.0\n",
              "7      2    h  1636000  ...         4019.0  126      363.0\n",
              "\n",
              "[5 rows x 12 columns]"
            ]
          },
          "metadata": {
            "tags": []
          },
          "execution_count": 40
        }
      ]
    },
    {
      "cell_type": "code",
      "metadata": {
        "id": "UKTGZPU-JkVK",
        "colab_type": "code",
        "colab": {
          "base_uri": "https://localhost:8080/",
          "height": 238
        },
        "outputId": "9733fd04-ce05-4b92-e057-edd03efb5824"
      },
      "source": [
        "dataframe['CouncilArea']=dataframe['CouncilArea'].astype('category')\n",
        "dataframe['Type']=dataframe['Type'].astype('category')\n",
        "dataframe['Regionname']=dataframe['Regionname'].astype('category')\n",
        "dataframe.dtypes"
      ],
      "execution_count": 41,
      "outputs": [
        {
          "output_type": "execute_result",
          "data": {
            "text/plain": [
              "Rooms               int64\n",
              "Type             category\n",
              "Price               int64\n",
              "Distance          float64\n",
              "Postcode         category\n",
              "Bathroom            int64\n",
              "Car               float64\n",
              "CouncilArea      category\n",
              "Regionname       category\n",
              "Propertycount     float64\n",
              "Age                 int64\n",
              "TotalArea         float64\n",
              "dtype: object"
            ]
          },
          "metadata": {
            "tags": []
          },
          "execution_count": 41
        }
      ]
    },
    {
      "cell_type": "markdown",
      "metadata": {
        "id": "3bttOvYnA4Kp",
        "colab_type": "text"
      },
      "source": [
        "Hay que realizar luego la separación de los datos de train y test porque primero se hara la selección del modelo mediante validacion cruzada de los datos de entrenamiento y despues el mejor modelo se evalua con los datos de test."
      ]
    },
    {
      "cell_type": "code",
      "metadata": {
        "id": "wpOLLSiTAxbD",
        "colab_type": "code",
        "colab": {}
      },
      "source": [
        "#Separacion de los datos de entrenamiento y test\n",
        "from sklearn.preprocessing import LabelEncoder\n",
        "le=LabelEncoder()\n",
        "dataframe['CouncilArea']=le.fit_transform(dataframe['CouncilArea'].values)\n",
        "#dataframe.drop(columns=['Postcode'],inplace=True,axis='columns')\n",
        "X=dataframe.drop(columns=['Price'],axis='columns')\n",
        "y= dataframe[['Price']]\n",
        "from sklearn.model_selection import train_test_split\n",
        "X_train, X_test, y_train, y_test= train_test_split(X,y,test_size=0.25, random_state=42)"
      ],
      "execution_count": 52,
      "outputs": []
    },
    {
      "cell_type": "code",
      "metadata": {
        "id": "eCsjlqU7P3RV",
        "colab_type": "code",
        "colab": {}
      },
      "source": [
        "from sklearn.compose import ColumnTransformer\n",
        "from sklearn.preprocessing import OneHotEncoder\n",
        "from sklearn.preprocessing import StandardScaler\n",
        "from sklearn.impute import SimpleImputer\n",
        "from sklearn.pipeline import Pipeline\n",
        "si=SimpleImputer(strategy='most_frequent',missing_values=np.nan)\n",
        "num_col=X.select_dtypes(exclude='category').columns\n",
        "cat_col=['Regionname','Type']\n",
        "ohe=OneHotEncoder(drop='first')\n",
        "num_transform=Pipeline([('si',si),('ss',StandardScaler())])\n",
        "cat_transform=Pipeline([('ohe',ohe)])\n",
        "ct=ColumnTransformer(transformers=[('num',num_transform,num_col),\n",
        "                                   ('cat',cat_transform,cat_col)])"
      ],
      "execution_count": 53,
      "outputs": []
    },
    {
      "cell_type": "markdown",
      "metadata": {
        "id": "_lx3ebCHQ80w",
        "colab_type": "text"
      },
      "source": [
        "## **Modelo Base**"
      ]
    },
    {
      "cell_type": "code",
      "metadata": {
        "id": "qV2DahhLHdIv",
        "colab_type": "code",
        "colab": {}
      },
      "source": [
        "from sklearn.linear_model import LinearRegression\n",
        "from sklearn.pipeline import Pipeline\n",
        "modelo=Pipeline([('ct',ct),\n",
        "                 ('lr',LinearRegression())])"
      ],
      "execution_count": 54,
      "outputs": []
    },
    {
      "cell_type": "code",
      "metadata": {
        "id": "FNwYYW_gb-PU",
        "colab_type": "code",
        "colab": {}
      },
      "source": [
        "modelo.get_params()"
      ],
      "execution_count": null,
      "outputs": []
    },
    {
      "cell_type": "code",
      "metadata": {
        "id": "NCVdOx7A7Ru1",
        "colab_type": "code",
        "colab": {}
      },
      "source": [
        "from sklearn.model_selection import cross_validate\n",
        "scores=cross_validate(modelo,X_train,y_train,cv=5,scoring='neg_mean_absolute_error',return_train_score=True)"
      ],
      "execution_count": 55,
      "outputs": []
    },
    {
      "cell_type": "code",
      "metadata": {
        "id": "Ino-2kAh8BPC",
        "colab_type": "code",
        "colab": {
          "base_uri": "https://localhost:8080/",
          "height": 34
        },
        "outputId": "e4be4cb7-0a90-4c34-d22a-c2234fdd9914"
      },
      "source": [
        "scores.keys()"
      ],
      "execution_count": null,
      "outputs": [
        {
          "output_type": "execute_result",
          "data": {
            "text/plain": [
              "dict_keys(['fit_time', 'score_time', 'test_score', 'train_score'])"
            ]
          },
          "metadata": {
            "tags": []
          },
          "execution_count": 21
        }
      ]
    },
    {
      "cell_type": "code",
      "metadata": {
        "id": "qcZpQMi8WlAr",
        "colab_type": "code",
        "colab": {
          "base_uri": "https://localhost:8080/",
          "height": 51
        },
        "outputId": "2228db88-7da8-422f-99f8-5960f26ca8df"
      },
      "source": [
        "print(f\"MAE de Entrenamiento {-1*scores['train_score'].mean()}\")\n",
        "print(f\"MAE de Validacion {-1*scores['test_score'].mean()}\")"
      ],
      "execution_count": 56,
      "outputs": [
        {
          "output_type": "stream",
          "text": [
            "MAE de Entrenamiento 275864.25679998833\n",
            "MAE de Validacion 276897.3649439969\n"
          ],
          "name": "stdout"
        }
      ]
    },
    {
      "cell_type": "markdown",
      "metadata": {
        "id": "UC1i-MJlRChZ",
        "colab_type": "text"
      },
      "source": [
        "Partiendo de que con el modelo de Regresion Lineal se obtiene un error promedio muy alto, y partiendo de que el precio minimo es de 131000 dolares un error aceptable podria ser de 20000 dolares maximo."
      ]
    },
    {
      "cell_type": "markdown",
      "metadata": {
        "id": "c5AnEV6ZT_Ph",
        "colab_type": "text"
      },
      "source": [
        "## **Modelo no Lineal**"
      ]
    },
    {
      "cell_type": "markdown",
      "metadata": {
        "id": "a3iXaiwWUGg-",
        "colab_type": "text"
      },
      "source": [
        "Lo que se busca es reducir la funcion de costo la cual es la siguente: \n",
        "\\begin{eqnarray}\n",
        "L = \\frac{1}{n} \\sum_{i=1}^n  (y_i - \\hat y_i)^2\n",
        "\\end{eqnarray}\n",
        "Una de los algoritmos usados es el de Gradiente Descendente, con el cual se va a obtener el mejor modelo aplicando gridsearch "
      ]
    },
    {
      "cell_type": "code",
      "metadata": {
        "id": "XdOtzjeeRsSa",
        "colab_type": "code",
        "colab": {}
      },
      "source": [
        "from sklearn.svm import SVR\n",
        "ct2=ColumnTransformer(transformers=[('num',num_transform,num_col),\n",
        "                                   ('cat',cat_transform,cat_col)])\n",
        "model2=modelo=Pipeline([('ct',ct2),\n",
        "                 ('svr',SVR(gamma='auto',kernel='rbf'))])\n",
        "model2.get_params()"
      ],
      "execution_count": null,
      "outputs": []
    },
    {
      "cell_type": "code",
      "metadata": {
        "id": "uhW4xxCw9rKQ",
        "colab_type": "code",
        "colab": {}
      },
      "source": [
        "model2.get_params()"
      ],
      "execution_count": null,
      "outputs": []
    },
    {
      "cell_type": "code",
      "metadata": {
        "id": "vQSK2y3ctnaZ",
        "colab_type": "code",
        "colab": {}
      },
      "source": [
        "from sklearn.model_selection import GridSearchCV\n",
        "epsilons=np.linspace(0.1,1,10)\n",
        "C=[1,10,100]\n",
        "dicc={'svr__epsilon':epsilons,'svr__C':C}\n",
        "clf=GridSearchCV(estimator=model2,param_grid=dicc,scoring='neg_mean_absolute_error',cv=5,\n",
        "                 return_train_score=True)"
      ],
      "execution_count": null,
      "outputs": []
    },
    {
      "cell_type": "code",
      "metadata": {
        "id": "UMyoGwjZtnWl",
        "colab_type": "code",
        "colab": {}
      },
      "source": [
        "clf.fit(X_train,y_train)"
      ],
      "execution_count": null,
      "outputs": []
    },
    {
      "cell_type": "code",
      "metadata": {
        "id": "ai58ikIQtnTL",
        "colab_type": "code",
        "colab": {
          "base_uri": "https://localhost:8080/",
          "height": 68
        },
        "outputId": "ac0c69a2-bc94-4aab-b3f7-8a76bff9f530"
      },
      "source": [
        "print(f'Mejores hiperparametros encontrados {clf.best_params_}')\n",
        "print(f\"Training MAE {-1*clf.cv_results_['mean_train_score'].max()}\")\n",
        "print(f\"Validation MAE {-1*clf.cv_results_['mean_test_score'].max()}\")"
      ],
      "execution_count": null,
      "outputs": [
        {
          "output_type": "stream",
          "text": [
            "Mejores hiperparametros encontrados {'svr__C': 100, 'svr__epsilon': 0.1}\n",
            "Training MAE 444919.7949557607\n",
            "Validation MAE 445081.528606502\n"
          ],
          "name": "stdout"
        }
      ]
    },
    {
      "cell_type": "markdown",
      "metadata": {
        "id": "5d81v6So4xCV",
        "colab_type": "text"
      },
      "source": [
        "## **Utilizando DT Regressor**"
      ]
    },
    {
      "cell_type": "code",
      "metadata": {
        "id": "L2eeGZzjtnPo",
        "colab_type": "code",
        "colab": {}
      },
      "source": [
        "from sklearn.tree import DecisionTreeRegressor\n",
        "ct3=ct=ColumnTransformer(transformers=[('num',num_transform,num_col),\n",
        "                                   ('cat',cat_transform,cat_col)])\n",
        "model3=Pipeline([('ct',ct3),\n",
        "                 ('dt',DecisionTreeRegressor(random_state=42,criterion='mae'))])\n",
        "model3.get_params()"
      ],
      "execution_count": null,
      "outputs": []
    },
    {
      "cell_type": "code",
      "metadata": {
        "id": "CvhanxPx69RF",
        "colab_type": "code",
        "colab": {}
      },
      "source": [
        "from sklearn.model_selection import GridSearchCV\n",
        "depth=range(2,12,2)\n",
        "samples=range(2,12,2)\n",
        "dicc2={'dt__max_depth':depth,'dt__min_samples_split':samples}\n",
        "clf3=GridSearchCV(estimator=model3,scoring='neg_mean_absolute_error',cv=5,param_grid=dicc2,return_train_score=True)"
      ],
      "execution_count": 58,
      "outputs": []
    },
    {
      "cell_type": "code",
      "metadata": {
        "id": "tCVYrZGq69Mg",
        "colab_type": "code",
        "colab": {}
      },
      "source": [
        "clf3.fit(X_train,y_train)"
      ],
      "execution_count": null,
      "outputs": []
    },
    {
      "cell_type": "code",
      "metadata": {
        "id": "a3JVkZ5I69JT",
        "colab_type": "code",
        "colab": {
          "base_uri": "https://localhost:8080/",
          "height": 68
        },
        "outputId": "2a2107a8-38a0-4330-a5e2-005b510f1062"
      },
      "source": [
        "print(f'Mejores hiperparametros: {clf3.best_params_}')\n",
        "print(f\"MAE train {-1*clf3.cv_results_['mean_train_score'].max()}\")\n",
        "print(f\"MAE validation {-1*clf3.cv_results_['mean_test_score'].max()}\")"
      ],
      "execution_count": 61,
      "outputs": [
        {
          "output_type": "stream",
          "text": [
            "Mejores hiperparametros: {'dt__max_depth': 10, 'dt__min_samples_split': 10}\n",
            "MAE train 134471.38341482592\n",
            "MAE validation 231566.46721489294\n"
          ],
          "name": "stdout"
        }
      ]
    },
    {
      "cell_type": "markdown",
      "metadata": {
        "id": "5E3uoLoG4qDO",
        "colab_type": "text"
      },
      "source": [
        "## KNN"
      ]
    },
    {
      "cell_type": "code",
      "metadata": {
        "id": "Tu3iqmBG4r2-",
        "colab_type": "code",
        "colab": {}
      },
      "source": [
        "from sklearn.neighbors import KNeighborsRegressor\n",
        "ct4=ct=ColumnTransformer(transformers=[('num',num_transform,num_col),\n",
        "                                   ('cat',cat_transform,cat_col)])\n",
        "model4=Pipeline([('ct',ct4),\n",
        "                 ('knn',KNeighborsRegressor())])\n",
        "model4.get_params()"
      ],
      "execution_count": null,
      "outputs": []
    },
    {
      "cell_type": "code",
      "metadata": {
        "id": "3-CofAHo4sXw",
        "colab_type": "code",
        "colab": {}
      },
      "source": [
        "vecinos=range(2,20,1)\n",
        "dic={'knn__n_neighbors':vecinos}\n",
        "clf4=GridSearchCV(estimator=model4,param_grid=dic,scoring='neg_mean_absolute_error',cv=5,return_train_score=True)"
      ],
      "execution_count": 63,
      "outputs": []
    },
    {
      "cell_type": "code",
      "metadata": {
        "id": "0TBQC1X84sVk",
        "colab_type": "code",
        "colab": {}
      },
      "source": [
        "clf4.fit(X_train,y_train)"
      ],
      "execution_count": null,
      "outputs": []
    },
    {
      "cell_type": "code",
      "metadata": {
        "id": "LeScTiiX4sSy",
        "colab_type": "code",
        "colab": {
          "base_uri": "https://localhost:8080/",
          "height": 68
        },
        "outputId": "b3c49f24-94d6-4d82-93ed-d0b87f299388"
      },
      "source": [
        "print(f'Mejores hiperparametros: {clf4.best_params_}')\n",
        "print(f\"MAE train {-1*clf4.cv_results_['mean_train_score'].max()}\")\n",
        "print(f\"MAE validation {-1*clf4.cv_results_['mean_test_score'].max()}\")"
      ],
      "execution_count": 66,
      "outputs": [
        {
          "output_type": "stream",
          "text": [
            "Mejores hiperparametros: {'knn__n_neighbors': 9}\n",
            "MAE train 130358.0500134539\n",
            "MAE validation 217907.21038404928\n"
          ],
          "name": "stdout"
        }
      ]
    },
    {
      "cell_type": "markdown",
      "metadata": {
        "id": "V-OkZLAFLA-b",
        "colab_type": "text"
      },
      "source": [
        "## **Usando Métodos de ensamble Random Forest**"
      ]
    },
    {
      "cell_type": "code",
      "metadata": {
        "id": "YmurOmjk69FX",
        "colab_type": "code",
        "colab": {}
      },
      "source": [
        "from sklearn.ensemble import RandomForestRegressor\n",
        "ct5=ct=ColumnTransformer(transformers=[('num',num_transform,num_col),\n",
        "                                   ('cat',cat_transform,cat_col)])\n",
        "model5=Pipeline([('ct',ct5),\n",
        "                 ('rfr',RandomForestRegressor(criterion='mae',n_jobs=-1))])\n",
        "model5.get_params()"
      ],
      "execution_count": null,
      "outputs": []
    },
    {
      "cell_type": "code",
      "metadata": {
        "id": "vCiarXPgMY5K",
        "colab_type": "code",
        "colab": {}
      },
      "source": [
        "Dic = {\n",
        "    \"rfr__n_estimators\": [10, 100],\n",
        "    \"rfr__max_depth\": [10, 100],\n",
        "    \"rfr__max_features\": [\"auto\", \"log2\"]\n",
        "}\n",
        "clf5=GridSearchCV(estimator=model5,param_grid=Dic,scoring='neg_mean_absolute_error',\n",
        "                  cv=5,return_train_score=True,n_jobs=-1)"
      ],
      "execution_count": 68,
      "outputs": []
    },
    {
      "cell_type": "code",
      "metadata": {
        "id": "P2deVBLpMY1k",
        "colab_type": "code",
        "colab": {}
      },
      "source": [
        "clf5.fit(X_train,y_train)"
      ],
      "execution_count": null,
      "outputs": []
    },
    {
      "cell_type": "code",
      "metadata": {
        "id": "dvS7mJ1lMYu0",
        "colab_type": "code",
        "colab": {
          "base_uri": "https://localhost:8080/",
          "height": 68
        },
        "outputId": "b1f9e893-da78-463c-b67f-48304780d380"
      },
      "source": [
        "print(f'Mejores hiperparametros del metodo de ensamble {clf5.best_params_}')\n",
        "print(f\"MAE train {-1*clf5.cv_results_['mean_train_score'].max()}\")\n",
        "print(f\"MAE validation {-1*clf5.cv_results_['mean_test_score'].max()}\")"
      ],
      "execution_count": 70,
      "outputs": [
        {
          "output_type": "stream",
          "text": [
            "Mejores hiperparametros del metodo de ensamble {'rfr__max_depth': 100, 'rfr__max_features': 'log2', 'rfr__n_estimators': 100}\n",
            "MAE train 69574.82532628987\n",
            "MAE validation 176345.15474982094\n"
          ],
          "name": "stdout"
        }
      ]
    },
    {
      "cell_type": "markdown",
      "metadata": {
        "id": "F8LSNh2yPrEJ",
        "colab_type": "text"
      },
      "source": [
        "Se puede evidenciar que con los metodos de ensamble se obtienen mejores puntajes, asi que este será el modelo para realizar la evaluación."
      ]
    },
    {
      "cell_type": "markdown",
      "metadata": {
        "id": "Z214K4pSyYMG",
        "colab_type": "text"
      },
      "source": [
        "## **Utilizando Bangging**"
      ]
    },
    {
      "cell_type": "code",
      "metadata": {
        "id": "Be3ghgPXyfeA",
        "colab_type": "code",
        "colab": {}
      },
      "source": [
        "from sklearn.ensemble import BaggingRegressor\n",
        "from sklearn.svm import SVR\n",
        "ct6=ColumnTransformer(transformers=[('num',num_transform,num_col),\n",
        "                                   ('cat',cat_transform,cat_col)])\n",
        "model6=Pipeline([('ct',ct6),\n",
        "                 ('bag',BaggingRegressor(base_estimator=DecisionTreeRegressor(criterion='mae',max_features=None),random_state=42))])\n",
        "model6.get_params()"
      ],
      "execution_count": null,
      "outputs": []
    },
    {
      "cell_type": "code",
      "metadata": {
        "id": "mZyJT8cT6Hy_",
        "colab_type": "code",
        "colab": {}
      },
      "source": [
        "params={'bag__n_estimators':[10,100],\n",
        "        'bag__max_samples':[20],\n",
        "        'bag__max_features':[5,10]}\n",
        "clf6=GridSearchCV(estimator=model6,param_grid=params,scoring='neg_mean_absolute_error',cv=5,return_train_score=True)"
      ],
      "execution_count": 84,
      "outputs": []
    },
    {
      "cell_type": "code",
      "metadata": {
        "id": "tZnfDyIGyfXs",
        "colab_type": "code",
        "colab": {}
      },
      "source": [
        "clf6.fit(X_train,y_train)"
      ],
      "execution_count": null,
      "outputs": []
    },
    {
      "cell_type": "code",
      "metadata": {
        "id": "7DggluBZyfT_",
        "colab_type": "code",
        "colab": {
          "base_uri": "https://localhost:8080/",
          "height": 68
        },
        "outputId": "a2127138-c241-4d7f-a5e9-53033167ea78"
      },
      "source": [
        "print(f'Mejores hiperparametros del metodo de ensamble {clf6.best_params_}')\n",
        "print(f\"MAE train {-1*clf6.cv_results_['mean_train_score'].max()}\")\n",
        "print(f\"MAE validation {-1*clf6.cv_results_['mean_test_score'].max()}\")"
      ],
      "execution_count": 86,
      "outputs": [
        {
          "output_type": "stream",
          "text": [
            "Mejores hiperparametros del metodo de ensamble {'bag__max_features': 10, 'bag__max_samples': 20, 'bag__n_estimators': 100}\n",
            "MAE train 332688.7531526451\n",
            "MAE validation 334189.05499029916\n"
          ],
          "name": "stdout"
        }
      ]
    },
    {
      "cell_type": "markdown",
      "metadata": {
        "id": "EeZx923fio53",
        "colab_type": "text"
      },
      "source": [
        "## **GradientBoostingRegressor**"
      ]
    },
    {
      "cell_type": "code",
      "metadata": {
        "id": "G3drCxNcivj1",
        "colab_type": "code",
        "colab": {}
      },
      "source": [
        "from sklearn.ensemble import GradientBoostingRegressor\n",
        "ct7=ColumnTransformer(transformers=[('num',num_transform,num_col),\n",
        "                                 ('cat',cat_transform,cat_col)])\n",
        "model7=Pipeline([('ct',ct7),\n",
        "                 ('gbr',GradientBoostingRegressor(criterion='mae',random_state=0,))])\n",
        "model7.get_params()"
      ],
      "execution_count": null,
      "outputs": []
    },
    {
      "cell_type": "code",
      "metadata": {
        "id": "sDYkulOUj1E6",
        "colab_type": "code",
        "colab": {}
      },
      "source": [
        "param_grid={'gbr__n_estimators':[100], \n",
        "            'gbr__learning_rate': [0.1,0.05,0.02],\n",
        "            'gbr__max_depth':[6], \n",
        "            'gbr__min_samples_leaf':[3]}\n",
        "clf7=GridSearchCV(estimator=model7,param_grid=param_grid,scoring='neg_mean_absolute_error',cv=5,\n",
        "                  return_train_score=True)"
      ],
      "execution_count": 80,
      "outputs": []
    },
    {
      "cell_type": "code",
      "metadata": {
        "id": "nQgAdFFJj1BR",
        "colab_type": "code",
        "colab": {}
      },
      "source": [
        "clf7.fit(X_train,y_train)"
      ],
      "execution_count": null,
      "outputs": []
    },
    {
      "cell_type": "code",
      "metadata": {
        "id": "25ChrwDgj0-v",
        "colab_type": "code",
        "colab": {
          "base_uri": "https://localhost:8080/",
          "height": 68
        },
        "outputId": "0232bbe2-55a9-4fab-fa6a-69eec6abbee7"
      },
      "source": [
        "print(f'Mejores hiperparametros del metodo de ensamble {clf7.best_params_}')\n",
        "print(f\"MAE train {-1*clf7.cv_results_['mean_train_score'].max()}\")\n",
        "print(f\"MAE validation {-1*clf7.cv_results_['mean_test_score'].max()}\")"
      ],
      "execution_count": 82,
      "outputs": [
        {
          "output_type": "stream",
          "text": [
            "Mejores hiperparametros del metodo de ensamble {'gbr__learning_rate': 0.1, 'gbr__max_depth': 6, 'gbr__min_samples_leaf': 3, 'gbr__n_estimators': 100}\n",
            "MAE train 122111.13796587272\n",
            "MAE validation 175442.71913868847\n"
          ],
          "name": "stdout"
        }
      ]
    },
    {
      "cell_type": "markdown",
      "metadata": {
        "id": "1nNBGkkKAMiu",
        "colab_type": "text"
      },
      "source": [
        "Mejores Resultados"
      ]
    },
    {
      "cell_type": "code",
      "metadata": {
        "id": "s7sv9VoDPiFd",
        "colab_type": "code",
        "colab": {}
      },
      "source": [
        "best_model=clf7.best_estimator_\n",
        "best_model.fit(X_train,y_train)"
      ],
      "execution_count": null,
      "outputs": []
    },
    {
      "cell_type": "code",
      "metadata": {
        "id": "Ky-DITq6MYps",
        "colab_type": "code",
        "colab": {
          "base_uri": "https://localhost:8080/",
          "height": 51
        },
        "outputId": "b95aa84a-301a-4f4f-fb81-de771be333a1"
      },
      "source": [
        "from sklearn import metrics\n",
        "y_pred_train=best_model.predict(X_train)\n",
        "y_pred_test=best_model.predict(X_test)\n",
        "print(f'MAE train {metrics.mean_absolute_error(y_train,y_pred_train)}')\n",
        "print(f'MAE test {metrics.mean_absolute_error(y_test,y_pred_test)}')"
      ],
      "execution_count": 88,
      "outputs": [
        {
          "output_type": "stream",
          "text": [
            "MAE train 125910.15945281988\n",
            "MAE test 175096.1569474889\n"
          ],
          "name": "stdout"
        }
      ]
    },
    {
      "cell_type": "markdown",
      "metadata": {
        "id": "9mrxLKnoR9Mh",
        "colab_type": "text"
      },
      "source": [
        "Efectivamente el modelo creado por los metodos de ensamble resulto teniendo una varianza muy alta porque el error obtenido con los datos de test es demasiado alto comparado con el train. Aun asi en el error obtenido durante el test es menor en comparacion con los modelos de regresion, Ridge y SGD. "
      ]
    }
  ]
}