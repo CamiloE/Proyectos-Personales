{
  "nbformat": 4,
  "nbformat_minor": 0,
  "metadata": {
    "colab": {
      "name": "Precios de las casas",
      "provenance": [],
      "collapsed_sections": [
        "SXMez8BuYjrM",
        "ar9TYsjtP5zA"
      ],
      "authorship_tag": "ABX9TyNemX2PAALFsnz00zuaaAvN",
      "include_colab_link": true
    },
    "kernelspec": {
      "name": "python3",
      "display_name": "Python 3"
    }
  },
  "cells": [
    {
      "cell_type": "markdown",
      "metadata": {
        "id": "view-in-github",
        "colab_type": "text"
      },
      "source": [
        "<a href=\"https://colab.research.google.com/github/CamiloE/Proyectos-Personales/blob/master/Precios_de_las_casas.ipynb\" target=\"_parent\"><img src=\"https://colab.research.google.com/assets/colab-badge.svg\" alt=\"Open In Colab\"/></a>"
      ]
    },
    {
      "cell_type": "markdown",
      "metadata": {
        "id": "DAgi5mPT-5F0",
        "colab_type": "text"
      },
      "source": [
        "Por medio de este dataset se va a crear un modelo en el que se logre predecir el precio de unas casas a partir de datos  tomados como el suburbio, la dirección, el número de habitaciones, de baños, el codigo postal, tamaño del terreno, area construida, la region, entre otras"
      ]
    },
    {
      "cell_type": "code",
      "metadata": {
        "id": "THGcwOY65nWd",
        "colab_type": "code",
        "colab": {
          "base_uri": "https://localhost:8080/",
          "height": 71
        },
        "outputId": "9329109f-b9e2-4bad-905c-0f3ed8698bae"
      },
      "source": [
        "#Importar librerias importantes\n",
        "import pandas as pd\n",
        "import numpy as np\n",
        "import seaborn as sns\n",
        "import matplotlib.pyplot as plt\n",
        "sns.set()"
      ],
      "execution_count": null,
      "outputs": [
        {
          "output_type": "stream",
          "text": [
            "/usr/local/lib/python3.6/dist-packages/statsmodels/tools/_testing.py:19: FutureWarning: pandas.util.testing is deprecated. Use the functions in the public API at pandas.testing instead.\n",
            "  import pandas.util.testing as tm\n"
          ],
          "name": "stderr"
        }
      ]
    },
    {
      "cell_type": "code",
      "metadata": {
        "id": "FxcnUXBi52Za",
        "colab_type": "code",
        "colab": {
          "base_uri": "https://localhost:8080/",
          "height": 326
        },
        "outputId": "c48be415-d811-47a0-eabd-70dafc052b71"
      },
      "source": [
        "#Importar base de datos\n",
        "dataframe =  pd.read_csv(\"https://raw.githubusercontent.com/StephanieStallworth/Exploratory_Data_Analysis_Visualization_Python/master/Melbourne_housing_extra_data.csv\")\n",
        "dataframe.head()"
      ],
      "execution_count": null,
      "outputs": [
        {
          "output_type": "execute_result",
          "data": {
            "text/html": [
              "<div>\n",
              "<style scoped>\n",
              "    .dataframe tbody tr th:only-of-type {\n",
              "        vertical-align: middle;\n",
              "    }\n",
              "\n",
              "    .dataframe tbody tr th {\n",
              "        vertical-align: top;\n",
              "    }\n",
              "\n",
              "    .dataframe thead th {\n",
              "        text-align: right;\n",
              "    }\n",
              "</style>\n",
              "<table border=\"1\" class=\"dataframe\">\n",
              "  <thead>\n",
              "    <tr style=\"text-align: right;\">\n",
              "      <th></th>\n",
              "      <th>Suburb</th>\n",
              "      <th>Address</th>\n",
              "      <th>Rooms</th>\n",
              "      <th>Type</th>\n",
              "      <th>Price</th>\n",
              "      <th>Method</th>\n",
              "      <th>SellerG</th>\n",
              "      <th>Date</th>\n",
              "      <th>Distance</th>\n",
              "      <th>Postcode</th>\n",
              "      <th>Bedroom2</th>\n",
              "      <th>Bathroom</th>\n",
              "      <th>Car</th>\n",
              "      <th>Landsize</th>\n",
              "      <th>BuildingArea</th>\n",
              "      <th>YearBuilt</th>\n",
              "      <th>CouncilArea</th>\n",
              "      <th>Lattitude</th>\n",
              "      <th>Longtitude</th>\n",
              "      <th>Regionname</th>\n",
              "      <th>Propertycount</th>\n",
              "    </tr>\n",
              "  </thead>\n",
              "  <tbody>\n",
              "    <tr>\n",
              "      <th>0</th>\n",
              "      <td>Abbotsford</td>\n",
              "      <td>68 Studley St</td>\n",
              "      <td>2</td>\n",
              "      <td>h</td>\n",
              "      <td>NaN</td>\n",
              "      <td>SS</td>\n",
              "      <td>Jellis</td>\n",
              "      <td>3/09/2016</td>\n",
              "      <td>2.5</td>\n",
              "      <td>3067</td>\n",
              "      <td>2.0</td>\n",
              "      <td>1.0</td>\n",
              "      <td>1.0</td>\n",
              "      <td>126.0</td>\n",
              "      <td>NaN</td>\n",
              "      <td>NaN</td>\n",
              "      <td>Yarra</td>\n",
              "      <td>-37.8014</td>\n",
              "      <td>144.9958</td>\n",
              "      <td>Northern Metropolitan</td>\n",
              "      <td>4019</td>\n",
              "    </tr>\n",
              "    <tr>\n",
              "      <th>1</th>\n",
              "      <td>Abbotsford</td>\n",
              "      <td>85 Turner St</td>\n",
              "      <td>2</td>\n",
              "      <td>h</td>\n",
              "      <td>1480000.0</td>\n",
              "      <td>S</td>\n",
              "      <td>Biggin</td>\n",
              "      <td>3/12/2016</td>\n",
              "      <td>2.5</td>\n",
              "      <td>3067</td>\n",
              "      <td>2.0</td>\n",
              "      <td>1.0</td>\n",
              "      <td>1.0</td>\n",
              "      <td>202.0</td>\n",
              "      <td>NaN</td>\n",
              "      <td>NaN</td>\n",
              "      <td>Yarra</td>\n",
              "      <td>-37.7996</td>\n",
              "      <td>144.9984</td>\n",
              "      <td>Northern Metropolitan</td>\n",
              "      <td>4019</td>\n",
              "    </tr>\n",
              "    <tr>\n",
              "      <th>2</th>\n",
              "      <td>Abbotsford</td>\n",
              "      <td>25 Bloomburg St</td>\n",
              "      <td>2</td>\n",
              "      <td>h</td>\n",
              "      <td>1035000.0</td>\n",
              "      <td>S</td>\n",
              "      <td>Biggin</td>\n",
              "      <td>4/02/2016</td>\n",
              "      <td>2.5</td>\n",
              "      <td>3067</td>\n",
              "      <td>2.0</td>\n",
              "      <td>1.0</td>\n",
              "      <td>0.0</td>\n",
              "      <td>156.0</td>\n",
              "      <td>79.0</td>\n",
              "      <td>1900.0</td>\n",
              "      <td>Yarra</td>\n",
              "      <td>-37.8079</td>\n",
              "      <td>144.9934</td>\n",
              "      <td>Northern Metropolitan</td>\n",
              "      <td>4019</td>\n",
              "    </tr>\n",
              "    <tr>\n",
              "      <th>3</th>\n",
              "      <td>Abbotsford</td>\n",
              "      <td>18/659 Victoria St</td>\n",
              "      <td>3</td>\n",
              "      <td>u</td>\n",
              "      <td>NaN</td>\n",
              "      <td>VB</td>\n",
              "      <td>Rounds</td>\n",
              "      <td>4/02/2016</td>\n",
              "      <td>2.5</td>\n",
              "      <td>3067</td>\n",
              "      <td>3.0</td>\n",
              "      <td>2.0</td>\n",
              "      <td>1.0</td>\n",
              "      <td>0.0</td>\n",
              "      <td>NaN</td>\n",
              "      <td>NaN</td>\n",
              "      <td>Yarra</td>\n",
              "      <td>-37.8114</td>\n",
              "      <td>145.0116</td>\n",
              "      <td>Northern Metropolitan</td>\n",
              "      <td>4019</td>\n",
              "    </tr>\n",
              "    <tr>\n",
              "      <th>4</th>\n",
              "      <td>Abbotsford</td>\n",
              "      <td>5 Charles St</td>\n",
              "      <td>3</td>\n",
              "      <td>h</td>\n",
              "      <td>1465000.0</td>\n",
              "      <td>SP</td>\n",
              "      <td>Biggin</td>\n",
              "      <td>4/03/2017</td>\n",
              "      <td>2.5</td>\n",
              "      <td>3067</td>\n",
              "      <td>3.0</td>\n",
              "      <td>2.0</td>\n",
              "      <td>0.0</td>\n",
              "      <td>134.0</td>\n",
              "      <td>150.0</td>\n",
              "      <td>1900.0</td>\n",
              "      <td>Yarra</td>\n",
              "      <td>-37.8093</td>\n",
              "      <td>144.9944</td>\n",
              "      <td>Northern Metropolitan</td>\n",
              "      <td>4019</td>\n",
              "    </tr>\n",
              "  </tbody>\n",
              "</table>\n",
              "</div>"
            ],
            "text/plain": [
              "       Suburb             Address  ...             Regionname Propertycount\n",
              "0  Abbotsford       68 Studley St  ...  Northern Metropolitan          4019\n",
              "1  Abbotsford        85 Turner St  ...  Northern Metropolitan          4019\n",
              "2  Abbotsford     25 Bloomburg St  ...  Northern Metropolitan          4019\n",
              "3  Abbotsford  18/659 Victoria St  ...  Northern Metropolitan          4019\n",
              "4  Abbotsford        5 Charles St  ...  Northern Metropolitan          4019\n",
              "\n",
              "[5 rows x 21 columns]"
            ]
          },
          "metadata": {
            "tags": []
          },
          "execution_count": 2
        }
      ]
    },
    {
      "cell_type": "code",
      "metadata": {
        "id": "CYyNbw-kAeN9",
        "colab_type": "code",
        "colab": {
          "base_uri": "https://localhost:8080/",
          "height": 34
        },
        "outputId": "2e4a28d4-8e08-469e-a40b-669d00d19433"
      },
      "source": [
        "dataframe.drop(columns=['Postcode'],inplace=True)\n",
        "dataframe.shape"
      ],
      "execution_count": null,
      "outputs": [
        {
          "output_type": "execute_result",
          "data": {
            "text/plain": [
              "(17407, 20)"
            ]
          },
          "metadata": {
            "tags": []
          },
          "execution_count": 3
        }
      ]
    },
    {
      "cell_type": "markdown",
      "metadata": {
        "id": "VqgNC_XOAhgC",
        "colab_type": "text"
      },
      "source": [
        "Se puede ver que en el dataset hay 21 caracteristicas y 17407 muestras. \\\n",
        "Lo que hay que hacer es ver que tipo de dato es cada característica."
      ]
    },
    {
      "cell_type": "code",
      "metadata": {
        "id": "QnIq6ttn52Ui",
        "colab_type": "code",
        "colab": {
          "base_uri": "https://localhost:8080/",
          "height": 374
        },
        "outputId": "2f2560cb-b08a-445d-dc25-278aea7b375e"
      },
      "source": [
        "dataframe.dtypes"
      ],
      "execution_count": null,
      "outputs": [
        {
          "output_type": "execute_result",
          "data": {
            "text/plain": [
              "Suburb            object\n",
              "Address           object\n",
              "Rooms              int64\n",
              "Type              object\n",
              "Price            float64\n",
              "Method            object\n",
              "SellerG           object\n",
              "Date              object\n",
              "Distance         float64\n",
              "Bedroom2         float64\n",
              "Bathroom         float64\n",
              "Car              float64\n",
              "Landsize         float64\n",
              "BuildingArea     float64\n",
              "YearBuilt        float64\n",
              "CouncilArea       object\n",
              "Lattitude        float64\n",
              "Longtitude       float64\n",
              "Regionname        object\n",
              "Propertycount      int64\n",
              "dtype: object"
            ]
          },
          "metadata": {
            "tags": []
          },
          "execution_count": 4
        }
      ]
    },
    {
      "cell_type": "markdown",
      "metadata": {
        "id": "jwp9FTDgxeWF",
        "colab_type": "text"
      },
      "source": [
        "Se puede ver qu existen 8 características categoricas y el resto son numéricas. \n",
        "Las caracteristicas son las siguientes:\n",
        "- Suburb: Suburbio o Barrio donde esta la casa\n",
        "- Address: Dirección \n",
        "- Rooms: El numero de habitaciones\n",
        "- Type: El tipo de vivienda donde 'h' corresponde a casas, cabañas, 'u' es casas tipounit y 't' se refiere a viviendas adosadas.\n",
        "- SellerG: Agencia de Ventas\n",
        "- Date: fecha de la venta\n",
        "- Distance: Distancia en km desde la casa hasta el centro de Melbourne\n",
        "- Regionname: Region donde se encuentra ubicada.\n",
        "- Propertycount: Numero de propiedades en el suburbio\n",
        "- Bedroom 2: Caracteristica relacionada al numero de habitaciones. \n",
        "- Bathroom: El numero de baños \n",
        "- Car: Numero de espacios para estacionar el carro\n",
        "- Landsize: Corresponde al area de la propiedad en metros que no esta construida \n",
        "- Building Area: Area Construida en metros \n",
        "- Price: Precio en dolares australianos\n",
        "- YearBuilt: Año en que se construyo la casa\n",
        "- CouncilArea: Consejo de gobierno de la zona\n",
        "- Method: Metodo con el que se adquirio la casa. \n",
        "S - propiedad vendida;\n",
        "SP - propiedad vendida anteriormente;\n",
        "PI: propiedad transferida;\n",
        "PN - vendido antes no revelado;\n",
        "SN - vendido no revelado;\n",
        "NB: sin oferta;\n",
        "VB: oferta del proveedor;\n",
        "W - retirado antes de la subasta;\n",
        "SA - vendido después de la subasta;\n",
        "SS - vendido después del precio de la subasta no revelado.\n",
        "N / A: el precio o la oferta más alta no están disponibles.\n",
        "- Lattitude: Latitud\n",
        "- Longtittude: Longitud"
      ]
    },
    {
      "cell_type": "markdown",
      "metadata": {
        "id": "O7PHSOyRBK3w",
        "colab_type": "text"
      },
      "source": [
        "Lo siguente es mirar si se encuentran valores nulos en las columnas"
      ]
    },
    {
      "cell_type": "code",
      "metadata": {
        "id": "7cFxSPiYBfsJ",
        "colab_type": "code",
        "colab": {
          "base_uri": "https://localhost:8080/",
          "height": 374
        },
        "outputId": "ab49692d-3a27-411f-ed6b-c53fe28badf4"
      },
      "source": [
        "dataframe.isnull().any()"
      ],
      "execution_count": null,
      "outputs": [
        {
          "output_type": "execute_result",
          "data": {
            "text/plain": [
              "Suburb           False\n",
              "Address          False\n",
              "Rooms            False\n",
              "Type             False\n",
              "Price             True\n",
              "Method           False\n",
              "SellerG          False\n",
              "Date             False\n",
              "Distance         False\n",
              "Bedroom2          True\n",
              "Bathroom          True\n",
              "Car               True\n",
              "Landsize          True\n",
              "BuildingArea      True\n",
              "YearBuilt         True\n",
              "CouncilArea       True\n",
              "Lattitude         True\n",
              "Longtitude        True\n",
              "Regionname       False\n",
              "Propertycount    False\n",
              "dtype: bool"
            ]
          },
          "metadata": {
            "tags": []
          },
          "execution_count": 5
        }
      ]
    },
    {
      "cell_type": "markdown",
      "metadata": {
        "id": "pHnOkLmZEB6f",
        "colab_type": "text"
      },
      "source": [
        "Como se sabe que hay valores nulos en algunas columnas con valores nulos, lo que sigue es mirar cuantos hay en cada columna para poder proceder con la estrategia."
      ]
    },
    {
      "cell_type": "code",
      "metadata": {
        "id": "TUKYPC13D3im",
        "colab_type": "code",
        "colab": {
          "base_uri": "https://localhost:8080/",
          "height": 374
        },
        "outputId": "3d3dd46b-9f50-4f7f-9d41-2c0b3057bf5a"
      },
      "source": [
        "dataframe.isna().sum()"
      ],
      "execution_count": null,
      "outputs": [
        {
          "output_type": "execute_result",
          "data": {
            "text/plain": [
              "Suburb               0\n",
              "Address              0\n",
              "Rooms                0\n",
              "Type                 0\n",
              "Price             3882\n",
              "Method               0\n",
              "SellerG              0\n",
              "Date                 0\n",
              "Distance             0\n",
              "Bedroom2          3782\n",
              "Bathroom          3782\n",
              "Car               3782\n",
              "Landsize          3804\n",
              "BuildingArea     10084\n",
              "YearBuilt         8978\n",
              "CouncilArea       3806\n",
              "Lattitude         3670\n",
              "Longtitude        3670\n",
              "Regionname           0\n",
              "Propertycount        0\n",
              "dtype: int64"
            ]
          },
          "metadata": {
            "tags": []
          },
          "execution_count": 6
        }
      ]
    },
    {
      "cell_type": "markdown",
      "metadata": {
        "id": "J81dqGt9I60z",
        "colab_type": "text"
      },
      "source": [
        "Se puede ver que hay varias columnas con valores nulos, se destaca que en la columna del area construida mas de la mitad de los datos son nulos pero como esta caracteristica influye entonces no se puede eliminar la columna. Entonces lo mejor es eliminarle las filas con valores nulos."
      ]
    },
    {
      "cell_type": "code",
      "metadata": {
        "id": "53WT7ZwdEZWC",
        "colab_type": "code",
        "colab": {
          "base_uri": "https://localhost:8080/",
          "height": 374
        },
        "outputId": "1cb48767-112a-4238-9bbe-87cb358081e9"
      },
      "source": [
        "dataframe.dropna(axis='index',subset=['BuildingArea'],inplace=True)\n",
        "dataframe.isnull().sum()"
      ],
      "execution_count": null,
      "outputs": [
        {
          "output_type": "execute_result",
          "data": {
            "text/plain": [
              "Suburb              0\n",
              "Address             0\n",
              "Rooms               0\n",
              "Type                0\n",
              "Price            1711\n",
              "Method              0\n",
              "SellerG             0\n",
              "Date                0\n",
              "Distance            0\n",
              "Bedroom2            0\n",
              "Bathroom            0\n",
              "Car                 0\n",
              "Landsize            0\n",
              "BuildingArea        0\n",
              "YearBuilt         277\n",
              "CouncilArea         0\n",
              "Lattitude           5\n",
              "Longtitude          5\n",
              "Regionname          0\n",
              "Propertycount       0\n",
              "dtype: int64"
            ]
          },
          "metadata": {
            "tags": []
          },
          "execution_count": 7
        }
      ]
    },
    {
      "cell_type": "code",
      "metadata": {
        "id": "XA9dtVOFFPfx",
        "colab_type": "code",
        "colab": {
          "base_uri": "https://localhost:8080/",
          "height": 34
        },
        "outputId": "a9a6a670-de71-4f60-8c0c-219c861661c1"
      },
      "source": [
        "dataframe.shape#Cantidad de datos y caracteristicas despues de  eliminar las muestras con valores nulos de la columna del areaconstruida"
      ],
      "execution_count": null,
      "outputs": [
        {
          "output_type": "execute_result",
          "data": {
            "text/plain": [
              "(7323, 20)"
            ]
          },
          "metadata": {
            "tags": []
          },
          "execution_count": 8
        }
      ]
    },
    {
      "cell_type": "markdown",
      "metadata": {
        "id": "ctO5flqk3DDH",
        "colab_type": "text"
      },
      "source": [
        "Como aaun hay valores nulos en el precio, en el año de construccion, la latitud y la longitud se requiere una descripcion de cada una de estas para la estrategia del llenado."
      ]
    },
    {
      "cell_type": "code",
      "metadata": {
        "id": "SWJq4wyj3WB1",
        "colab_type": "code",
        "colab": {
          "base_uri": "https://localhost:8080/",
          "height": 170
        },
        "outputId": "51fb4b20-8660-43f0-f77f-e2d2b42fa1e6"
      },
      "source": [
        "dataframe['Price'].describe()"
      ],
      "execution_count": null,
      "outputs": [
        {
          "output_type": "execute_result",
          "data": {
            "text/plain": [
              "count    5.612000e+03\n",
              "mean     1.093588e+06\n",
              "std      6.851331e+05\n",
              "min      1.310000e+05\n",
              "25%      6.387500e+05\n",
              "50%      9.000000e+05\n",
              "75%      1.350000e+06\n",
              "max      8.000000e+06\n",
              "Name: Price, dtype: float64"
            ]
          },
          "metadata": {
            "tags": []
          },
          "execution_count": 9
        }
      ]
    },
    {
      "cell_type": "code",
      "metadata": {
        "id": "vAFCsbsh3ssn",
        "colab_type": "code",
        "colab": {
          "base_uri": "https://localhost:8080/",
          "height": 221
        },
        "outputId": "e32318e5-4125-4ed6-8e51-e27dd58cfeb6"
      },
      "source": [
        "dataframe['Price'].value_counts()"
      ],
      "execution_count": null,
      "outputs": [
        {
          "output_type": "execute_result",
          "data": {
            "text/plain": [
              "600000.0     55\n",
              "1100000.0    47\n",
              "1300000.0    42\n",
              "650000.0     41\n",
              "500000.0     36\n",
              "             ..\n",
              "319000.0      1\n",
              "2345000.0     1\n",
              "887500.0      1\n",
              "1451000.0     1\n",
              "2376000.0     1\n",
              "Name: Price, Length: 1494, dtype: int64"
            ]
          },
          "metadata": {
            "tags": []
          },
          "execution_count": 10
        }
      ]
    },
    {
      "cell_type": "markdown",
      "metadata": {
        "id": "vwqoeZWD5x8e",
        "colab_type": "text"
      },
      "source": [
        "Con la serie de arriba se puede ver cual es el valor mas repetido"
      ]
    },
    {
      "cell_type": "code",
      "metadata": {
        "id": "7o0Yy9o15Wk3",
        "colab_type": "code",
        "colab": {
          "base_uri": "https://localhost:8080/",
          "height": 34
        },
        "outputId": "269e7965-46e9-4423-b31c-507ae70c34f4"
      },
      "source": [
        "len(dataframe[dataframe['Price']==dataframe['Price'].median()])#Numero de veces que aparece la mediana de los datos"
      ],
      "execution_count": null,
      "outputs": [
        {
          "output_type": "execute_result",
          "data": {
            "text/plain": [
              "33"
            ]
          },
          "metadata": {
            "tags": []
          },
          "execution_count": 11
        }
      ]
    },
    {
      "cell_type": "code",
      "metadata": {
        "id": "7709qOIB5mP2",
        "colab_type": "code",
        "colab": {
          "base_uri": "https://localhost:8080/",
          "height": 34
        },
        "outputId": "924093ef-ad62-47c3-c8a4-7aad0777ca6e"
      },
      "source": [
        "len(dataframe[dataframe['Price']==dataframe['Price'].mean()])"
      ],
      "execution_count": null,
      "outputs": [
        {
          "output_type": "execute_result",
          "data": {
            "text/plain": [
              "0"
            ]
          },
          "metadata": {
            "tags": []
          },
          "execution_count": 12
        }
      ]
    },
    {
      "cell_type": "code",
      "metadata": {
        "id": "3nMTzviXGqEe",
        "colab_type": "code",
        "colab": {
          "base_uri": "https://localhost:8080/",
          "height": 422
        },
        "outputId": "b558309c-7421-4a2a-fbd2-2e83f0fa1234"
      },
      "source": [
        "fig, ax=plt.subplots(figsize=(10,6))\n",
        "sns.distplot(dataframe['Price'],color='b',ax=ax)"
      ],
      "execution_count": null,
      "outputs": [
        {
          "output_type": "execute_result",
          "data": {
            "text/plain": [
              "<matplotlib.axes._subplots.AxesSubplot at 0x7f9e6a2f65f8>"
            ]
          },
          "metadata": {
            "tags": []
          },
          "execution_count": 13
        },
        {
          "output_type": "display_data",
          "data": {
            "image/png": "[encoded data removed]",
            "text/plain": [
              "<Figure size 720x432 with 1 Axes>"
            ]
          },
          "metadata": {
            "tags": [],
            "needs_background": "light"
          }
        }
      ]
    },
    {
      "cell_type": "markdown",
      "metadata": {
        "id": "J8piRBhX6FgE",
        "colab_type": "text"
      },
      "source": [
        "Teniendo en cuenta la distribcion de la grafica de arriba y que el valor de la media de la columna no aparece en ningun dato, con el fin de conservar la distrbucion mostrada los valores nulos se llenaran con el precio mas repetido."
      ]
    },
    {
      "cell_type": "code",
      "metadata": {
        "id": "nOJ6DRYY6gIt",
        "colab_type": "code",
        "colab": {}
      },
      "source": [
        "dataframe['Price']=dataframe['Price'].fillna(value=600000)"
      ],
      "execution_count": null,
      "outputs": []
    },
    {
      "cell_type": "code",
      "metadata": {
        "id": "RTX4lwcQLCyX",
        "colab_type": "code",
        "colab": {
          "base_uri": "https://localhost:8080/",
          "height": 374
        },
        "outputId": "45eb0b28-dc15-4429-9b1d-a81ec23faf0a"
      },
      "source": [
        "dataframe.isna().sum()"
      ],
      "execution_count": null,
      "outputs": [
        {
          "output_type": "execute_result",
          "data": {
            "text/plain": [
              "Suburb             0\n",
              "Address            0\n",
              "Rooms              0\n",
              "Type               0\n",
              "Price              0\n",
              "Method             0\n",
              "SellerG            0\n",
              "Date               0\n",
              "Distance           0\n",
              "Bedroom2           0\n",
              "Bathroom           0\n",
              "Car                0\n",
              "Landsize           0\n",
              "BuildingArea       0\n",
              "YearBuilt        277\n",
              "CouncilArea        0\n",
              "Lattitude          5\n",
              "Longtitude         5\n",
              "Regionname         0\n",
              "Propertycount      0\n",
              "dtype: int64"
            ]
          },
          "metadata": {
            "tags": []
          },
          "execution_count": 15
        }
      ]
    },
    {
      "cell_type": "markdown",
      "metadata": {
        "id": "VzydOsjM7vsG",
        "colab_type": "text"
      },
      "source": [
        "Ahora hay que realizar esa misma inspeccion a la variable del año de la construcción"
      ]
    },
    {
      "cell_type": "code",
      "metadata": {
        "id": "WMvxWw0V76VU",
        "colab_type": "code",
        "colab": {
          "base_uri": "https://localhost:8080/",
          "height": 221
        },
        "outputId": "c36d4dcb-943c-46a9-b6f2-3eba2e7d23c6"
      },
      "source": [
        "dataframe['YearBuilt'].value_counts()"
      ],
      "execution_count": null,
      "outputs": [
        {
          "output_type": "execute_result",
          "data": {
            "text/plain": [
              "1970.0    648\n",
              "1960.0    578\n",
              "1950.0    536\n",
              "1900.0    344\n",
              "1930.0    298\n",
              "         ... \n",
              "1919.0      1\n",
              "1933.0      1\n",
              "1981.0      1\n",
              "1884.0      1\n",
              "1872.0      1\n",
              "Name: YearBuilt, Length: 143, dtype: int64"
            ]
          },
          "metadata": {
            "tags": []
          },
          "execution_count": 16
        }
      ]
    },
    {
      "cell_type": "code",
      "metadata": {
        "id": "JyRKeuiiAP0u",
        "colab_type": "code",
        "colab": {
          "base_uri": "https://localhost:8080/",
          "height": 170
        },
        "outputId": "7a884a1e-3d2d-4d22-a36b-c1ebc4e90979"
      },
      "source": [
        "dataframe['YearBuilt'].describe()"
      ],
      "execution_count": null,
      "outputs": [
        {
          "output_type": "execute_result",
          "data": {
            "text/plain": [
              "count    7046.000000\n",
              "mean     1961.034772\n",
              "std        39.256610\n",
              "min      1196.000000\n",
              "25%      1930.000000\n",
              "50%      1965.000000\n",
              "75%      1999.000000\n",
              "max      2106.000000\n",
              "Name: YearBuilt, dtype: float64"
            ]
          },
          "metadata": {
            "tags": []
          },
          "execution_count": 17
        }
      ]
    },
    {
      "cell_type": "markdown",
      "metadata": {
        "id": "4UR4U8xi-xVJ",
        "colab_type": "text"
      },
      "source": [
        "De la descripcion se puede ver que hay años de construcción demasiados descabellados,lo mejor es eliminar estas muestras."
      ]
    },
    {
      "cell_type": "code",
      "metadata": {
        "id": "8RBURuLa_Fsq",
        "colab_type": "code",
        "colab": {
          "base_uri": "https://localhost:8080/",
          "height": 134
        },
        "outputId": "0825c5ef-1035-4694-daa7-3857cd21635d"
      },
      "source": [
        "dataframe[dataframe['YearBuilt']<1700]"
      ],
      "execution_count": null,
      "outputs": [
        {
          "output_type": "execute_result",
          "data": {
            "text/html": [
              "<div>\n",
              "<style scoped>\n",
              "    .dataframe tbody tr th:only-of-type {\n",
              "        vertical-align: middle;\n",
              "    }\n",
              "\n",
              "    .dataframe tbody tr th {\n",
              "        vertical-align: top;\n",
              "    }\n",
              "\n",
              "    .dataframe thead th {\n",
              "        text-align: right;\n",
              "    }\n",
              "</style>\n",
              "<table border=\"1\" class=\"dataframe\">\n",
              "  <thead>\n",
              "    <tr style=\"text-align: right;\">\n",
              "      <th></th>\n",
              "      <th>Suburb</th>\n",
              "      <th>Address</th>\n",
              "      <th>Rooms</th>\n",
              "      <th>Type</th>\n",
              "      <th>Price</th>\n",
              "      <th>Method</th>\n",
              "      <th>SellerG</th>\n",
              "      <th>Date</th>\n",
              "      <th>Distance</th>\n",
              "      <th>Bedroom2</th>\n",
              "      <th>Bathroom</th>\n",
              "      <th>Car</th>\n",
              "      <th>Landsize</th>\n",
              "      <th>BuildingArea</th>\n",
              "      <th>YearBuilt</th>\n",
              "      <th>CouncilArea</th>\n",
              "      <th>Lattitude</th>\n",
              "      <th>Longtitude</th>\n",
              "      <th>Regionname</th>\n",
              "      <th>Propertycount</th>\n",
              "    </tr>\n",
              "  </thead>\n",
              "  <tbody>\n",
              "    <tr>\n",
              "      <th>16424</th>\n",
              "      <td>Mount Waverley</td>\n",
              "      <td>5 Armstrong St</td>\n",
              "      <td>3</td>\n",
              "      <td>h</td>\n",
              "      <td>1200000.0</td>\n",
              "      <td>VB</td>\n",
              "      <td>McGrath</td>\n",
              "      <td>24/06/2017</td>\n",
              "      <td>14.2</td>\n",
              "      <td>3.0</td>\n",
              "      <td>1.0</td>\n",
              "      <td>4.0</td>\n",
              "      <td>807.0</td>\n",
              "      <td>117.0</td>\n",
              "      <td>1196.0</td>\n",
              "      <td>Monash</td>\n",
              "      <td>-37.86788</td>\n",
              "      <td>145.12121</td>\n",
              "      <td>Eastern Metropolitan</td>\n",
              "      <td>13366</td>\n",
              "    </tr>\n",
              "  </tbody>\n",
              "</table>\n",
              "</div>"
            ],
            "text/plain": [
              "               Suburb         Address  ...            Regionname Propertycount\n",
              "16424  Mount Waverley  5 Armstrong St  ...  Eastern Metropolitan         13366\n",
              "\n",
              "[1 rows x 20 columns]"
            ]
          },
          "metadata": {
            "tags": []
          },
          "execution_count": 18
        }
      ]
    },
    {
      "cell_type": "code",
      "metadata": {
        "id": "LGa7eXuE8DnV",
        "colab_type": "code",
        "colab": {
          "base_uri": "https://localhost:8080/",
          "height": 134
        },
        "outputId": "573c0dea-01ec-4aa6-db35-b92090b85a87"
      },
      "source": [
        "dataframe[dataframe['YearBuilt']>2018]"
      ],
      "execution_count": null,
      "outputs": [
        {
          "output_type": "execute_result",
          "data": {
            "text/html": [
              "<div>\n",
              "<style scoped>\n",
              "    .dataframe tbody tr th:only-of-type {\n",
              "        vertical-align: middle;\n",
              "    }\n",
              "\n",
              "    .dataframe tbody tr th {\n",
              "        vertical-align: top;\n",
              "    }\n",
              "\n",
              "    .dataframe thead th {\n",
              "        text-align: right;\n",
              "    }\n",
              "</style>\n",
              "<table border=\"1\" class=\"dataframe\">\n",
              "  <thead>\n",
              "    <tr style=\"text-align: right;\">\n",
              "      <th></th>\n",
              "      <th>Suburb</th>\n",
              "      <th>Address</th>\n",
              "      <th>Rooms</th>\n",
              "      <th>Type</th>\n",
              "      <th>Price</th>\n",
              "      <th>Method</th>\n",
              "      <th>SellerG</th>\n",
              "      <th>Date</th>\n",
              "      <th>Distance</th>\n",
              "      <th>Bedroom2</th>\n",
              "      <th>Bathroom</th>\n",
              "      <th>Car</th>\n",
              "      <th>Landsize</th>\n",
              "      <th>BuildingArea</th>\n",
              "      <th>YearBuilt</th>\n",
              "      <th>CouncilArea</th>\n",
              "      <th>Lattitude</th>\n",
              "      <th>Longtitude</th>\n",
              "      <th>Regionname</th>\n",
              "      <th>Propertycount</th>\n",
              "    </tr>\n",
              "  </thead>\n",
              "  <tbody>\n",
              "    <tr>\n",
              "      <th>2453</th>\n",
              "      <td>Bulleen</td>\n",
              "      <td>3 Maringa St</td>\n",
              "      <td>4</td>\n",
              "      <td>h</td>\n",
              "      <td>600000.0</td>\n",
              "      <td>SP</td>\n",
              "      <td>Ray</td>\n",
              "      <td>7/11/2016</td>\n",
              "      <td>11.8</td>\n",
              "      <td>4.0</td>\n",
              "      <td>2.0</td>\n",
              "      <td>2.0</td>\n",
              "      <td>729.0</td>\n",
              "      <td>255.0</td>\n",
              "      <td>2106.0</td>\n",
              "      <td>Manningham</td>\n",
              "      <td>-37.7637</td>\n",
              "      <td>145.0881</td>\n",
              "      <td>Eastern Metropolitan</td>\n",
              "      <td>4480</td>\n",
              "    </tr>\n",
              "  </tbody>\n",
              "</table>\n",
              "</div>"
            ],
            "text/plain": [
              "       Suburb       Address  ...            Regionname Propertycount\n",
              "2453  Bulleen  3 Maringa St  ...  Eastern Metropolitan          4480\n",
              "\n",
              "[1 rows x 20 columns]"
            ]
          },
          "metadata": {
            "tags": []
          },
          "execution_count": 19
        }
      ]
    },
    {
      "cell_type": "code",
      "metadata": {
        "id": "faB5ZwaH-CsA",
        "colab_type": "code",
        "colab": {}
      },
      "source": [
        "dataframe.drop(labels=[2453,16424],axis=0,inplace=True)"
      ],
      "execution_count": null,
      "outputs": []
    },
    {
      "cell_type": "code",
      "metadata": {
        "id": "ReOQjrz59eSk",
        "colab_type": "code",
        "colab": {
          "base_uri": "https://localhost:8080/",
          "height": 411
        },
        "outputId": "c7ffe959-1b51-4647-9eac-75efb624db80"
      },
      "source": [
        "plt.figure(figsize=(10,6))\n",
        "sns.distplot(dataframe['YearBuilt'],color='r')"
      ],
      "execution_count": null,
      "outputs": [
        {
          "output_type": "execute_result",
          "data": {
            "text/plain": [
              "<matplotlib.axes._subplots.AxesSubplot at 0x7f9e6a3567b8>"
            ]
          },
          "metadata": {
            "tags": []
          },
          "execution_count": 21
        },
        {
          "output_type": "display_data",
          "data": {
            "image/png": "[encoded data removed]",
            "text/plain": [
              "<Figure size 720x432 with 1 Axes>"
            ]
          },
          "metadata": {
            "tags": [],
            "needs_background": "light"
          }
        }
      ]
    },
    {
      "cell_type": "markdown",
      "metadata": {
        "id": "vnTf12r3AjA2",
        "colab_type": "text"
      },
      "source": [
        "Como hay mas casas consruidas en el año 1970 que valores nulos, se les asignara este valor, el mas frecuente al igual que con las columnas de latitud y longitud."
      ]
    },
    {
      "cell_type": "markdown",
      "metadata": {
        "id": "smlXquXIFNcq",
        "colab_type": "text"
      },
      "source": [
        "## **Seleccion de Caracteristicas**"
      ]
    },
    {
      "cell_type": "markdown",
      "metadata": {
        "id": "DHjcqxmy_6tZ",
        "colab_type": "text"
      },
      "source": [
        "Para el caso de la columna de la fecha de la venta, lo que influye en el precio es el año, por eso se va a transformar solo usando su año y eliminando el mes y dia."
      ]
    },
    {
      "cell_type": "code",
      "metadata": {
        "id": "nV5p6DuaFMdx",
        "colab_type": "code",
        "colab": {
          "base_uri": "https://localhost:8080/",
          "height": 326
        },
        "outputId": "457dfa4c-23d3-4dd2-9581-3b609842bba6"
      },
      "source": [
        "dataframe['Date']=pd.DatetimeIndex(dataframe['Date']).year\n",
        "dataframe.head()"
      ],
      "execution_count": null,
      "outputs": [
        {
          "output_type": "execute_result",
          "data": {
            "text/html": [
              "<div>\n",
              "<style scoped>\n",
              "    .dataframe tbody tr th:only-of-type {\n",
              "        vertical-align: middle;\n",
              "    }\n",
              "\n",
              "    .dataframe tbody tr th {\n",
              "        vertical-align: top;\n",
              "    }\n",
              "\n",
              "    .dataframe thead th {\n",
              "        text-align: right;\n",
              "    }\n",
              "</style>\n",
              "<table border=\"1\" class=\"dataframe\">\n",
              "  <thead>\n",
              "    <tr style=\"text-align: right;\">\n",
              "      <th></th>\n",
              "      <th>Suburb</th>\n",
              "      <th>Address</th>\n",
              "      <th>Rooms</th>\n",
              "      <th>Type</th>\n",
              "      <th>Price</th>\n",
              "      <th>Method</th>\n",
              "      <th>SellerG</th>\n",
              "      <th>Date</th>\n",
              "      <th>Distance</th>\n",
              "      <th>Bedroom2</th>\n",
              "      <th>Bathroom</th>\n",
              "      <th>Car</th>\n",
              "      <th>Landsize</th>\n",
              "      <th>BuildingArea</th>\n",
              "      <th>YearBuilt</th>\n",
              "      <th>CouncilArea</th>\n",
              "      <th>Lattitude</th>\n",
              "      <th>Longtitude</th>\n",
              "      <th>Regionname</th>\n",
              "      <th>Propertycount</th>\n",
              "    </tr>\n",
              "  </thead>\n",
              "  <tbody>\n",
              "    <tr>\n",
              "      <th>2</th>\n",
              "      <td>Abbotsford</td>\n",
              "      <td>25 Bloomburg St</td>\n",
              "      <td>2</td>\n",
              "      <td>h</td>\n",
              "      <td>1035000.0</td>\n",
              "      <td>S</td>\n",
              "      <td>Biggin</td>\n",
              "      <td>2016</td>\n",
              "      <td>2.5</td>\n",
              "      <td>2.0</td>\n",
              "      <td>1.0</td>\n",
              "      <td>0.0</td>\n",
              "      <td>156.0</td>\n",
              "      <td>79.0</td>\n",
              "      <td>1900.0</td>\n",
              "      <td>Yarra</td>\n",
              "      <td>-37.8079</td>\n",
              "      <td>144.9934</td>\n",
              "      <td>Northern Metropolitan</td>\n",
              "      <td>4019</td>\n",
              "    </tr>\n",
              "    <tr>\n",
              "      <th>4</th>\n",
              "      <td>Abbotsford</td>\n",
              "      <td>5 Charles St</td>\n",
              "      <td>3</td>\n",
              "      <td>h</td>\n",
              "      <td>1465000.0</td>\n",
              "      <td>SP</td>\n",
              "      <td>Biggin</td>\n",
              "      <td>2017</td>\n",
              "      <td>2.5</td>\n",
              "      <td>3.0</td>\n",
              "      <td>2.0</td>\n",
              "      <td>0.0</td>\n",
              "      <td>134.0</td>\n",
              "      <td>150.0</td>\n",
              "      <td>1900.0</td>\n",
              "      <td>Yarra</td>\n",
              "      <td>-37.8093</td>\n",
              "      <td>144.9944</td>\n",
              "      <td>Northern Metropolitan</td>\n",
              "      <td>4019</td>\n",
              "    </tr>\n",
              "    <tr>\n",
              "      <th>6</th>\n",
              "      <td>Abbotsford</td>\n",
              "      <td>55a Park St</td>\n",
              "      <td>4</td>\n",
              "      <td>h</td>\n",
              "      <td>1600000.0</td>\n",
              "      <td>VB</td>\n",
              "      <td>Nelson</td>\n",
              "      <td>2016</td>\n",
              "      <td>2.5</td>\n",
              "      <td>3.0</td>\n",
              "      <td>1.0</td>\n",
              "      <td>2.0</td>\n",
              "      <td>120.0</td>\n",
              "      <td>142.0</td>\n",
              "      <td>2014.0</td>\n",
              "      <td>Yarra</td>\n",
              "      <td>-37.8072</td>\n",
              "      <td>144.9941</td>\n",
              "      <td>Northern Metropolitan</td>\n",
              "      <td>4019</td>\n",
              "    </tr>\n",
              "    <tr>\n",
              "      <th>7</th>\n",
              "      <td>Abbotsford</td>\n",
              "      <td>16 Maugie St</td>\n",
              "      <td>4</td>\n",
              "      <td>h</td>\n",
              "      <td>600000.0</td>\n",
              "      <td>SN</td>\n",
              "      <td>Nelson</td>\n",
              "      <td>2016</td>\n",
              "      <td>2.5</td>\n",
              "      <td>3.0</td>\n",
              "      <td>2.0</td>\n",
              "      <td>2.0</td>\n",
              "      <td>400.0</td>\n",
              "      <td>220.0</td>\n",
              "      <td>2006.0</td>\n",
              "      <td>Yarra</td>\n",
              "      <td>-37.7965</td>\n",
              "      <td>144.9965</td>\n",
              "      <td>Northern Metropolitan</td>\n",
              "      <td>4019</td>\n",
              "    </tr>\n",
              "    <tr>\n",
              "      <th>11</th>\n",
              "      <td>Abbotsford</td>\n",
              "      <td>124 Yarra St</td>\n",
              "      <td>3</td>\n",
              "      <td>h</td>\n",
              "      <td>1876000.0</td>\n",
              "      <td>S</td>\n",
              "      <td>Nelson</td>\n",
              "      <td>2016</td>\n",
              "      <td>2.5</td>\n",
              "      <td>4.0</td>\n",
              "      <td>2.0</td>\n",
              "      <td>0.0</td>\n",
              "      <td>245.0</td>\n",
              "      <td>210.0</td>\n",
              "      <td>1910.0</td>\n",
              "      <td>Yarra</td>\n",
              "      <td>-37.8024</td>\n",
              "      <td>144.9993</td>\n",
              "      <td>Northern Metropolitan</td>\n",
              "      <td>4019</td>\n",
              "    </tr>\n",
              "  </tbody>\n",
              "</table>\n",
              "</div>"
            ],
            "text/plain": [
              "        Suburb          Address  ...             Regionname Propertycount\n",
              "2   Abbotsford  25 Bloomburg St  ...  Northern Metropolitan          4019\n",
              "4   Abbotsford     5 Charles St  ...  Northern Metropolitan          4019\n",
              "6   Abbotsford      55a Park St  ...  Northern Metropolitan          4019\n",
              "7   Abbotsford     16 Maugie St  ...  Northern Metropolitan          4019\n",
              "11  Abbotsford     124 Yarra St  ...  Northern Metropolitan          4019\n",
              "\n",
              "[5 rows x 20 columns]"
            ]
          },
          "metadata": {
            "tags": []
          },
          "execution_count": 22
        }
      ]
    },
    {
      "cell_type": "markdown",
      "metadata": {
        "id": "7EbQZ2qtHadH",
        "colab_type": "text"
      },
      "source": [
        "Despues de haber manipulado los datos nulos, lo que sigue es seleccionar las caracteristicas, ya sea eliminando o creando una nueva a partir de las existentes.\\\n",
        "Con respecto a las caracteristicas de Suburb, Address, Regionname and Council Area estan relacionadas con la ubicación, entonces para evitar redundancias en esa categoria solo se usara la columna de la Region. \\\n",
        "Con las columnas de LandSize y BuildingArea como se refieren a tamaño se creara una columna nueva que sea la suma de estas 2 y se eliminaran las otras 2. \\\n",
        "La antiguedad de la casa es muy importante a la hora de dar el precio es importante y para eso se debe tener en cuenta tanto el año de construccion como el año en que se vendio, asi que se creara una columna que sea la resta  y se eliminan las otras 2. \\\n",
        "Como la agencia de ventas no es tan crucial a la hora de dar el precio a una casa, entonces la columna  SellerG se elimina."
      ]
    },
    {
      "cell_type": "code",
      "metadata": {
        "id": "eVKAVn0nMjiI",
        "colab_type": "code",
        "colab": {
          "base_uri": "https://localhost:8080/",
          "height": 326
        },
        "outputId": "73241a98-483c-4f01-f401-e88ffa166709"
      },
      "source": [
        "dataframe['Age']=dataframe['Date']-dataframe['YearBuilt']\n",
        "dataframe['TotalArea']=dataframe['Landsize']+dataframe['BuildingArea']\n",
        "dataframe.head()"
      ],
      "execution_count": null,
      "outputs": [
        {
          "output_type": "execute_result",
          "data": {
            "text/html": [
              "<div>\n",
              "<style scoped>\n",
              "    .dataframe tbody tr th:only-of-type {\n",
              "        vertical-align: middle;\n",
              "    }\n",
              "\n",
              "    .dataframe tbody tr th {\n",
              "        vertical-align: top;\n",
              "    }\n",
              "\n",
              "    .dataframe thead th {\n",
              "        text-align: right;\n",
              "    }\n",
              "</style>\n",
              "<table border=\"1\" class=\"dataframe\">\n",
              "  <thead>\n",
              "    <tr style=\"text-align: right;\">\n",
              "      <th></th>\n",
              "      <th>Suburb</th>\n",
              "      <th>Address</th>\n",
              "      <th>Rooms</th>\n",
              "      <th>Type</th>\n",
              "      <th>Price</th>\n",
              "      <th>Method</th>\n",
              "      <th>SellerG</th>\n",
              "      <th>Date</th>\n",
              "      <th>Distance</th>\n",
              "      <th>Bedroom2</th>\n",
              "      <th>Bathroom</th>\n",
              "      <th>Car</th>\n",
              "      <th>Landsize</th>\n",
              "      <th>BuildingArea</th>\n",
              "      <th>YearBuilt</th>\n",
              "      <th>CouncilArea</th>\n",
              "      <th>Lattitude</th>\n",
              "      <th>Longtitude</th>\n",
              "      <th>Regionname</th>\n",
              "      <th>Propertycount</th>\n",
              "      <th>Age</th>\n",
              "      <th>TotalArea</th>\n",
              "    </tr>\n",
              "  </thead>\n",
              "  <tbody>\n",
              "    <tr>\n",
              "      <th>2</th>\n",
              "      <td>Abbotsford</td>\n",
              "      <td>25 Bloomburg St</td>\n",
              "      <td>2</td>\n",
              "      <td>h</td>\n",
              "      <td>1035000.0</td>\n",
              "      <td>S</td>\n",
              "      <td>Biggin</td>\n",
              "      <td>2016</td>\n",
              "      <td>2.5</td>\n",
              "      <td>2.0</td>\n",
              "      <td>1.0</td>\n",
              "      <td>0.0</td>\n",
              "      <td>156.0</td>\n",
              "      <td>79.0</td>\n",
              "      <td>1900.0</td>\n",
              "      <td>Yarra</td>\n",
              "      <td>-37.8079</td>\n",
              "      <td>144.9934</td>\n",
              "      <td>Northern Metropolitan</td>\n",
              "      <td>4019</td>\n",
              "      <td>116.0</td>\n",
              "      <td>235.0</td>\n",
              "    </tr>\n",
              "    <tr>\n",
              "      <th>4</th>\n",
              "      <td>Abbotsford</td>\n",
              "      <td>5 Charles St</td>\n",
              "      <td>3</td>\n",
              "      <td>h</td>\n",
              "      <td>1465000.0</td>\n",
              "      <td>SP</td>\n",
              "      <td>Biggin</td>\n",
              "      <td>2017</td>\n",
              "      <td>2.5</td>\n",
              "      <td>3.0</td>\n",
              "      <td>2.0</td>\n",
              "      <td>0.0</td>\n",
              "      <td>134.0</td>\n",
              "      <td>150.0</td>\n",
              "      <td>1900.0</td>\n",
              "      <td>Yarra</td>\n",
              "      <td>-37.8093</td>\n",
              "      <td>144.9944</td>\n",
              "      <td>Northern Metropolitan</td>\n",
              "      <td>4019</td>\n",
              "      <td>117.0</td>\n",
              "      <td>284.0</td>\n",
              "    </tr>\n",
              "    <tr>\n",
              "      <th>6</th>\n",
              "      <td>Abbotsford</td>\n",
              "      <td>55a Park St</td>\n",
              "      <td>4</td>\n",
              "      <td>h</td>\n",
              "      <td>1600000.0</td>\n",
              "      <td>VB</td>\n",
              "      <td>Nelson</td>\n",
              "      <td>2016</td>\n",
              "      <td>2.5</td>\n",
              "      <td>3.0</td>\n",
              "      <td>1.0</td>\n",
              "      <td>2.0</td>\n",
              "      <td>120.0</td>\n",
              "      <td>142.0</td>\n",
              "      <td>2014.0</td>\n",
              "      <td>Yarra</td>\n",
              "      <td>-37.8072</td>\n",
              "      <td>144.9941</td>\n",
              "      <td>Northern Metropolitan</td>\n",
              "      <td>4019</td>\n",
              "      <td>2.0</td>\n",
              "      <td>262.0</td>\n",
              "    </tr>\n",
              "    <tr>\n",
              "      <th>7</th>\n",
              "      <td>Abbotsford</td>\n",
              "      <td>16 Maugie St</td>\n",
              "      <td>4</td>\n",
              "      <td>h</td>\n",
              "      <td>600000.0</td>\n",
              "      <td>SN</td>\n",
              "      <td>Nelson</td>\n",
              "      <td>2016</td>\n",
              "      <td>2.5</td>\n",
              "      <td>3.0</td>\n",
              "      <td>2.0</td>\n",
              "      <td>2.0</td>\n",
              "      <td>400.0</td>\n",
              "      <td>220.0</td>\n",
              "      <td>2006.0</td>\n",
              "      <td>Yarra</td>\n",
              "      <td>-37.7965</td>\n",
              "      <td>144.9965</td>\n",
              "      <td>Northern Metropolitan</td>\n",
              "      <td>4019</td>\n",
              "      <td>10.0</td>\n",
              "      <td>620.0</td>\n",
              "    </tr>\n",
              "    <tr>\n",
              "      <th>11</th>\n",
              "      <td>Abbotsford</td>\n",
              "      <td>124 Yarra St</td>\n",
              "      <td>3</td>\n",
              "      <td>h</td>\n",
              "      <td>1876000.0</td>\n",
              "      <td>S</td>\n",
              "      <td>Nelson</td>\n",
              "      <td>2016</td>\n",
              "      <td>2.5</td>\n",
              "      <td>4.0</td>\n",
              "      <td>2.0</td>\n",
              "      <td>0.0</td>\n",
              "      <td>245.0</td>\n",
              "      <td>210.0</td>\n",
              "      <td>1910.0</td>\n",
              "      <td>Yarra</td>\n",
              "      <td>-37.8024</td>\n",
              "      <td>144.9993</td>\n",
              "      <td>Northern Metropolitan</td>\n",
              "      <td>4019</td>\n",
              "      <td>106.0</td>\n",
              "      <td>455.0</td>\n",
              "    </tr>\n",
              "  </tbody>\n",
              "</table>\n",
              "</div>"
            ],
            "text/plain": [
              "        Suburb          Address  Rooms  ... Propertycount    Age TotalArea\n",
              "2   Abbotsford  25 Bloomburg St      2  ...          4019  116.0     235.0\n",
              "4   Abbotsford     5 Charles St      3  ...          4019  117.0     284.0\n",
              "6   Abbotsford      55a Park St      4  ...          4019    2.0     262.0\n",
              "7   Abbotsford     16 Maugie St      4  ...          4019   10.0     620.0\n",
              "11  Abbotsford     124 Yarra St      3  ...          4019  106.0     455.0\n",
              "\n",
              "[5 rows x 22 columns]"
            ]
          },
          "metadata": {
            "tags": []
          },
          "execution_count": 23
        }
      ]
    },
    {
      "cell_type": "markdown",
      "metadata": {
        "id": "H33KXB0BLrVE",
        "colab_type": "text"
      },
      "source": [
        "Como aun existen variables cualitativas y no se pueden escoger todas, por medio de las graficas de violinplot se puede conocer la relación y la influencia de estas en el precio"
      ]
    },
    {
      "cell_type": "code",
      "metadata": {
        "id": "bzlE8z9hsypD",
        "colab_type": "code",
        "colab": {
          "base_uri": "https://localhost:8080/",
          "height": 546
        },
        "outputId": "c0348bb2-60a9-47e4-f4e6-bcc82b2733cc"
      },
      "source": [
        "#Conocer la relacion existente entre la region y el precio\n",
        "fig, ax=plt.subplots(figsize=(10,6))\n",
        "sns.violinplot(data=dataframe,x='Regionname',y='Price',ax=ax)\n",
        "ax.tick_params(labelrotation=90)"
      ],
      "execution_count": null,
      "outputs": [
        {
          "output_type": "display_data",
          "data": {
            "image/png": "[encoded data removed]",
            "text/plain": [
              "<Figure size 720x432 with 1 Axes>"
            ]
          },
          "metadata": {
            "tags": [],
            "needs_background": "light"
          }
        }
      ]
    },
    {
      "cell_type": "markdown",
      "metadata": {
        "id": "yEOgV85MMlfB",
        "colab_type": "text"
      },
      "source": [
        "Se puede ver que la region influye en el precio porque en cada concentración de datos tiene un valor de precio"
      ]
    },
    {
      "cell_type": "code",
      "metadata": {
        "id": "QDYA_guPP_VH",
        "colab_type": "code",
        "colab": {
          "base_uri": "https://localhost:8080/",
          "height": 410
        },
        "outputId": "e0eece25-ccee-45c8-ffe6-c45ce3206040"
      },
      "source": [
        "fig, ax=plt.subplots(figsize=(15,6))\n",
        "sns.violinplot(data=dataframe,x='Method',y='Price',ax=ax)#Conocer la relacion existente entre El method y el precio\n",
        "ax.tick_params(labelrotation=90)"
      ],
      "execution_count": null,
      "outputs": [
        {
          "output_type": "display_data",
          "data": {
            "image/png": "[encoded data removed]",
            "text/plain": [
              "<Figure size 1080x432 with 1 Axes>"
            ]
          },
          "metadata": {
            "tags": [],
            "needs_background": "light"
          }
        }
      ]
    },
    {
      "cell_type": "markdown",
      "metadata": {
        "id": "5I142wE9QQqH",
        "colab_type": "text"
      },
      "source": [
        "Esta variable anterior se podria descartar porque sus concentraciones con respecto a los precios son parecidas"
      ]
    },
    {
      "cell_type": "code",
      "metadata": {
        "colab_type": "code",
        "id": "aGFD9ufvRQzX",
        "colab": {
          "base_uri": "https://localhost:8080/",
          "height": 422
        },
        "outputId": "a8c8e51b-90a2-4981-ead0-9428f83940c1"
      },
      "source": [
        "fig, ax=plt.subplots(figsize=(15,6))\n",
        "sns.violinplot(data=dataframe,x='Type',y='Price',ax=ax)#Conocer la relacion existente entre El Type y el precio"
      ],
      "execution_count": null,
      "outputs": [
        {
          "output_type": "execute_result",
          "data": {
            "text/plain": [
              "<matplotlib.axes._subplots.AxesSubplot at 0x7f9e6893acf8>"
            ]
          },
          "metadata": {
            "tags": []
          },
          "execution_count": 26
        },
        {
          "output_type": "display_data",
          "data": {
            "image/png": "[encoded data removed]",
            "text/plain": [
              "<Figure size 1080x432 with 1 Axes>"
            ]
          },
          "metadata": {
            "tags": [],
            "needs_background": "light"
          }
        }
      ]
    },
    {
      "cell_type": "markdown",
      "metadata": {
        "id": "tRxI51YnRfjI",
        "colab_type": "text"
      },
      "source": [
        "En la anterior casa se puede ver que el tipo de casa influye en el precio"
      ]
    },
    {
      "cell_type": "code",
      "metadata": {
        "id": "6A1r7Vz8OqVy",
        "colab_type": "code",
        "colab": {
          "base_uri": "https://localhost:8080/",
          "height": 204
        },
        "outputId": "e46f8ccc-00bb-4385-8bb7-bf58df0703b5"
      },
      "source": [
        "dataframe.drop(columns=['Suburb','Address','CouncilArea','Landsize','BuildingArea','Date',\n",
        "                        'YearBuilt','SellerG','Method'],inplace=True)\n",
        "dataframe.head()"
      ],
      "execution_count": null,
      "outputs": [
        {
          "output_type": "execute_result",
          "data": {
            "text/html": [
              "<div>\n",
              "<style scoped>\n",
              "    .dataframe tbody tr th:only-of-type {\n",
              "        vertical-align: middle;\n",
              "    }\n",
              "\n",
              "    .dataframe tbody tr th {\n",
              "        vertical-align: top;\n",
              "    }\n",
              "\n",
              "    .dataframe thead th {\n",
              "        text-align: right;\n",
              "    }\n",
              "</style>\n",
              "<table border=\"1\" class=\"dataframe\">\n",
              "  <thead>\n",
              "    <tr style=\"text-align: right;\">\n",
              "      <th></th>\n",
              "      <th>Rooms</th>\n",
              "      <th>Type</th>\n",
              "      <th>Price</th>\n",
              "      <th>Distance</th>\n",
              "      <th>Bedroom2</th>\n",
              "      <th>Bathroom</th>\n",
              "      <th>Car</th>\n",
              "      <th>Lattitude</th>\n",
              "      <th>Longtitude</th>\n",
              "      <th>Regionname</th>\n",
              "      <th>Propertycount</th>\n",
              "      <th>Age</th>\n",
              "      <th>TotalArea</th>\n",
              "    </tr>\n",
              "  </thead>\n",
              "  <tbody>\n",
              "    <tr>\n",
              "      <th>2</th>\n",
              "      <td>2</td>\n",
              "      <td>h</td>\n",
              "      <td>1035000.0</td>\n",
              "      <td>2.5</td>\n",
              "      <td>2.0</td>\n",
              "      <td>1.0</td>\n",
              "      <td>0.0</td>\n",
              "      <td>-37.8079</td>\n",
              "      <td>144.9934</td>\n",
              "      <td>Northern Metropolitan</td>\n",
              "      <td>4019</td>\n",
              "      <td>116.0</td>\n",
              "      <td>235.0</td>\n",
              "    </tr>\n",
              "    <tr>\n",
              "      <th>4</th>\n",
              "      <td>3</td>\n",
              "      <td>h</td>\n",
              "      <td>1465000.0</td>\n",
              "      <td>2.5</td>\n",
              "      <td>3.0</td>\n",
              "      <td>2.0</td>\n",
              "      <td>0.0</td>\n",
              "      <td>-37.8093</td>\n",
              "      <td>144.9944</td>\n",
              "      <td>Northern Metropolitan</td>\n",
              "      <td>4019</td>\n",
              "      <td>117.0</td>\n",
              "      <td>284.0</td>\n",
              "    </tr>\n",
              "    <tr>\n",
              "      <th>6</th>\n",
              "      <td>4</td>\n",
              "      <td>h</td>\n",
              "      <td>1600000.0</td>\n",
              "      <td>2.5</td>\n",
              "      <td>3.0</td>\n",
              "      <td>1.0</td>\n",
              "      <td>2.0</td>\n",
              "      <td>-37.8072</td>\n",
              "      <td>144.9941</td>\n",
              "      <td>Northern Metropolitan</td>\n",
              "      <td>4019</td>\n",
              "      <td>2.0</td>\n",
              "      <td>262.0</td>\n",
              "    </tr>\n",
              "    <tr>\n",
              "      <th>7</th>\n",
              "      <td>4</td>\n",
              "      <td>h</td>\n",
              "      <td>600000.0</td>\n",
              "      <td>2.5</td>\n",
              "      <td>3.0</td>\n",
              "      <td>2.0</td>\n",
              "      <td>2.0</td>\n",
              "      <td>-37.7965</td>\n",
              "      <td>144.9965</td>\n",
              "      <td>Northern Metropolitan</td>\n",
              "      <td>4019</td>\n",
              "      <td>10.0</td>\n",
              "      <td>620.0</td>\n",
              "    </tr>\n",
              "    <tr>\n",
              "      <th>11</th>\n",
              "      <td>3</td>\n",
              "      <td>h</td>\n",
              "      <td>1876000.0</td>\n",
              "      <td>2.5</td>\n",
              "      <td>4.0</td>\n",
              "      <td>2.0</td>\n",
              "      <td>0.0</td>\n",
              "      <td>-37.8024</td>\n",
              "      <td>144.9993</td>\n",
              "      <td>Northern Metropolitan</td>\n",
              "      <td>4019</td>\n",
              "      <td>106.0</td>\n",
              "      <td>455.0</td>\n",
              "    </tr>\n",
              "  </tbody>\n",
              "</table>\n",
              "</div>"
            ],
            "text/plain": [
              "    Rooms Type      Price  ...  Propertycount    Age  TotalArea\n",
              "2       2    h  1035000.0  ...           4019  116.0      235.0\n",
              "4       3    h  1465000.0  ...           4019  117.0      284.0\n",
              "6       4    h  1600000.0  ...           4019    2.0      262.0\n",
              "7       4    h   600000.0  ...           4019   10.0      620.0\n",
              "11      3    h  1876000.0  ...           4019  106.0      455.0\n",
              "\n",
              "[5 rows x 13 columns]"
            ]
          },
          "metadata": {
            "tags": []
          },
          "execution_count": 27
        }
      ]
    },
    {
      "cell_type": "markdown",
      "metadata": {
        "id": "h8_D4COlSJZv",
        "colab_type": "text"
      },
      "source": [
        "## **Variables Numéricas**"
      ]
    },
    {
      "cell_type": "markdown",
      "metadata": {
        "id": "36lTvDxqSRNZ",
        "colab_type": "text"
      },
      "source": [
        "Ahora lo que corresponde hacer con las variables numéricas es hallar la correlación existente entre ellas y asi poder escoger las más correlacionadas  con el precio y al mismo tiempo escoger variables independientes que no estan tan correlacionadas."
      ]
    },
    {
      "cell_type": "code",
      "metadata": {
        "id": "9SVMmgBC-hsK",
        "colab_type": "code",
        "colab": {
          "base_uri": "https://localhost:8080/",
          "height": 683
        },
        "outputId": "5595866a-09b1-48f1-95c4-9c79166f5407"
      },
      "source": [
        "corr=dataframe.corr()\n",
        "fig, ax= plt.subplots(figsize=(15,10))#Hallar correlacion entre las variables numericas\n",
        "sns.heatmap(data=corr,annot=True,cmap='coolwarm')"
      ],
      "execution_count": null,
      "outputs": [
        {
          "output_type": "execute_result",
          "data": {
            "text/plain": [
              "<matplotlib.axes._subplots.AxesSubplot at 0x7f9e688223c8>"
            ]
          },
          "metadata": {
            "tags": []
          },
          "execution_count": 28
        },
        {
          "output_type": "display_data",
          "data": {
            "image/png": "[encoded data removed]",
            "text/plain": [
              "<Figure size 1080x720 with 2 Axes>"
            ]
          },
          "metadata": {
            "tags": [],
            "needs_background": "light"
          }
        }
      ]
    },
    {
      "cell_type": "markdown",
      "metadata": {
        "id": "1NrBX7KZDiJp",
        "colab_type": "text"
      },
      "source": [
        "Del mapa de calor anterior se evidencia que la columna de Bedroom2 esta muy correlacionada con el numero de habitaciones, entonces es mejor eliminarla para evitar las redundancias. Del resto de las caracteristicas con el valor del coeficiente son independientes entre si."
      ]
    },
    {
      "cell_type": "code",
      "metadata": {
        "id": "_vcoB7dgFWvB",
        "colab_type": "code",
        "colab": {
          "base_uri": "https://localhost:8080/",
          "height": 204
        },
        "outputId": "f6ab9077-ecff-4f5d-b413-d0dfe31d3a9b"
      },
      "source": [
        "dataframe.drop(columns=['Bedroom2'], axis='columns', inplace=True)\n",
        "dataframe.head()"
      ],
      "execution_count": null,
      "outputs": [
        {
          "output_type": "execute_result",
          "data": {
            "text/html": [
              "<div>\n",
              "<style scoped>\n",
              "    .dataframe tbody tr th:only-of-type {\n",
              "        vertical-align: middle;\n",
              "    }\n",
              "\n",
              "    .dataframe tbody tr th {\n",
              "        vertical-align: top;\n",
              "    }\n",
              "\n",
              "    .dataframe thead th {\n",
              "        text-align: right;\n",
              "    }\n",
              "</style>\n",
              "<table border=\"1\" class=\"dataframe\">\n",
              "  <thead>\n",
              "    <tr style=\"text-align: right;\">\n",
              "      <th></th>\n",
              "      <th>Rooms</th>\n",
              "      <th>Type</th>\n",
              "      <th>Price</th>\n",
              "      <th>Distance</th>\n",
              "      <th>Bathroom</th>\n",
              "      <th>Car</th>\n",
              "      <th>Lattitude</th>\n",
              "      <th>Longtitude</th>\n",
              "      <th>Regionname</th>\n",
              "      <th>Propertycount</th>\n",
              "      <th>Age</th>\n",
              "      <th>TotalArea</th>\n",
              "    </tr>\n",
              "  </thead>\n",
              "  <tbody>\n",
              "    <tr>\n",
              "      <th>2</th>\n",
              "      <td>2</td>\n",
              "      <td>h</td>\n",
              "      <td>1035000.0</td>\n",
              "      <td>2.5</td>\n",
              "      <td>1.0</td>\n",
              "      <td>0.0</td>\n",
              "      <td>-37.8079</td>\n",
              "      <td>144.9934</td>\n",
              "      <td>Northern Metropolitan</td>\n",
              "      <td>4019</td>\n",
              "      <td>116.0</td>\n",
              "      <td>235.0</td>\n",
              "    </tr>\n",
              "    <tr>\n",
              "      <th>4</th>\n",
              "      <td>3</td>\n",
              "      <td>h</td>\n",
              "      <td>1465000.0</td>\n",
              "      <td>2.5</td>\n",
              "      <td>2.0</td>\n",
              "      <td>0.0</td>\n",
              "      <td>-37.8093</td>\n",
              "      <td>144.9944</td>\n",
              "      <td>Northern Metropolitan</td>\n",
              "      <td>4019</td>\n",
              "      <td>117.0</td>\n",
              "      <td>284.0</td>\n",
              "    </tr>\n",
              "    <tr>\n",
              "      <th>6</th>\n",
              "      <td>4</td>\n",
              "      <td>h</td>\n",
              "      <td>1600000.0</td>\n",
              "      <td>2.5</td>\n",
              "      <td>1.0</td>\n",
              "      <td>2.0</td>\n",
              "      <td>-37.8072</td>\n",
              "      <td>144.9941</td>\n",
              "      <td>Northern Metropolitan</td>\n",
              "      <td>4019</td>\n",
              "      <td>2.0</td>\n",
              "      <td>262.0</td>\n",
              "    </tr>\n",
              "    <tr>\n",
              "      <th>7</th>\n",
              "      <td>4</td>\n",
              "      <td>h</td>\n",
              "      <td>600000.0</td>\n",
              "      <td>2.5</td>\n",
              "      <td>2.0</td>\n",
              "      <td>2.0</td>\n",
              "      <td>-37.7965</td>\n",
              "      <td>144.9965</td>\n",
              "      <td>Northern Metropolitan</td>\n",
              "      <td>4019</td>\n",
              "      <td>10.0</td>\n",
              "      <td>620.0</td>\n",
              "    </tr>\n",
              "    <tr>\n",
              "      <th>11</th>\n",
              "      <td>3</td>\n",
              "      <td>h</td>\n",
              "      <td>1876000.0</td>\n",
              "      <td>2.5</td>\n",
              "      <td>2.0</td>\n",
              "      <td>0.0</td>\n",
              "      <td>-37.8024</td>\n",
              "      <td>144.9993</td>\n",
              "      <td>Northern Metropolitan</td>\n",
              "      <td>4019</td>\n",
              "      <td>106.0</td>\n",
              "      <td>455.0</td>\n",
              "    </tr>\n",
              "  </tbody>\n",
              "</table>\n",
              "</div>"
            ],
            "text/plain": [
              "    Rooms Type      Price  ...  Propertycount    Age  TotalArea\n",
              "2       2    h  1035000.0  ...           4019  116.0      235.0\n",
              "4       3    h  1465000.0  ...           4019  117.0      284.0\n",
              "6       4    h  1600000.0  ...           4019    2.0      262.0\n",
              "7       4    h   600000.0  ...           4019   10.0      620.0\n",
              "11      3    h  1876000.0  ...           4019  106.0      455.0\n",
              "\n",
              "[5 rows x 12 columns]"
            ]
          },
          "metadata": {
            "tags": []
          },
          "execution_count": 29
        }
      ]
    },
    {
      "cell_type": "markdown",
      "metadata": {
        "id": "3bttOvYnA4Kp",
        "colab_type": "text"
      },
      "source": [
        "Hay que realizar luego la separación de los datos de train y test porque primero se hara la selección del modelo mediante validacion cruzada de los datos de entrenamiento y despues el mejor modelo se evalua con los datos de test."
      ]
    },
    {
      "cell_type": "code",
      "metadata": {
        "id": "wpOLLSiTAxbD",
        "colab_type": "code",
        "colab": {}
      },
      "source": [
        "#Separacion de los datos de entrenamiento y test\n",
        "X=dataframe.drop(columns=['Price'],axis='columns')\n",
        "y= dataframe[['Price']]\n",
        "from sklearn.model_selection import train_test_split\n",
        "X_train, X_test, y_train, y_test= train_test_split(X,y,test_size=0.3, random_state=42)"
      ],
      "execution_count": null,
      "outputs": []
    },
    {
      "cell_type": "code",
      "metadata": {
        "id": "eCsjlqU7P3RV",
        "colab_type": "code",
        "colab": {}
      },
      "source": [
        "from sklearn.compose import ColumnTransformer\n",
        "from sklearn.preprocessing import OneHotEncoder\n",
        "from sklearn.preprocessing import StandardScaler\n",
        "from sklearn.impute import SimpleImputer\n",
        "from sklearn.pipeline import Pipeline\n",
        "si=SimpleImputer(strategy='most_frequent',missing_values=np.nan)\n",
        "num_col=X.select_dtypes(exclude='object').columns\n",
        "cat_col=X.select_dtypes(include='object').columns\n",
        "ohe=OneHotEncoder(drop='first')\n",
        "num_transform=Pipeline([('si',si),('ss',StandardScaler())])\n",
        "cat_transform=Pipeline([('ohe',ohe)])\n",
        "ct=ColumnTransformer(transformers=[('num',num_transform,num_col),\n",
        "                                   ('cat',cat_transform,cat_col)])"
      ],
      "execution_count": null,
      "outputs": []
    },
    {
      "cell_type": "code",
      "metadata": {
        "id": "Th_tyosKdBQF",
        "colab_type": "code",
        "colab": {
          "base_uri": "https://localhost:8080/",
          "height": 221
        },
        "outputId": "34452956-08fb-4b35-cae6-68a3febdeaea"
      },
      "source": [
        "X_train.isna().sum()"
      ],
      "execution_count": null,
      "outputs": [
        {
          "output_type": "execute_result",
          "data": {
            "text/plain": [
              "Rooms              0\n",
              "Type               0\n",
              "Distance           0\n",
              "Bathroom           0\n",
              "Car                0\n",
              "Lattitude          5\n",
              "Longtitude         5\n",
              "Regionname         0\n",
              "Propertycount      0\n",
              "Age              195\n",
              "TotalArea          0\n",
              "dtype: int64"
            ]
          },
          "metadata": {
            "tags": []
          },
          "execution_count": 32
        }
      ]
    },
    {
      "cell_type": "markdown",
      "metadata": {
        "id": "_lx3ebCHQ80w",
        "colab_type": "text"
      },
      "source": [
        "## **Modelo Base**"
      ]
    },
    {
      "cell_type": "code",
      "metadata": {
        "id": "qV2DahhLHdIv",
        "colab_type": "code",
        "colab": {}
      },
      "source": [
        "from sklearn.linear_model import LinearRegression\n",
        "from sklearn.pipeline import Pipeline\n",
        "modelo=Pipeline([('ct',ct),\n",
        "                 ('lr',LinearRegression())])"
      ],
      "execution_count": null,
      "outputs": []
    },
    {
      "cell_type": "code",
      "metadata": {
        "id": "FNwYYW_gb-PU",
        "colab_type": "code",
        "colab": {}
      },
      "source": [
        "modelo.get_params()"
      ],
      "execution_count": null,
      "outputs": []
    },
    {
      "cell_type": "code",
      "metadata": {
        "id": "NCVdOx7A7Ru1",
        "colab_type": "code",
        "colab": {}
      },
      "source": [
        "from sklearn.model_selection import cross_validate\n",
        "scores=cross_validate(modelo,X_train,y_train,cv=5,scoring='neg_mean_absolute_error',return_train_score=True)"
      ],
      "execution_count": null,
      "outputs": []
    },
    {
      "cell_type": "code",
      "metadata": {
        "id": "Ino-2kAh8BPC",
        "colab_type": "code",
        "colab": {
          "base_uri": "https://localhost:8080/",
          "height": 34
        },
        "outputId": "cc98eeaa-4049-49a6-f973-157f01c63030"
      },
      "source": [
        "scores.keys()"
      ],
      "execution_count": null,
      "outputs": [
        {
          "output_type": "execute_result",
          "data": {
            "text/plain": [
              "dict_keys(['fit_time', 'score_time', 'test_score', 'train_score'])"
            ]
          },
          "metadata": {
            "tags": []
          },
          "execution_count": 65
        }
      ]
    },
    {
      "cell_type": "code",
      "metadata": {
        "id": "qcZpQMi8WlAr",
        "colab_type": "code",
        "colab": {
          "base_uri": "https://localhost:8080/",
          "height": 51
        },
        "outputId": "b0347f9f-46bb-4849-dea2-1566ab1120c2"
      },
      "source": [
        "print(f\"MAE de Entrenamiento {-1*scores['train_score'].mean()}\")\n",
        "print(f\"MAE de Validacion {-1*scores['test_score'].mean()}\")"
      ],
      "execution_count": null,
      "outputs": [
        {
          "output_type": "stream",
          "text": [
            "MAE de Entrenamiento 328708.075879539\n",
            "MAE de Validacion 329995.565077774\n"
          ],
          "name": "stdout"
        }
      ]
    },
    {
      "cell_type": "markdown",
      "metadata": {
        "id": "UC1i-MJlRChZ",
        "colab_type": "text"
      },
      "source": [
        "Partiendo de que con el modelo de Regresion Lineal se obtiene un error promedio muy alto, y partiendo de que el precio minimo es de 131000 dolares un error aceptable podria ser de 20000 dolares maximo."
      ]
    },
    {
      "cell_type": "markdown",
      "metadata": {
        "id": "c5AnEV6ZT_Ph",
        "colab_type": "text"
      },
      "source": [
        "## **Gradiente descendente**"
      ]
    },
    {
      "cell_type": "markdown",
      "metadata": {
        "id": "a3iXaiwWUGg-",
        "colab_type": "text"
      },
      "source": [
        "Lo que se busca es reducir la funcion de costo la cual es la siguente: \n",
        "\\begin{eqnarray}\n",
        "L = \\frac{1}{n} \\sum_{i=1}^n  (y_i - \\hat y_i)^2\n",
        "\\end{eqnarray}\n",
        "Una de los algoritmos usados es el de Gradiente Descendente, con el cual se va a obtener el mejor modelo aplicando gridsearch "
      ]
    },
    {
      "cell_type": "code",
      "metadata": {
        "id": "XdOtzjeeRsSa",
        "colab_type": "code",
        "colab": {}
      },
      "source": [
        "from sklearn.linear_model import SGDRegressor\n",
        "ct2=ColumnTransformer(transformers=[('num',num_transform,num_col),\n",
        "                                   ('cat',cat_transform,cat_col)])\n",
        "model2=modelo=Pipeline([('ct',ct2),\n",
        "                 ('sgd',SGDRegressor())])\n",
        "model2.get_params()"
      ],
      "execution_count": null,
      "outputs": []
    },
    {
      "cell_type": "code",
      "metadata": {
        "id": "vQSK2y3ctnaZ",
        "colab_type": "code",
        "colab": {}
      },
      "source": [
        "from sklearn.model_selection import GridSearchCV\n",
        "alfas=np.linspace(0.001,1,5)\n",
        "etas=np.linspace(0.001,1,5)\n",
        "epsilons=np.linspace(0.001,1,5)\n",
        "dicc={'sgd__alpha':alfas,'sgd__epsilon':epsilons,'sgd__eta0':etas}\n",
        "clf=GridSearchCV(estimator=model2,param_grid=dicc,scoring='neg_mean_absolute_error',cv=5,\n",
        "                 return_train_score=True)"
      ],
      "execution_count": null,
      "outputs": []
    },
    {
      "cell_type": "code",
      "metadata": {
        "id": "UMyoGwjZtnWl",
        "colab_type": "code",
        "colab": {}
      },
      "source": [
        "clf.fit(X_train,y_train)"
      ],
      "execution_count": null,
      "outputs": []
    },
    {
      "cell_type": "code",
      "metadata": {
        "id": "ai58ikIQtnTL",
        "colab_type": "code",
        "colab": {
          "base_uri": "https://localhost:8080/",
          "height": 68
        },
        "outputId": "935bf8fc-ccf5-4db8-c3cf-2e1de309719c"
      },
      "source": [
        "print(f'Mejores hiperparametros encontrados {clf.best_params_}')\n",
        "print(f\"Training MAE {-1*clf.cv_results_['mean_train_score'].max()}\")\n",
        "print(f\"Validation MAE {-1*clf.cv_results_['mean_test_score'].max()}\")"
      ],
      "execution_count": null,
      "outputs": [
        {
          "output_type": "stream",
          "text": [
            "Mejores hiperparametros encontrados {'sgd__alpha': 0.001, 'sgd__epsilon': 0.001, 'sgd__eta0': 0.001}\n",
            "Training MAE 329437.5518496198\n",
            "Validation MAE 330573.56918480544\n"
          ],
          "name": "stdout"
        }
      ]
    },
    {
      "cell_type": "markdown",
      "metadata": {
        "id": "7m-Xqfn47b6d",
        "colab_type": "text"
      },
      "source": [
        "Con estos puntajes se puede ver que son similares al modelo base por lo cual no es un mejor modelo."
      ]
    },
    {
      "cell_type": "markdown",
      "metadata": {
        "id": "5d81v6So4xCV",
        "colab_type": "text"
      },
      "source": [
        "## **Utilizando Ridge**"
      ]
    },
    {
      "cell_type": "markdown",
      "metadata": {
        "id": "ImTZWmv86qut",
        "colab_type": "text"
      },
      "source": [
        "El modelo de Regularización con Ridge para disminuir la funcion de perdida añade un parametro alfa resultando la siguiente ecuacion.\n",
        "\\begin{equation}\n",
        "L = \\frac{1}{n}\\sum_{i=1}^n (\\hat y_i - y_i)^2 +  \\alpha  \\frac{1}{2} \\sum_{i=1}^m w_i^2\n",
        "\\end{equation}"
      ]
    },
    {
      "cell_type": "code",
      "metadata": {
        "id": "L2eeGZzjtnPo",
        "colab_type": "code",
        "colab": {}
      },
      "source": [
        "from sklearn.linear_model import Ridge\n",
        "ct3=ColumnTransformer(transformers=[('num',num_transform,num_col),\n",
        "                                   ('cat',cat_transform,cat_col)])\n",
        "model3=Pipeline([('ct',ct3),\n",
        "                 ('rid',Ridge())])\n",
        "model3.get_params()"
      ],
      "execution_count": null,
      "outputs": []
    },
    {
      "cell_type": "code",
      "metadata": {
        "id": "CvhanxPx69RF",
        "colab_type": "code",
        "colab": {}
      },
      "source": [
        "dicc2={'rid__alpha':np.linspace(0,1,10)}\n",
        "clf3=GridSearchCV(estimator=model3,scoring='neg_mean_absolute_error',cv=5,param_grid=dicc2,return_train_score=True)"
      ],
      "execution_count": null,
      "outputs": []
    },
    {
      "cell_type": "code",
      "metadata": {
        "id": "tCVYrZGq69Mg",
        "colab_type": "code",
        "colab": {}
      },
      "source": [
        "clf3.fit(X_train,y_train)"
      ],
      "execution_count": null,
      "outputs": []
    },
    {
      "cell_type": "code",
      "metadata": {
        "id": "a3JVkZ5I69JT",
        "colab_type": "code",
        "colab": {
          "base_uri": "https://localhost:8080/",
          "height": 68
        },
        "outputId": "094c3b17-4ea8-4dd7-d768-3b0715d4edd4"
      },
      "source": [
        "print(f'Mejores hiperparametros: {clf3.best_params_}')\n",
        "print(f\"MAE train {-1*clf3.cv_results_['mean_train_score'].max()}\")\n",
        "print(f\"MAE test {-1*clf3.cv_results_['mean_test_score'].max()}\") "
      ],
      "execution_count": null,
      "outputs": [
        {
          "output_type": "stream",
          "text": [
            "Mejores hiperparametros: {'rid__alpha': 1.0}\n",
            "MAE train 328708.075879539\n",
            "MAE test 329949.6277782195\n"
          ],
          "name": "stdout"
        }
      ]
    },
    {
      "cell_type": "markdown",
      "metadata": {
        "id": "kcqGMOIP775K",
        "colab_type": "text"
      },
      "source": [
        "Usando el modelo Ridge tampoco se obtiene una mejora, por lo que tampoco se usara para la evaluacion."
      ]
    },
    {
      "cell_type": "markdown",
      "metadata": {
        "id": "V-OkZLAFLA-b",
        "colab_type": "text"
      },
      "source": [
        "## **Usando Métodos de ensamble**"
      ]
    },
    {
      "cell_type": "code",
      "metadata": {
        "id": "YmurOmjk69FX",
        "colab_type": "code",
        "colab": {}
      },
      "source": [
        "from sklearn.ensemble import RandomForestRegressor\n",
        "ct4=ColumnTransformer(transformers=[('num',num_transform,num_col),\n",
        "                                   ('cat',cat_transform,cat_col)])\n",
        "model4=Pipeline([('ct',ct4),\n",
        "                 ('rfr',RandomForestRegressor(criterion='mae',n_jobs=-1))])\n",
        "model4.get_params()"
      ],
      "execution_count": null,
      "outputs": []
    },
    {
      "cell_type": "code",
      "metadata": {
        "id": "vCiarXPgMY5K",
        "colab_type": "code",
        "colab": {}
      },
      "source": [
        "Dic = {\n",
        "    \"rfr__n_estimators\": [10, 100],\n",
        "    \"rfr__max_depth\": [10, 50, 100],\n",
        "    \"rfr__max_features\": [\"auto\", \"log2\"]\n",
        "}\n",
        "clf4=GridSearchCV(estimator=model4,param_grid=Dic,scoring='neg_mean_absolute_error',\n",
        "                  cv=5,return_train_score=True,n_jobs=-1)"
      ],
      "execution_count": null,
      "outputs": []
    },
    {
      "cell_type": "code",
      "metadata": {
        "id": "P2deVBLpMY1k",
        "colab_type": "code",
        "colab": {}
      },
      "source": [
        "clf4.fit(X_train,y_train)"
      ],
      "execution_count": null,
      "outputs": []
    },
    {
      "cell_type": "code",
      "metadata": {
        "id": "dvS7mJ1lMYu0",
        "colab_type": "code",
        "colab": {
          "base_uri": "https://localhost:8080/",
          "height": 68
        },
        "outputId": "6be60f9e-f19e-4c5f-dd0b-14019912d6e0"
      },
      "source": [
        "print(f'Mejores hiperparametros del metodo de ensamble {clf4.best_params_}')\n",
        "print(f\"MAE train {-1*clf4.cv_results_['mean_train_score'].max()}\")\n",
        "print(f\"MAE validation {-1*clf4.cv_results_['mean_test_score'].max()}\")"
      ],
      "execution_count": null,
      "outputs": [
        {
          "output_type": "stream",
          "text": [
            "Mejores hiperparametros del metodo de ensamble {'rfr__max_depth': 50, 'rfr__max_features': 'log2', 'rfr__n_estimators': 100}\n",
            "MAE train 115102.99242246796\n",
            "MAE validation 299032.1411702554\n"
          ],
          "name": "stdout"
        }
      ]
    },
    {
      "cell_type": "markdown",
      "metadata": {
        "id": "F8LSNh2yPrEJ",
        "colab_type": "text"
      },
      "source": [
        "Se puede evidenciar que con los metodos de ensamble se obtienen mejores puntajes, asi que este será el modelo para realizar la evaluación."
      ]
    },
    {
      "cell_type": "code",
      "metadata": {
        "id": "s7sv9VoDPiFd",
        "colab_type": "code",
        "colab": {
          "base_uri": "https://localhost:8080/",
          "height": 581
        },
        "outputId": "e8d3fd01-592b-4b64-9cb5-7a9381a2dba2"
      },
      "source": [
        "best_model=clf4.best_estimator_\n",
        "best_model.fit(X_train,y_train)"
      ],
      "execution_count": null,
      "outputs": [
        {
          "output_type": "stream",
          "text": [
            "/usr/local/lib/python3.6/dist-packages/sklearn/pipeline.py:354: DataConversionWarning: A column-vector y was passed when a 1d array was expected. Please change the shape of y to (n_samples,), for example using ravel().\n",
            "  self._final_estimator.fit(Xt, y, **fit_params)\n"
          ],
          "name": "stderr"
        },
        {
          "output_type": "execute_result",
          "data": {
            "text/plain": [
              "Pipeline(memory=None,\n",
              "         steps=[('ct',\n",
              "                 ColumnTransformer(n_jobs=None, remainder='drop',\n",
              "                                   sparse_threshold=0.3,\n",
              "                                   transformer_weights=None,\n",
              "                                   transformers=[('num',\n",
              "                                                  Pipeline(memory=None,\n",
              "                                                           steps=[('si',\n",
              "                                                                   SimpleImputer(add_indicator=False,\n",
              "                                                                                 copy=True,\n",
              "                                                                                 fill_value=None,\n",
              "                                                                                 missing_values=nan,\n",
              "                                                                                 strategy='most_frequent',\n",
              "                                                                                 verbose=0)),\n",
              "                                                                  ('ss',\n",
              "                                                                   StandardScaler(copy=True,\n",
              "                                                                                  with_mean=True,\n",
              "                                                                                  with_s...\n",
              "                 RandomForestRegressor(bootstrap=True, ccp_alpha=0.0,\n",
              "                                       criterion='mae', max_depth=50,\n",
              "                                       max_features='log2', max_leaf_nodes=None,\n",
              "                                       max_samples=None,\n",
              "                                       min_impurity_decrease=0.0,\n",
              "                                       min_impurity_split=None,\n",
              "                                       min_samples_leaf=1, min_samples_split=2,\n",
              "                                       min_weight_fraction_leaf=0.0,\n",
              "                                       n_estimators=100, n_jobs=-1,\n",
              "                                       oob_score=False, random_state=None,\n",
              "                                       verbose=0, warm_start=False))],\n",
              "         verbose=False)"
            ]
          },
          "metadata": {
            "tags": []
          },
          "execution_count": 52
        }
      ]
    },
    {
      "cell_type": "code",
      "metadata": {
        "id": "Ky-DITq6MYps",
        "colab_type": "code",
        "colab": {
          "base_uri": "https://localhost:8080/",
          "height": 51
        },
        "outputId": "92dc3129-1cc8-4b86-b378-50bc4f599ce4"
      },
      "source": [
        "from sklearn import metrics\n",
        "y_pred_train=best_model.predict(X_train)\n",
        "y_pred_test=best_model.predict(X_test)\n",
        "print(f'MAE train {metrics.mean_absolute_error(y_train,y_pred_train)}')\n",
        "print(f'MAE test {metrics.mean_absolute_error(y_test,y_pred_test)}')"
      ],
      "execution_count": null,
      "outputs": [
        {
          "output_type": "stream",
          "text": [
            "MAE train 122908.89769125683\n",
            "MAE test 309833.3654346837\n"
          ],
          "name": "stdout"
        }
      ]
    },
    {
      "cell_type": "markdown",
      "metadata": {
        "id": "9mrxLKnoR9Mh",
        "colab_type": "text"
      },
      "source": [
        "Efectivamente el modelo creado por los metodos de ensamble resulto teniendo una varianza muy alta porque el error obtenido con los datos de test es demasiado alto comparado con el train. Aun asi en el error obtenido durante el test es menor en comparacion con los modelos de regresion, Ridge y SGD. "
      ]
    }
  ]
}