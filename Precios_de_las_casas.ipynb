{
  "nbformat": 4,
  "nbformat_minor": 0,
  "metadata": {
    "colab": {
      "name": "Precios de las casas",
      "provenance": [],
      "authorship_tag": "ABX9TyNnR9Cx9kJfXS8APoyB5ExU",
      "include_colab_link": true
    },
    "kernelspec": {
      "name": "python3",
      "display_name": "Python 3"
    }
  },
  "cells": [
    {
      "cell_type": "markdown",
      "metadata": {
        "id": "view-in-github",
        "colab_type": "text"
      },
      "source": [
        "<a href=\"https://colab.research.google.com/github/CamiloE/Proyectos-Personales/blob/master/Precios_de_las_casas.ipynb\" target=\"_parent\"><img src=\"https://colab.research.google.com/assets/colab-badge.svg\" alt=\"Open In Colab\"/></a>"
      ]
    },
    {
      "cell_type": "code",
      "metadata": {
        "id": "THGcwOY65nWd",
        "colab_type": "code",
        "colab": {
          "base_uri": "https://localhost:8080/",
          "height": 71
        },
        "outputId": "02157a88-a497-4c36-b2b6-b59b68b68ad2"
      },
      "source": [
        "#Importar librerias importantes\n",
        "import pandas as pd\n",
        "import numpy as np\n",
        "import seaborn as sns\n",
        "import matplotlib.pyplot as plt\n",
        "sns.set()"
      ],
      "execution_count": 1,
      "outputs": [
        {
          "output_type": "stream",
          "text": [
            "/usr/local/lib/python3.6/dist-packages/statsmodels/tools/_testing.py:19: FutureWarning: pandas.util.testing is deprecated. Use the functions in the public API at pandas.testing instead.\n",
            "  import pandas.util.testing as tm\n"
          ],
          "name": "stderr"
        }
      ]
    },
    {
      "cell_type": "code",
      "metadata": {
        "id": "FxcnUXBi52Za",
        "colab_type": "code",
        "colab": {
          "base_uri": "https://localhost:8080/",
          "height": 326
        },
        "outputId": "128530fe-1bbb-4243-bedc-24cee095c544"
      },
      "source": [
        "#Importar base de datos\n",
        "dataframe =  pd.read_csv(\"https://raw.githubusercontent.com/StephanieStallworth/Exploratory_Data_Analysis_Visualization_Python/master/Melbourne_housing_extra_data.csv\")\n",
        "dataframe.head()"
      ],
      "execution_count": 2,
      "outputs": [
        {
          "output_type": "execute_result",
          "data": {
            "text/html": [
              "<div>\n",
              "<style scoped>\n",
              "    .dataframe tbody tr th:only-of-type {\n",
              "        vertical-align: middle;\n",
              "    }\n",
              "\n",
              "    .dataframe tbody tr th {\n",
              "        vertical-align: top;\n",
              "    }\n",
              "\n",
              "    .dataframe thead th {\n",
              "        text-align: right;\n",
              "    }\n",
              "</style>\n",
              "<table border=\"1\" class=\"dataframe\">\n",
              "  <thead>\n",
              "    <tr style=\"text-align: right;\">\n",
              "      <th></th>\n",
              "      <th>Suburb</th>\n",
              "      <th>Address</th>\n",
              "      <th>Rooms</th>\n",
              "      <th>Type</th>\n",
              "      <th>Price</th>\n",
              "      <th>Method</th>\n",
              "      <th>SellerG</th>\n",
              "      <th>Date</th>\n",
              "      <th>Distance</th>\n",
              "      <th>Postcode</th>\n",
              "      <th>Bedroom2</th>\n",
              "      <th>Bathroom</th>\n",
              "      <th>Car</th>\n",
              "      <th>Landsize</th>\n",
              "      <th>BuildingArea</th>\n",
              "      <th>YearBuilt</th>\n",
              "      <th>CouncilArea</th>\n",
              "      <th>Lattitude</th>\n",
              "      <th>Longtitude</th>\n",
              "      <th>Regionname</th>\n",
              "      <th>Propertycount</th>\n",
              "    </tr>\n",
              "  </thead>\n",
              "  <tbody>\n",
              "    <tr>\n",
              "      <th>0</th>\n",
              "      <td>Abbotsford</td>\n",
              "      <td>68 Studley St</td>\n",
              "      <td>2</td>\n",
              "      <td>h</td>\n",
              "      <td>NaN</td>\n",
              "      <td>SS</td>\n",
              "      <td>Jellis</td>\n",
              "      <td>3/09/2016</td>\n",
              "      <td>2.5</td>\n",
              "      <td>3067</td>\n",
              "      <td>2.0</td>\n",
              "      <td>1.0</td>\n",
              "      <td>1.0</td>\n",
              "      <td>126.0</td>\n",
              "      <td>NaN</td>\n",
              "      <td>NaN</td>\n",
              "      <td>Yarra</td>\n",
              "      <td>-37.8014</td>\n",
              "      <td>144.9958</td>\n",
              "      <td>Northern Metropolitan</td>\n",
              "      <td>4019</td>\n",
              "    </tr>\n",
              "    <tr>\n",
              "      <th>1</th>\n",
              "      <td>Abbotsford</td>\n",
              "      <td>85 Turner St</td>\n",
              "      <td>2</td>\n",
              "      <td>h</td>\n",
              "      <td>1480000.0</td>\n",
              "      <td>S</td>\n",
              "      <td>Biggin</td>\n",
              "      <td>3/12/2016</td>\n",
              "      <td>2.5</td>\n",
              "      <td>3067</td>\n",
              "      <td>2.0</td>\n",
              "      <td>1.0</td>\n",
              "      <td>1.0</td>\n",
              "      <td>202.0</td>\n",
              "      <td>NaN</td>\n",
              "      <td>NaN</td>\n",
              "      <td>Yarra</td>\n",
              "      <td>-37.7996</td>\n",
              "      <td>144.9984</td>\n",
              "      <td>Northern Metropolitan</td>\n",
              "      <td>4019</td>\n",
              "    </tr>\n",
              "    <tr>\n",
              "      <th>2</th>\n",
              "      <td>Abbotsford</td>\n",
              "      <td>25 Bloomburg St</td>\n",
              "      <td>2</td>\n",
              "      <td>h</td>\n",
              "      <td>1035000.0</td>\n",
              "      <td>S</td>\n",
              "      <td>Biggin</td>\n",
              "      <td>4/02/2016</td>\n",
              "      <td>2.5</td>\n",
              "      <td>3067</td>\n",
              "      <td>2.0</td>\n",
              "      <td>1.0</td>\n",
              "      <td>0.0</td>\n",
              "      <td>156.0</td>\n",
              "      <td>79.0</td>\n",
              "      <td>1900.0</td>\n",
              "      <td>Yarra</td>\n",
              "      <td>-37.8079</td>\n",
              "      <td>144.9934</td>\n",
              "      <td>Northern Metropolitan</td>\n",
              "      <td>4019</td>\n",
              "    </tr>\n",
              "    <tr>\n",
              "      <th>3</th>\n",
              "      <td>Abbotsford</td>\n",
              "      <td>18/659 Victoria St</td>\n",
              "      <td>3</td>\n",
              "      <td>u</td>\n",
              "      <td>NaN</td>\n",
              "      <td>VB</td>\n",
              "      <td>Rounds</td>\n",
              "      <td>4/02/2016</td>\n",
              "      <td>2.5</td>\n",
              "      <td>3067</td>\n",
              "      <td>3.0</td>\n",
              "      <td>2.0</td>\n",
              "      <td>1.0</td>\n",
              "      <td>0.0</td>\n",
              "      <td>NaN</td>\n",
              "      <td>NaN</td>\n",
              "      <td>Yarra</td>\n",
              "      <td>-37.8114</td>\n",
              "      <td>145.0116</td>\n",
              "      <td>Northern Metropolitan</td>\n",
              "      <td>4019</td>\n",
              "    </tr>\n",
              "    <tr>\n",
              "      <th>4</th>\n",
              "      <td>Abbotsford</td>\n",
              "      <td>5 Charles St</td>\n",
              "      <td>3</td>\n",
              "      <td>h</td>\n",
              "      <td>1465000.0</td>\n",
              "      <td>SP</td>\n",
              "      <td>Biggin</td>\n",
              "      <td>4/03/2017</td>\n",
              "      <td>2.5</td>\n",
              "      <td>3067</td>\n",
              "      <td>3.0</td>\n",
              "      <td>2.0</td>\n",
              "      <td>0.0</td>\n",
              "      <td>134.0</td>\n",
              "      <td>150.0</td>\n",
              "      <td>1900.0</td>\n",
              "      <td>Yarra</td>\n",
              "      <td>-37.8093</td>\n",
              "      <td>144.9944</td>\n",
              "      <td>Northern Metropolitan</td>\n",
              "      <td>4019</td>\n",
              "    </tr>\n",
              "  </tbody>\n",
              "</table>\n",
              "</div>"
            ],
            "text/plain": [
              "       Suburb             Address  ...             Regionname Propertycount\n",
              "0  Abbotsford       68 Studley St  ...  Northern Metropolitan          4019\n",
              "1  Abbotsford        85 Turner St  ...  Northern Metropolitan          4019\n",
              "2  Abbotsford     25 Bloomburg St  ...  Northern Metropolitan          4019\n",
              "3  Abbotsford  18/659 Victoria St  ...  Northern Metropolitan          4019\n",
              "4  Abbotsford        5 Charles St  ...  Northern Metropolitan          4019\n",
              "\n",
              "[5 rows x 21 columns]"
            ]
          },
          "metadata": {
            "tags": []
          },
          "execution_count": 2
        }
      ]
    },
    {
      "cell_type": "code",
      "metadata": {
        "id": "QnIq6ttn52Ui",
        "colab_type": "code",
        "colab": {
          "base_uri": "https://localhost:8080/",
          "height": 391
        },
        "outputId": "fc66460b-75ac-4e03-9472-ab7b58169a6c"
      },
      "source": [
        "dataframe.dtypes"
      ],
      "execution_count": 3,
      "outputs": [
        {
          "output_type": "execute_result",
          "data": {
            "text/plain": [
              "Suburb            object\n",
              "Address           object\n",
              "Rooms              int64\n",
              "Type              object\n",
              "Price            float64\n",
              "Method            object\n",
              "SellerG           object\n",
              "Date              object\n",
              "Distance         float64\n",
              "Postcode           int64\n",
              "Bedroom2         float64\n",
              "Bathroom         float64\n",
              "Car              float64\n",
              "Landsize         float64\n",
              "BuildingArea     float64\n",
              "YearBuilt        float64\n",
              "CouncilArea       object\n",
              "Lattitude        float64\n",
              "Longtitude       float64\n",
              "Regionname        object\n",
              "Propertycount      int64\n",
              "dtype: object"
            ]
          },
          "metadata": {
            "tags": []
          },
          "execution_count": 3
        }
      ]
    },
    {
      "cell_type": "code",
      "metadata": {
        "id": "hRrSOR8XkFtQ",
        "colab_type": "code",
        "colab": {
          "base_uri": "https://localhost:8080/",
          "height": 34
        },
        "outputId": "cd55b656-a802-4341-ae6e-21d9fc623d6f"
      },
      "source": [
        "dataframe.Type.unique()#Conocer los valores de la variable categorica Type"
      ],
      "execution_count": 4,
      "outputs": [
        {
          "output_type": "execute_result",
          "data": {
            "text/plain": [
              "array(['h', 'u', 't'], dtype=object)"
            ]
          },
          "metadata": {
            "tags": []
          },
          "execution_count": 4
        }
      ]
    },
    {
      "cell_type": "code",
      "metadata": {
        "id": "B1E-N9uQl43e",
        "colab_type": "code",
        "colab": {
          "base_uri": "https://localhost:8080/",
          "height": 221
        },
        "outputId": "5ae95878-e572-4674-f9dd-225df035e0d7"
      },
      "source": [
        "dic={'h':0,'u':1,'t':2}\n",
        "dataframe['ntype']=dataframe['Type'].map(dic)#codifcacion numerica\n",
        "dataframe['ntype']"
      ],
      "execution_count": 5,
      "outputs": [
        {
          "output_type": "execute_result",
          "data": {
            "text/plain": [
              "0        0\n",
              "1        0\n",
              "2        0\n",
              "3        1\n",
              "4        0\n",
              "        ..\n",
              "17402    0\n",
              "17403    0\n",
              "17404    0\n",
              "17405    1\n",
              "17406    0\n",
              "Name: ntype, Length: 17407, dtype: int64"
            ]
          },
          "metadata": {
            "tags": []
          },
          "execution_count": 5
        }
      ]
    },
    {
      "cell_type": "code",
      "metadata": {
        "id": "iUUATzsqpGYz",
        "colab_type": "code",
        "colab": {
          "base_uri": "https://localhost:8080/",
          "height": 34
        },
        "outputId": "07f4c8e8-a823-4ac9-a0fa-f8c5baa2524d"
      },
      "source": [
        "dataframe['Method'].unique()"
      ],
      "execution_count": 6,
      "outputs": [
        {
          "output_type": "execute_result",
          "data": {
            "text/plain": [
              "array(['SS', 'S', 'VB', 'SP', 'PI', 'SN', 'W', 'PN', 'SA'], dtype=object)"
            ]
          },
          "metadata": {
            "tags": []
          },
          "execution_count": 6
        }
      ]
    },
    {
      "cell_type": "code",
      "metadata": {
        "id": "GQIcEHo9qy41",
        "colab_type": "code",
        "colab": {
          "base_uri": "https://localhost:8080/",
          "height": 510
        },
        "outputId": "d2dd97fd-e57f-4708-87d9-ab00ed9210a5"
      },
      "source": [
        "dataframe.info()"
      ],
      "execution_count": 7,
      "outputs": [
        {
          "output_type": "stream",
          "text": [
            "<class 'pandas.core.frame.DataFrame'>\n",
            "RangeIndex: 17407 entries, 0 to 17406\n",
            "Data columns (total 22 columns):\n",
            " #   Column         Non-Null Count  Dtype  \n",
            "---  ------         --------------  -----  \n",
            " 0   Suburb         17407 non-null  object \n",
            " 1   Address        17407 non-null  object \n",
            " 2   Rooms          17407 non-null  int64  \n",
            " 3   Type           17407 non-null  object \n",
            " 4   Price          13525 non-null  float64\n",
            " 5   Method         17407 non-null  object \n",
            " 6   SellerG        17407 non-null  object \n",
            " 7   Date           17407 non-null  object \n",
            " 8   Distance       17407 non-null  float64\n",
            " 9   Postcode       17407 non-null  int64  \n",
            " 10  Bedroom2       13625 non-null  float64\n",
            " 11  Bathroom       13625 non-null  float64\n",
            " 12  Car            13625 non-null  float64\n",
            " 13  Landsize       13603 non-null  float64\n",
            " 14  BuildingArea   7323 non-null   float64\n",
            " 15  YearBuilt      8429 non-null   float64\n",
            " 16  CouncilArea    13601 non-null  object \n",
            " 17  Lattitude      13737 non-null  float64\n",
            " 18  Longtitude     13737 non-null  float64\n",
            " 19  Regionname     17407 non-null  object \n",
            " 20  Propertycount  17407 non-null  int64  \n",
            " 21  ntype          17407 non-null  int64  \n",
            "dtypes: float64(10), int64(4), object(8)\n",
            "memory usage: 2.9+ MB\n"
          ],
          "name": "stdout"
        }
      ]
    },
    {
      "cell_type": "code",
      "metadata": {
        "id": "9tzqgE3Eq7Oy",
        "colab_type": "code",
        "colab": {
          "base_uri": "https://localhost:8080/",
          "height": 317
        },
        "outputId": "c6968223-9239-4c3b-9eea-37af7fb31775"
      },
      "source": [
        "dataframe.describe()"
      ],
      "execution_count": 8,
      "outputs": [
        {
          "output_type": "execute_result",
          "data": {
            "text/html": [
              "<div>\n",
              "<style scoped>\n",
              "    .dataframe tbody tr th:only-of-type {\n",
              "        vertical-align: middle;\n",
              "    }\n",
              "\n",
              "    .dataframe tbody tr th {\n",
              "        vertical-align: top;\n",
              "    }\n",
              "\n",
              "    .dataframe thead th {\n",
              "        text-align: right;\n",
              "    }\n",
              "</style>\n",
              "<table border=\"1\" class=\"dataframe\">\n",
              "  <thead>\n",
              "    <tr style=\"text-align: right;\">\n",
              "      <th></th>\n",
              "      <th>Rooms</th>\n",
              "      <th>Price</th>\n",
              "      <th>Distance</th>\n",
              "      <th>Postcode</th>\n",
              "      <th>Bedroom2</th>\n",
              "      <th>Bathroom</th>\n",
              "      <th>Car</th>\n",
              "      <th>Landsize</th>\n",
              "      <th>BuildingArea</th>\n",
              "      <th>YearBuilt</th>\n",
              "      <th>Lattitude</th>\n",
              "      <th>Longtitude</th>\n",
              "      <th>Propertycount</th>\n",
              "      <th>ntype</th>\n",
              "    </tr>\n",
              "  </thead>\n",
              "  <tbody>\n",
              "    <tr>\n",
              "      <th>count</th>\n",
              "      <td>17407.000000</td>\n",
              "      <td>1.352500e+04</td>\n",
              "      <td>17407.000000</td>\n",
              "      <td>17407.000000</td>\n",
              "      <td>13625.000000</td>\n",
              "      <td>13625.000000</td>\n",
              "      <td>13625.000000</td>\n",
              "      <td>13603.000000</td>\n",
              "      <td>7323.000000</td>\n",
              "      <td>8429.000000</td>\n",
              "      <td>13737.000000</td>\n",
              "      <td>13737.000000</td>\n",
              "      <td>17407.000000</td>\n",
              "      <td>17407.000000</td>\n",
              "    </tr>\n",
              "    <tr>\n",
              "      <th>mean</th>\n",
              "      <td>2.934624</td>\n",
              "      <td>1.071537e+06</td>\n",
              "      <td>9.378962</td>\n",
              "      <td>3103.327742</td>\n",
              "      <td>2.887193</td>\n",
              "      <td>1.545688</td>\n",
              "      <td>1.566826</td>\n",
              "      <td>497.656546</td>\n",
              "      <td>149.330926</td>\n",
              "      <td>1961.673152</td>\n",
              "      <td>-37.812157</td>\n",
              "      <td>144.995283</td>\n",
              "      <td>7486.500603</td>\n",
              "      <td>0.452232</td>\n",
              "    </tr>\n",
              "    <tr>\n",
              "      <th>std</th>\n",
              "      <td>0.983128</td>\n",
              "      <td>6.553000e+05</td>\n",
              "      <td>4.897268</td>\n",
              "      <td>76.005061</td>\n",
              "      <td>1.010500</td>\n",
              "      <td>0.716583</td>\n",
              "      <td>0.968356</td>\n",
              "      <td>1361.160059</td>\n",
              "      <td>145.204928</td>\n",
              "      <td>38.633785</td>\n",
              "      <td>0.068399</td>\n",
              "      <td>0.087676</td>\n",
              "      <td>4410.324671</td>\n",
              "      <td>0.679641</td>\n",
              "    </tr>\n",
              "    <tr>\n",
              "      <th>min</th>\n",
              "      <td>1.000000</td>\n",
              "      <td>8.500000e+04</td>\n",
              "      <td>0.000000</td>\n",
              "      <td>3000.000000</td>\n",
              "      <td>0.000000</td>\n",
              "      <td>0.000000</td>\n",
              "      <td>0.000000</td>\n",
              "      <td>0.000000</td>\n",
              "      <td>0.000000</td>\n",
              "      <td>1196.000000</td>\n",
              "      <td>-38.182550</td>\n",
              "      <td>144.431620</td>\n",
              "      <td>389.000000</td>\n",
              "      <td>0.000000</td>\n",
              "    </tr>\n",
              "    <tr>\n",
              "      <th>25%</th>\n",
              "      <td>2.000000</td>\n",
              "      <td>6.400000e+05</td>\n",
              "      <td>5.900000</td>\n",
              "      <td>3046.000000</td>\n",
              "      <td>2.000000</td>\n",
              "      <td>1.000000</td>\n",
              "      <td>1.000000</td>\n",
              "      <td>158.000000</td>\n",
              "      <td>92.000000</td>\n",
              "      <td>1930.000000</td>\n",
              "      <td>-37.856000</td>\n",
              "      <td>144.941200</td>\n",
              "      <td>4442.000000</td>\n",
              "      <td>0.000000</td>\n",
              "    </tr>\n",
              "    <tr>\n",
              "      <th>50%</th>\n",
              "      <td>3.000000</td>\n",
              "      <td>8.910000e+05</td>\n",
              "      <td>9.200000</td>\n",
              "      <td>3101.000000</td>\n",
              "      <td>3.000000</td>\n",
              "      <td>1.000000</td>\n",
              "      <td>1.000000</td>\n",
              "      <td>385.000000</td>\n",
              "      <td>127.000000</td>\n",
              "      <td>1966.000000</td>\n",
              "      <td>-37.809400</td>\n",
              "      <td>145.000200</td>\n",
              "      <td>6567.000000</td>\n",
              "      <td>0.000000</td>\n",
              "    </tr>\n",
              "    <tr>\n",
              "      <th>75%</th>\n",
              "      <td>4.000000</td>\n",
              "      <td>1.321000e+06</td>\n",
              "      <td>12.000000</td>\n",
              "      <td>3147.000000</td>\n",
              "      <td>3.000000</td>\n",
              "      <td>2.000000</td>\n",
              "      <td>2.000000</td>\n",
              "      <td>643.000000</td>\n",
              "      <td>179.000000</td>\n",
              "      <td>1998.000000</td>\n",
              "      <td>-37.763400</td>\n",
              "      <td>145.052250</td>\n",
              "      <td>10331.000000</td>\n",
              "      <td>1.000000</td>\n",
              "    </tr>\n",
              "    <tr>\n",
              "      <th>max</th>\n",
              "      <td>12.000000</td>\n",
              "      <td>8.000000e+06</td>\n",
              "      <td>47.400000</td>\n",
              "      <td>3978.000000</td>\n",
              "      <td>30.000000</td>\n",
              "      <td>12.000000</td>\n",
              "      <td>26.000000</td>\n",
              "      <td>76000.000000</td>\n",
              "      <td>6791.000000</td>\n",
              "      <td>2106.000000</td>\n",
              "      <td>-37.414950</td>\n",
              "      <td>145.526350</td>\n",
              "      <td>21650.000000</td>\n",
              "      <td>2.000000</td>\n",
              "    </tr>\n",
              "  </tbody>\n",
              "</table>\n",
              "</div>"
            ],
            "text/plain": [
              "              Rooms         Price  ...  Propertycount         ntype\n",
              "count  17407.000000  1.352500e+04  ...   17407.000000  17407.000000\n",
              "mean       2.934624  1.071537e+06  ...    7486.500603      0.452232\n",
              "std        0.983128  6.553000e+05  ...    4410.324671      0.679641\n",
              "min        1.000000  8.500000e+04  ...     389.000000      0.000000\n",
              "25%        2.000000  6.400000e+05  ...    4442.000000      0.000000\n",
              "50%        3.000000  8.910000e+05  ...    6567.000000      0.000000\n",
              "75%        4.000000  1.321000e+06  ...   10331.000000      1.000000\n",
              "max       12.000000  8.000000e+06  ...   21650.000000      2.000000\n",
              "\n",
              "[8 rows x 14 columns]"
            ]
          },
          "metadata": {
            "tags": []
          },
          "execution_count": 8
        }
      ]
    },
    {
      "cell_type": "code",
      "metadata": {
        "id": "qA0cXMtR52Ra",
        "colab_type": "code",
        "colab": {
          "base_uri": "https://localhost:8080/",
          "height": 326
        },
        "outputId": "9fa6c328-f49b-4466-9f51-2d583e341006"
      },
      "source": [
        "dataframe['Date']=pd.to_datetime(dataframe.Date,yearfirst=True)#Convierte la columna a formato fecha\n",
        "dataframe.head()"
      ],
      "execution_count": 9,
      "outputs": [
        {
          "output_type": "execute_result",
          "data": {
            "text/html": [
              "<div>\n",
              "<style scoped>\n",
              "    .dataframe tbody tr th:only-of-type {\n",
              "        vertical-align: middle;\n",
              "    }\n",
              "\n",
              "    .dataframe tbody tr th {\n",
              "        vertical-align: top;\n",
              "    }\n",
              "\n",
              "    .dataframe thead th {\n",
              "        text-align: right;\n",
              "    }\n",
              "</style>\n",
              "<table border=\"1\" class=\"dataframe\">\n",
              "  <thead>\n",
              "    <tr style=\"text-align: right;\">\n",
              "      <th></th>\n",
              "      <th>Suburb</th>\n",
              "      <th>Address</th>\n",
              "      <th>Rooms</th>\n",
              "      <th>Type</th>\n",
              "      <th>Price</th>\n",
              "      <th>Method</th>\n",
              "      <th>SellerG</th>\n",
              "      <th>Date</th>\n",
              "      <th>Distance</th>\n",
              "      <th>Postcode</th>\n",
              "      <th>Bedroom2</th>\n",
              "      <th>Bathroom</th>\n",
              "      <th>Car</th>\n",
              "      <th>Landsize</th>\n",
              "      <th>BuildingArea</th>\n",
              "      <th>YearBuilt</th>\n",
              "      <th>CouncilArea</th>\n",
              "      <th>Lattitude</th>\n",
              "      <th>Longtitude</th>\n",
              "      <th>Regionname</th>\n",
              "      <th>Propertycount</th>\n",
              "      <th>ntype</th>\n",
              "    </tr>\n",
              "  </thead>\n",
              "  <tbody>\n",
              "    <tr>\n",
              "      <th>0</th>\n",
              "      <td>Abbotsford</td>\n",
              "      <td>68 Studley St</td>\n",
              "      <td>2</td>\n",
              "      <td>h</td>\n",
              "      <td>NaN</td>\n",
              "      <td>SS</td>\n",
              "      <td>Jellis</td>\n",
              "      <td>2016-03-09</td>\n",
              "      <td>2.5</td>\n",
              "      <td>3067</td>\n",
              "      <td>2.0</td>\n",
              "      <td>1.0</td>\n",
              "      <td>1.0</td>\n",
              "      <td>126.0</td>\n",
              "      <td>NaN</td>\n",
              "      <td>NaN</td>\n",
              "      <td>Yarra</td>\n",
              "      <td>-37.8014</td>\n",
              "      <td>144.9958</td>\n",
              "      <td>Northern Metropolitan</td>\n",
              "      <td>4019</td>\n",
              "      <td>0</td>\n",
              "    </tr>\n",
              "    <tr>\n",
              "      <th>1</th>\n",
              "      <td>Abbotsford</td>\n",
              "      <td>85 Turner St</td>\n",
              "      <td>2</td>\n",
              "      <td>h</td>\n",
              "      <td>1480000.0</td>\n",
              "      <td>S</td>\n",
              "      <td>Biggin</td>\n",
              "      <td>2016-03-12</td>\n",
              "      <td>2.5</td>\n",
              "      <td>3067</td>\n",
              "      <td>2.0</td>\n",
              "      <td>1.0</td>\n",
              "      <td>1.0</td>\n",
              "      <td>202.0</td>\n",
              "      <td>NaN</td>\n",
              "      <td>NaN</td>\n",
              "      <td>Yarra</td>\n",
              "      <td>-37.7996</td>\n",
              "      <td>144.9984</td>\n",
              "      <td>Northern Metropolitan</td>\n",
              "      <td>4019</td>\n",
              "      <td>0</td>\n",
              "    </tr>\n",
              "    <tr>\n",
              "      <th>2</th>\n",
              "      <td>Abbotsford</td>\n",
              "      <td>25 Bloomburg St</td>\n",
              "      <td>2</td>\n",
              "      <td>h</td>\n",
              "      <td>1035000.0</td>\n",
              "      <td>S</td>\n",
              "      <td>Biggin</td>\n",
              "      <td>2016-04-02</td>\n",
              "      <td>2.5</td>\n",
              "      <td>3067</td>\n",
              "      <td>2.0</td>\n",
              "      <td>1.0</td>\n",
              "      <td>0.0</td>\n",
              "      <td>156.0</td>\n",
              "      <td>79.0</td>\n",
              "      <td>1900.0</td>\n",
              "      <td>Yarra</td>\n",
              "      <td>-37.8079</td>\n",
              "      <td>144.9934</td>\n",
              "      <td>Northern Metropolitan</td>\n",
              "      <td>4019</td>\n",
              "      <td>0</td>\n",
              "    </tr>\n",
              "    <tr>\n",
              "      <th>3</th>\n",
              "      <td>Abbotsford</td>\n",
              "      <td>18/659 Victoria St</td>\n",
              "      <td>3</td>\n",
              "      <td>u</td>\n",
              "      <td>NaN</td>\n",
              "      <td>VB</td>\n",
              "      <td>Rounds</td>\n",
              "      <td>2016-04-02</td>\n",
              "      <td>2.5</td>\n",
              "      <td>3067</td>\n",
              "      <td>3.0</td>\n",
              "      <td>2.0</td>\n",
              "      <td>1.0</td>\n",
              "      <td>0.0</td>\n",
              "      <td>NaN</td>\n",
              "      <td>NaN</td>\n",
              "      <td>Yarra</td>\n",
              "      <td>-37.8114</td>\n",
              "      <td>145.0116</td>\n",
              "      <td>Northern Metropolitan</td>\n",
              "      <td>4019</td>\n",
              "      <td>1</td>\n",
              "    </tr>\n",
              "    <tr>\n",
              "      <th>4</th>\n",
              "      <td>Abbotsford</td>\n",
              "      <td>5 Charles St</td>\n",
              "      <td>3</td>\n",
              "      <td>h</td>\n",
              "      <td>1465000.0</td>\n",
              "      <td>SP</td>\n",
              "      <td>Biggin</td>\n",
              "      <td>2017-04-03</td>\n",
              "      <td>2.5</td>\n",
              "      <td>3067</td>\n",
              "      <td>3.0</td>\n",
              "      <td>2.0</td>\n",
              "      <td>0.0</td>\n",
              "      <td>134.0</td>\n",
              "      <td>150.0</td>\n",
              "      <td>1900.0</td>\n",
              "      <td>Yarra</td>\n",
              "      <td>-37.8093</td>\n",
              "      <td>144.9944</td>\n",
              "      <td>Northern Metropolitan</td>\n",
              "      <td>4019</td>\n",
              "      <td>0</td>\n",
              "    </tr>\n",
              "  </tbody>\n",
              "</table>\n",
              "</div>"
            ],
            "text/plain": [
              "       Suburb             Address  ...  Propertycount ntype\n",
              "0  Abbotsford       68 Studley St  ...           4019     0\n",
              "1  Abbotsford        85 Turner St  ...           4019     0\n",
              "2  Abbotsford     25 Bloomburg St  ...           4019     0\n",
              "3  Abbotsford  18/659 Victoria St  ...           4019     1\n",
              "4  Abbotsford        5 Charles St  ...           4019     0\n",
              "\n",
              "[5 rows x 22 columns]"
            ]
          },
          "metadata": {
            "tags": []
          },
          "execution_count": 9
        }
      ]
    },
    {
      "cell_type": "code",
      "metadata": {
        "id": "WKFs3Y-5QlA4",
        "colab_type": "code",
        "colab": {
          "base_uri": "https://localhost:8080/",
          "height": 408
        },
        "outputId": "60a32f4a-2d4e-4728-c8ef-a264c6ef47f8"
      },
      "source": [
        "(dataframe.isna().sum()/len(dataframe))*100#Conocer el porcentaje de valores nulos por columnas"
      ],
      "execution_count": 10,
      "outputs": [
        {
          "output_type": "execute_result",
          "data": {
            "text/plain": [
              "Suburb            0.000000\n",
              "Address           0.000000\n",
              "Rooms             0.000000\n",
              "Type              0.000000\n",
              "Price            22.301373\n",
              "Method            0.000000\n",
              "SellerG           0.000000\n",
              "Date              0.000000\n",
              "Distance          0.000000\n",
              "Postcode          0.000000\n",
              "Bedroom2         21.726891\n",
              "Bathroom         21.726891\n",
              "Car              21.726891\n",
              "Landsize         21.853277\n",
              "BuildingArea     57.930718\n",
              "YearBuilt        51.576952\n",
              "CouncilArea      21.864767\n",
              "Lattitude        21.083472\n",
              "Longtitude       21.083472\n",
              "Regionname        0.000000\n",
              "Propertycount     0.000000\n",
              "ntype             0.000000\n",
              "dtype: float64"
            ]
          },
          "metadata": {
            "tags": []
          },
          "execution_count": 10
        }
      ]
    },
    {
      "cell_type": "code",
      "metadata": {
        "id": "E7nbWYG0se_d",
        "colab_type": "code",
        "colab": {
          "base_uri": "https://localhost:8080/",
          "height": 408
        },
        "outputId": "a40c25d9-f090-4284-e9f4-994ffd2c9143"
      },
      "source": [
        "df2=dataframe.dropna()#Eliminar las filas con valores nulos\n",
        "df2.isnull().sum()"
      ],
      "execution_count": 11,
      "outputs": [
        {
          "output_type": "execute_result",
          "data": {
            "text/plain": [
              "Suburb           0\n",
              "Address          0\n",
              "Rooms            0\n",
              "Type             0\n",
              "Price            0\n",
              "Method           0\n",
              "SellerG          0\n",
              "Date             0\n",
              "Distance         0\n",
              "Postcode         0\n",
              "Bedroom2         0\n",
              "Bathroom         0\n",
              "Car              0\n",
              "Landsize         0\n",
              "BuildingArea     0\n",
              "YearBuilt        0\n",
              "CouncilArea      0\n",
              "Lattitude        0\n",
              "Longtitude       0\n",
              "Regionname       0\n",
              "Propertycount    0\n",
              "ntype            0\n",
              "dtype: int64"
            ]
          },
          "metadata": {
            "tags": []
          },
          "execution_count": 11
        }
      ]
    },
    {
      "cell_type": "code",
      "metadata": {
        "id": "WXCXnnHX9Rih",
        "colab_type": "code",
        "colab": {
          "base_uri": "https://localhost:8080/",
          "height": 313
        },
        "outputId": "530249f7-71d8-40c2-e72a-fe1b1fbc44ef"
      },
      "source": [
        "sns.distplot(df2['Price'],vertical=False,color='m')#Conocer la distribucion de la variable objetivo"
      ],
      "execution_count": 12,
      "outputs": [
        {
          "output_type": "execute_result",
          "data": {
            "text/plain": [
              "<matplotlib.axes._subplots.AxesSubplot at 0x7f509840b240>"
            ]
          },
          "metadata": {
            "tags": []
          },
          "execution_count": 12
        },
        {
          "output_type": "display_data",
          "data": {
            "image/png": "[encoded data removed]",
            "text/plain": [
              "<Figure size 432x288 with 1 Axes>"
            ]
          },
          "metadata": {
            "tags": [],
            "needs_background": "light"
          }
        }
      ]
    },
    {
      "cell_type": "code",
      "metadata": {
        "id": "rVSujxIc90VT",
        "colab_type": "code",
        "colab": {
          "base_uri": "https://localhost:8080/",
          "height": 404
        },
        "outputId": "3a8152e1-8b90-4c0d-e32b-5d8bb268f160"
      },
      "source": [
        "  '''Hay que aplicar normalizacion a esa variable ojetivo'''\n",
        "  df2['Price']=np.log(df2['Price'])\n",
        "  sns.distplot(df2['Price'],vertical=False,color='m')"
      ],
      "execution_count": 13,
      "outputs": [
        {
          "output_type": "stream",
          "text": [
            "/usr/local/lib/python3.6/dist-packages/ipykernel_launcher.py:2: SettingWithCopyWarning: \n",
            "A value is trying to be set on a copy of a slice from a DataFrame.\n",
            "Try using .loc[row_indexer,col_indexer] = value instead\n",
            "\n",
            "See the caveats in the documentation: https://pandas.pydata.org/pandas-docs/stable/user_guide/indexing.html#returning-a-view-versus-a-copy\n",
            "  \n"
          ],
          "name": "stderr"
        },
        {
          "output_type": "execute_result",
          "data": {
            "text/plain": [
              "<matplotlib.axes._subplots.AxesSubplot at 0x7f5096bd1fd0>"
            ]
          },
          "metadata": {
            "tags": []
          },
          "execution_count": 13
        },
        {
          "output_type": "display_data",
          "data": {
            "image/png": "[encoded data removed]",
            "text/plain": [
              "<Figure size 432x288 with 1 Axes>"
            ]
          },
          "metadata": {
            "tags": [],
            "needs_background": "light"
          }
        }
      ]
    },
    {
      "cell_type": "code",
      "metadata": {
        "id": "bzlE8z9hsypD",
        "colab_type": "code",
        "colab": {
          "base_uri": "https://localhost:8080/",
          "height": 535
        },
        "outputId": "934c83ac-f939-4282-e91b-1d58a9b7d372"
      },
      "source": [
        "#Conocer la relacion existente entre la region y el precio\n",
        "fig, ax=plt.subplots(figsize=(10,6))\n",
        "sns.violinplot(data=df2,x='Regionname',y='Price',ax=ax)\n",
        "ax.tick_params(labelrotation=90)"
      ],
      "execution_count": 14,
      "outputs": [
        {
          "output_type": "display_data",
          "data": {
            "image/png": "[encoded data removed]",
            "text/plain": [
              "<Figure size 720x432 with 1 Axes>"
            ]
          },
          "metadata": {
            "tags": [],
            "needs_background": "light"
          }
        }
      ]
    },
    {
      "cell_type": "code",
      "metadata": {
        "id": "pdW66HC3yJbe",
        "colab_type": "code",
        "colab": {
          "base_uri": "https://localhost:8080/",
          "height": 493
        },
        "outputId": "454d34ba-72a9-433b-d435-d243f0ebfa3f"
      },
      "source": [
        "fig, ax=plt.subplots(figsize=(15,6))\n",
        "sns.violinplot(data=df2,x='CouncilArea',y='Price',ax=ax)#Conocer la relacion existente entre El council area y el precio\n",
        "ax.tick_params(labelrotation=90)"
      ],
      "execution_count": 15,
      "outputs": [
        {
          "output_type": "display_data",
          "data": {
            "image/png": "[encoded data removed]",
            "text/plain": [
              "<Figure size 1080x432 with 1 Axes>"
            ]
          },
          "metadata": {
            "tags": [],
            "needs_background": "light"
          }
        }
      ]
    },
    {
      "cell_type": "code",
      "metadata": {
        "id": "9SVMmgBC-hsK",
        "colab_type": "code",
        "colab": {
          "base_uri": "https://localhost:8080/",
          "height": 683
        },
        "outputId": "07636270-3358-4b4e-b3e1-810a612abb60"
      },
      "source": [
        "corr=df2.corr()\n",
        "fig, ax= plt.subplots(figsize=(15,10))#Hallar correlacion entre las variables numericas\n",
        "sns.heatmap(data=corr,annot=True,cmap='coolwarm')"
      ],
      "execution_count": 16,
      "outputs": [
        {
          "output_type": "execute_result",
          "data": {
            "text/plain": [
              "<matplotlib.axes._subplots.AxesSubplot at 0x7f5096a2bdd8>"
            ]
          },
          "metadata": {
            "tags": []
          },
          "execution_count": 16
        },
        {
          "output_type": "display_data",
          "data": {
            "image/png": "[encoded data removed]",
            "text/plain": [
              "<Figure size 1080x720 with 2 Axes>"
            ]
          },
          "metadata": {
            "tags": [],
            "needs_background": "light"
          }
        }
      ]
    },
    {
      "cell_type": "code",
      "metadata": {
        "id": "_UwT1ZvMs35n",
        "colab_type": "code",
        "colab": {
          "base_uri": "https://localhost:8080/",
          "height": 513
        },
        "outputId": "ac6af1ca-71ae-4568-955e-52a5e73ed070"
      },
      "source": [
        "from sklearn.preprocessing import LabelEncoder\n",
        "le=LabelEncoder()\n",
        "df2['Regionname']=le.fit_transform(df2['Regionname'])\n",
        "df2['CouncilArea']=le.fit_transform(df2['CouncilArea'])#Transforma las variables categoricas\n",
        "df2.drop(axis='columns',columns=['Suburb','Address','Type','Method','SellerG','Date','Bedroom2'],inplace=True)#Eliminar columnas que no se necesitan\n",
        "df2.head()"
      ],
      "execution_count": 17,
      "outputs": [
        {
          "output_type": "stream",
          "text": [
            "/usr/local/lib/python3.6/dist-packages/ipykernel_launcher.py:3: SettingWithCopyWarning: \n",
            "A value is trying to be set on a copy of a slice from a DataFrame.\n",
            "Try using .loc[row_indexer,col_indexer] = value instead\n",
            "\n",
            "See the caveats in the documentation: https://pandas.pydata.org/pandas-docs/stable/user_guide/indexing.html#returning-a-view-versus-a-copy\n",
            "  This is separate from the ipykernel package so we can avoid doing imports until\n",
            "/usr/local/lib/python3.6/dist-packages/ipykernel_launcher.py:4: SettingWithCopyWarning: \n",
            "A value is trying to be set on a copy of a slice from a DataFrame.\n",
            "Try using .loc[row_indexer,col_indexer] = value instead\n",
            "\n",
            "See the caveats in the documentation: https://pandas.pydata.org/pandas-docs/stable/user_guide/indexing.html#returning-a-view-versus-a-copy\n",
            "  after removing the cwd from sys.path.\n",
            "/usr/local/lib/python3.6/dist-packages/pandas/core/frame.py:3997: SettingWithCopyWarning: \n",
            "A value is trying to be set on a copy of a slice from a DataFrame\n",
            "\n",
            "See the caveats in the documentation: https://pandas.pydata.org/pandas-docs/stable/user_guide/indexing.html#returning-a-view-versus-a-copy\n",
            "  errors=errors,\n"
          ],
          "name": "stderr"
        },
        {
          "output_type": "execute_result",
          "data": {
            "text/html": [
              "<div>\n",
              "<style scoped>\n",
              "    .dataframe tbody tr th:only-of-type {\n",
              "        vertical-align: middle;\n",
              "    }\n",
              "\n",
              "    .dataframe tbody tr th {\n",
              "        vertical-align: top;\n",
              "    }\n",
              "\n",
              "    .dataframe thead th {\n",
              "        text-align: right;\n",
              "    }\n",
              "</style>\n",
              "<table border=\"1\" class=\"dataframe\">\n",
              "  <thead>\n",
              "    <tr style=\"text-align: right;\">\n",
              "      <th></th>\n",
              "      <th>Rooms</th>\n",
              "      <th>Price</th>\n",
              "      <th>Distance</th>\n",
              "      <th>Postcode</th>\n",
              "      <th>Bathroom</th>\n",
              "      <th>Car</th>\n",
              "      <th>Landsize</th>\n",
              "      <th>BuildingArea</th>\n",
              "      <th>YearBuilt</th>\n",
              "      <th>CouncilArea</th>\n",
              "      <th>Lattitude</th>\n",
              "      <th>Longtitude</th>\n",
              "      <th>Regionname</th>\n",
              "      <th>Propertycount</th>\n",
              "      <th>ntype</th>\n",
              "    </tr>\n",
              "  </thead>\n",
              "  <tbody>\n",
              "    <tr>\n",
              "      <th>2</th>\n",
              "      <td>2</td>\n",
              "      <td>13.849912</td>\n",
              "      <td>2.5</td>\n",
              "      <td>3067</td>\n",
              "      <td>1.0</td>\n",
              "      <td>0.0</td>\n",
              "      <td>156.0</td>\n",
              "      <td>79.0</td>\n",
              "      <td>1900.0</td>\n",
              "      <td>29</td>\n",
              "      <td>-37.8079</td>\n",
              "      <td>144.9934</td>\n",
              "      <td>2</td>\n",
              "      <td>4019</td>\n",
              "      <td>0</td>\n",
              "    </tr>\n",
              "    <tr>\n",
              "      <th>4</th>\n",
              "      <td>3</td>\n",
              "      <td>14.197366</td>\n",
              "      <td>2.5</td>\n",
              "      <td>3067</td>\n",
              "      <td>2.0</td>\n",
              "      <td>0.0</td>\n",
              "      <td>134.0</td>\n",
              "      <td>150.0</td>\n",
              "      <td>1900.0</td>\n",
              "      <td>29</td>\n",
              "      <td>-37.8093</td>\n",
              "      <td>144.9944</td>\n",
              "      <td>2</td>\n",
              "      <td>4019</td>\n",
              "      <td>0</td>\n",
              "    </tr>\n",
              "    <tr>\n",
              "      <th>6</th>\n",
              "      <td>4</td>\n",
              "      <td>14.285514</td>\n",
              "      <td>2.5</td>\n",
              "      <td>3067</td>\n",
              "      <td>1.0</td>\n",
              "      <td>2.0</td>\n",
              "      <td>120.0</td>\n",
              "      <td>142.0</td>\n",
              "      <td>2014.0</td>\n",
              "      <td>29</td>\n",
              "      <td>-37.8072</td>\n",
              "      <td>144.9941</td>\n",
              "      <td>2</td>\n",
              "      <td>4019</td>\n",
              "      <td>0</td>\n",
              "    </tr>\n",
              "    <tr>\n",
              "      <th>11</th>\n",
              "      <td>3</td>\n",
              "      <td>14.444652</td>\n",
              "      <td>2.5</td>\n",
              "      <td>3067</td>\n",
              "      <td>2.0</td>\n",
              "      <td>0.0</td>\n",
              "      <td>245.0</td>\n",
              "      <td>210.0</td>\n",
              "      <td>1910.0</td>\n",
              "      <td>29</td>\n",
              "      <td>-37.8024</td>\n",
              "      <td>144.9993</td>\n",
              "      <td>2</td>\n",
              "      <td>4019</td>\n",
              "      <td>0</td>\n",
              "    </tr>\n",
              "    <tr>\n",
              "      <th>14</th>\n",
              "      <td>2</td>\n",
              "      <td>14.307765</td>\n",
              "      <td>2.5</td>\n",
              "      <td>3067</td>\n",
              "      <td>1.0</td>\n",
              "      <td>2.0</td>\n",
              "      <td>256.0</td>\n",
              "      <td>107.0</td>\n",
              "      <td>1890.0</td>\n",
              "      <td>29</td>\n",
              "      <td>-37.8060</td>\n",
              "      <td>144.9954</td>\n",
              "      <td>2</td>\n",
              "      <td>4019</td>\n",
              "      <td>0</td>\n",
              "    </tr>\n",
              "  </tbody>\n",
              "</table>\n",
              "</div>"
            ],
            "text/plain": [
              "    Rooms      Price  Distance  ...  Regionname  Propertycount  ntype\n",
              "2       2  13.849912       2.5  ...           2           4019      0\n",
              "4       3  14.197366       2.5  ...           2           4019      0\n",
              "6       4  14.285514       2.5  ...           2           4019      0\n",
              "11      3  14.444652       2.5  ...           2           4019      0\n",
              "14      2  14.307765       2.5  ...           2           4019      0\n",
              "\n",
              "[5 rows x 15 columns]"
            ]
          },
          "metadata": {
            "tags": []
          },
          "execution_count": 17
        }
      ]
    },
    {
      "cell_type": "code",
      "metadata": {
        "id": "ZL1SiOgTDlKV",
        "colab_type": "code",
        "colab": {
          "base_uri": "https://localhost:8080/",
          "height": 224
        },
        "outputId": "6a3ff74a-73a6-4358-9a38-186e0893d3fa"
      },
      "source": [
        "datos= df2.iloc[0:300]#Tomar solo 300 muestras para el train y el test\n",
        "datos.head()"
      ],
      "execution_count": 18,
      "outputs": [
        {
          "output_type": "execute_result",
          "data": {
            "text/html": [
              "<div>\n",
              "<style scoped>\n",
              "    .dataframe tbody tr th:only-of-type {\n",
              "        vertical-align: middle;\n",
              "    }\n",
              "\n",
              "    .dataframe tbody tr th {\n",
              "        vertical-align: top;\n",
              "    }\n",
              "\n",
              "    .dataframe thead th {\n",
              "        text-align: right;\n",
              "    }\n",
              "</style>\n",
              "<table border=\"1\" class=\"dataframe\">\n",
              "  <thead>\n",
              "    <tr style=\"text-align: right;\">\n",
              "      <th></th>\n",
              "      <th>Rooms</th>\n",
              "      <th>Price</th>\n",
              "      <th>Distance</th>\n",
              "      <th>Postcode</th>\n",
              "      <th>Bathroom</th>\n",
              "      <th>Car</th>\n",
              "      <th>Landsize</th>\n",
              "      <th>BuildingArea</th>\n",
              "      <th>YearBuilt</th>\n",
              "      <th>CouncilArea</th>\n",
              "      <th>Lattitude</th>\n",
              "      <th>Longtitude</th>\n",
              "      <th>Regionname</th>\n",
              "      <th>Propertycount</th>\n",
              "      <th>ntype</th>\n",
              "    </tr>\n",
              "  </thead>\n",
              "  <tbody>\n",
              "    <tr>\n",
              "      <th>2</th>\n",
              "      <td>2</td>\n",
              "      <td>13.849912</td>\n",
              "      <td>2.5</td>\n",
              "      <td>3067</td>\n",
              "      <td>1.0</td>\n",
              "      <td>0.0</td>\n",
              "      <td>156.0</td>\n",
              "      <td>79.0</td>\n",
              "      <td>1900.0</td>\n",
              "      <td>29</td>\n",
              "      <td>-37.8079</td>\n",
              "      <td>144.9934</td>\n",
              "      <td>2</td>\n",
              "      <td>4019</td>\n",
              "      <td>0</td>\n",
              "    </tr>\n",
              "    <tr>\n",
              "      <th>4</th>\n",
              "      <td>3</td>\n",
              "      <td>14.197366</td>\n",
              "      <td>2.5</td>\n",
              "      <td>3067</td>\n",
              "      <td>2.0</td>\n",
              "      <td>0.0</td>\n",
              "      <td>134.0</td>\n",
              "      <td>150.0</td>\n",
              "      <td>1900.0</td>\n",
              "      <td>29</td>\n",
              "      <td>-37.8093</td>\n",
              "      <td>144.9944</td>\n",
              "      <td>2</td>\n",
              "      <td>4019</td>\n",
              "      <td>0</td>\n",
              "    </tr>\n",
              "    <tr>\n",
              "      <th>6</th>\n",
              "      <td>4</td>\n",
              "      <td>14.285514</td>\n",
              "      <td>2.5</td>\n",
              "      <td>3067</td>\n",
              "      <td>1.0</td>\n",
              "      <td>2.0</td>\n",
              "      <td>120.0</td>\n",
              "      <td>142.0</td>\n",
              "      <td>2014.0</td>\n",
              "      <td>29</td>\n",
              "      <td>-37.8072</td>\n",
              "      <td>144.9941</td>\n",
              "      <td>2</td>\n",
              "      <td>4019</td>\n",
              "      <td>0</td>\n",
              "    </tr>\n",
              "    <tr>\n",
              "      <th>11</th>\n",
              "      <td>3</td>\n",
              "      <td>14.444652</td>\n",
              "      <td>2.5</td>\n",
              "      <td>3067</td>\n",
              "      <td>2.0</td>\n",
              "      <td>0.0</td>\n",
              "      <td>245.0</td>\n",
              "      <td>210.0</td>\n",
              "      <td>1910.0</td>\n",
              "      <td>29</td>\n",
              "      <td>-37.8024</td>\n",
              "      <td>144.9993</td>\n",
              "      <td>2</td>\n",
              "      <td>4019</td>\n",
              "      <td>0</td>\n",
              "    </tr>\n",
              "    <tr>\n",
              "      <th>14</th>\n",
              "      <td>2</td>\n",
              "      <td>14.307765</td>\n",
              "      <td>2.5</td>\n",
              "      <td>3067</td>\n",
              "      <td>1.0</td>\n",
              "      <td>2.0</td>\n",
              "      <td>256.0</td>\n",
              "      <td>107.0</td>\n",
              "      <td>1890.0</td>\n",
              "      <td>29</td>\n",
              "      <td>-37.8060</td>\n",
              "      <td>144.9954</td>\n",
              "      <td>2</td>\n",
              "      <td>4019</td>\n",
              "      <td>0</td>\n",
              "    </tr>\n",
              "  </tbody>\n",
              "</table>\n",
              "</div>"
            ],
            "text/plain": [
              "    Rooms      Price  Distance  ...  Regionname  Propertycount  ntype\n",
              "2       2  13.849912       2.5  ...           2           4019      0\n",
              "4       3  14.197366       2.5  ...           2           4019      0\n",
              "6       4  14.285514       2.5  ...           2           4019      0\n",
              "11      3  14.444652       2.5  ...           2           4019      0\n",
              "14      2  14.307765       2.5  ...           2           4019      0\n",
              "\n",
              "[5 rows x 15 columns]"
            ]
          },
          "metadata": {
            "tags": []
          },
          "execution_count": 18
        }
      ]
    },
    {
      "cell_type": "code",
      "metadata": {
        "id": "WlhBMD0t5vLN",
        "colab_type": "code",
        "colab": {}
      },
      "source": [
        "from sklearn.preprocessing import StandardScaler\n",
        "from sklearn.model_selection import train_test_split\n",
        "from sklearn.linear_model import LinearRegression\n",
        "X=datos.drop(axis='columns',columns=['Price'])#Separar las caracteristicas de la variable objetivo\n",
        "y=datos[['Price']]#Separar la variable objetivo\n",
        "X_train, X_test, y_train, y_test= train_test_split(X,y,test_size=0.2,random_state=42)#Separacion de los datos de entrenamiento y test"
      ],
      "execution_count": 19,
      "outputs": []
    },
    {
      "cell_type": "code",
      "metadata": {
        "id": "NCVdOx7A7Ru1",
        "colab_type": "code",
        "colab": {}
      },
      "source": [
        "from sklearn.pipeline import Pipeline\n",
        "model=Pipeline([('ss',StandardScaler()),\n",
        "                ('lr',LinearRegression())])#Modelo que normaliza los datos y aplica regression lineal"
      ],
      "execution_count": 20,
      "outputs": []
    },
    {
      "cell_type": "code",
      "metadata": {
        "id": "Ino-2kAh8BPC",
        "colab_type": "code",
        "colab": {
          "base_uri": "https://localhost:8080/",
          "height": 136
        },
        "outputId": "e14f6f8c-915d-415c-943d-159d638984dc"
      },
      "source": [
        "model.fit(X_train,y_train)"
      ],
      "execution_count": 22,
      "outputs": [
        {
          "output_type": "execute_result",
          "data": {
            "text/plain": [
              "Pipeline(memory=None,\n",
              "         steps=[('ss',\n",
              "                 StandardScaler(copy=True, with_mean=True, with_std=True)),\n",
              "                ('lr',\n",
              "                 LinearRegression(copy_X=True, fit_intercept=True, n_jobs=None,\n",
              "                                  normalize=False))],\n",
              "         verbose=False)"
            ]
          },
          "metadata": {
            "tags": []
          },
          "execution_count": 22
        }
      ]
    },
    {
      "cell_type": "code",
      "metadata": {
        "id": "VOXGUJ_P8BMb",
        "colab_type": "code",
        "colab": {
          "base_uri": "https://localhost:8080/",
          "height": 34
        },
        "outputId": "6bdcd9b5-29cc-4394-db1c-3dfb1bb7827e"
      },
      "source": [
        "print(f'El puntae r2 obtenido es{model.score(X_test,y_test):.3f}')"
      ],
      "execution_count": 26,
      "outputs": [
        {
          "output_type": "stream",
          "text": [
            "El puntae r2 obtenido es0.718\n"
          ],
          "name": "stdout"
        }
      ]
    },
    {
      "cell_type": "code",
      "metadata": {
        "id": "2IR9o2Ao8Yfl",
        "colab_type": "code",
        "colab": {
          "base_uri": "https://localhost:8080/",
          "height": 85
        },
        "outputId": "61a2b582-d439-4cd6-d6b2-f52b7a132494"
      },
      "source": [
        "model['lr'].intercept_, model['lr'].coef_#Intercepto y coeficientes obtenidos"
      ],
      "execution_count": 27,
      "outputs": [
        {
          "output_type": "execute_result",
          "data": {
            "text/plain": [
              "(array([13.86746917]),\n",
              " array([[ 0.14014568,  0.08611876,  0.43286272,  0.05258194,  0.04289019,\n",
              "          0.01493224,  0.15881374, -0.11661448, -0.03329628,  0.09180891,\n",
              "         -0.08433651, -0.23218131,  0.26041145, -0.06055189]]))"
            ]
          },
          "metadata": {
            "tags": []
          },
          "execution_count": 27
        }
      ]
    },
    {
      "cell_type": "code",
      "metadata": {
        "id": "bUVqNjENBhKO",
        "colab_type": "code",
        "colab": {
          "base_uri": "https://localhost:8080/",
          "height": 34
        },
        "outputId": "54d003bd-b207-4a83-9707-4d01682ca7d9"
      },
      "source": [
        "from sklearn import metrics\n",
        "y_pred=model.predict(X_test)\n",
        "error=metrics.mean_squared_error(y_test,y_pred)\n",
        "print(f'El error cuadratico medio obtenido es {error:.3f}')"
      ],
      "execution_count": 28,
      "outputs": [
        {
          "output_type": "stream",
          "text": [
            "El error cuadratico medio obtenido es 0.078\n"
          ],
          "name": "stdout"
        }
      ]
    },
    {
      "cell_type": "markdown",
      "metadata": {
        "id": "RA3oIIkCgyMf",
        "colab_type": "text"
      },
      "source": [
        "Polinomial"
      ]
    },
    {
      "cell_type": "code",
      "metadata": {
        "id": "iwvLYNbbgQB7",
        "colab_type": "code",
        "colab": {}
      },
      "source": [
        "from sklearn.preprocessing import PolynomialFeatures\n",
        "modelo2=Pipeline([('pol',PolynomialFeatures(2)),\n",
        "                  ('ss',StandardScaler()),\n",
        "                  ('lr', LinearRegression())])#Modelo polinomial para lograr mejorar el puntaje"
      ],
      "execution_count": 29,
      "outputs": []
    },
    {
      "cell_type": "code",
      "metadata": {
        "id": "3X_KhhD1gP_d",
        "colab_type": "code",
        "colab": {
          "base_uri": "https://localhost:8080/",
          "height": 187
        },
        "outputId": "db76ba70-10b0-4ac8-cdc6-1c03aede9210"
      },
      "source": [
        "modelo2.fit(X_train,y_train)"
      ],
      "execution_count": 30,
      "outputs": [
        {
          "output_type": "execute_result",
          "data": {
            "text/plain": [
              "Pipeline(memory=None,\n",
              "         steps=[('pol',\n",
              "                 PolynomialFeatures(degree=2, include_bias=True,\n",
              "                                    interaction_only=False, order='C')),\n",
              "                ('ss',\n",
              "                 StandardScaler(copy=True, with_mean=True, with_std=True)),\n",
              "                ('lr',\n",
              "                 LinearRegression(copy_X=True, fit_intercept=True, n_jobs=None,\n",
              "                                  normalize=False))],\n",
              "         verbose=False)"
            ]
          },
          "metadata": {
            "tags": []
          },
          "execution_count": 30
        }
      ]
    },
    {
      "cell_type": "code",
      "metadata": {
        "id": "bs0IzEB9cwwP",
        "colab_type": "code",
        "colab": {
          "base_uri": "https://localhost:8080/",
          "height": 34
        },
        "outputId": "4cd6f38b-1899-44f4-acfd-f71205b83923"
      },
      "source": [
        "print(f'El puntae r2 obtenido con la transformacion polinomial de segundo grado es {modelo2.score(X_test,y_test):.3f}')"
      ],
      "execution_count": 31,
      "outputs": [
        {
          "output_type": "stream",
          "text": [
            "El puntae r2 obtenido con la transformacion polinomial de segundo grado es 0.715\n"
          ],
          "name": "stdout"
        }
      ]
    },
    {
      "cell_type": "code",
      "metadata": {
        "id": "KGgQJXKkB_Kd",
        "colab_type": "code",
        "colab": {
          "base_uri": "https://localhost:8080/",
          "height": 34
        },
        "outputId": "42028c6d-0067-43dd-d709-d21006388318"
      },
      "source": [
        "y_pred=modelo2.predict(X_test)\n",
        "error=metrics.mean_squared_error(y_test,y_pred)\n",
        "print(f'El error cuadratico medio obtenido en este modelo es {error:.3f}')"
      ],
      "execution_count": 32,
      "outputs": [
        {
          "output_type": "stream",
          "text": [
            "El error cuadratico medio obtenido en este modelo es 0.079\n"
          ],
          "name": "stdout"
        }
      ]
    },
    {
      "cell_type": "markdown",
      "metadata": {
        "id": "SXMez8BuYjrM",
        "colab_type": "text"
      },
      "source": [
        "## Modelo aplicando gradiente estocastico SGD"
      ]
    },
    {
      "cell_type": "code",
      "metadata": {
        "id": "9CFmMg_pYjPw",
        "colab_type": "code",
        "colab": {}
      },
      "source": [
        "from sklearn.linear_model import SGDRegressor\n",
        "sgd=SGDRegressor(max_iter=100)\n",
        "modelo3=Pipeline([('ss',StandardScaler()),\n",
        "                  ('sgd', sgd)])"
      ],
      "execution_count": 33,
      "outputs": []
    },
    {
      "cell_type": "code",
      "metadata": {
        "id": "07-ul2awYjLv",
        "colab_type": "code",
        "colab": {
          "base_uri": "https://localhost:8080/",
          "height": 292
        },
        "outputId": "f67a869b-af0e-4ea0-aaaa-052291eb2c4b"
      },
      "source": [
        "modelo3.fit(X_train,y_train)"
      ],
      "execution_count": 34,
      "outputs": [
        {
          "output_type": "stream",
          "text": [
            "/usr/local/lib/python3.6/dist-packages/sklearn/utils/validation.py:760: DataConversionWarning: A column-vector y was passed when a 1d array was expected. Please change the shape of y to (n_samples, ), for example using ravel().\n",
            "  y = column_or_1d(y, warn=True)\n"
          ],
          "name": "stderr"
        },
        {
          "output_type": "execute_result",
          "data": {
            "text/plain": [
              "Pipeline(memory=None,\n",
              "         steps=[('ss',\n",
              "                 StandardScaler(copy=True, with_mean=True, with_std=True)),\n",
              "                ('sgd',\n",
              "                 SGDRegressor(alpha=0.0001, average=False, early_stopping=False,\n",
              "                              epsilon=0.1, eta0=0.01, fit_intercept=True,\n",
              "                              l1_ratio=0.15, learning_rate='invscaling',\n",
              "                              loss='squared_loss', max_iter=100,\n",
              "                              n_iter_no_change=5, penalty='l2', power_t=0.25,\n",
              "                              random_state=None, shuffle=True, tol=0.001,\n",
              "                              validation_fraction=0.1, verbose=0,\n",
              "                              warm_start=False))],\n",
              "         verbose=False)"
            ]
          },
          "metadata": {
            "tags": []
          },
          "execution_count": 34
        }
      ]
    },
    {
      "cell_type": "code",
      "metadata": {
        "id": "kyRbqdQLYjJv",
        "colab_type": "code",
        "colab": {
          "base_uri": "https://localhost:8080/",
          "height": 34
        },
        "outputId": "0819c9b7-9da6-4cf0-c64b-3e1591f85d11"
      },
      "source": [
        "print(f'El puntaje obtenido con el modelo SGD es {modelo3.score(X_test,y_test):.3f}')"
      ],
      "execution_count": 35,
      "outputs": [
        {
          "output_type": "stream",
          "text": [
            "El puntaje obtenido con el modelo SGD es 0.700\n"
          ],
          "name": "stdout"
        }
      ]
    },
    {
      "cell_type": "code",
      "metadata": {
        "id": "ACZPyqFrYjF8",
        "colab_type": "code",
        "colab": {
          "base_uri": "https://localhost:8080/",
          "height": 680
        },
        "outputId": "82a345ee-1740-45c3-8980-fde018f64b50"
      },
      "source": [
        "modelo3.get_params()"
      ],
      "execution_count": 36,
      "outputs": [
        {
          "output_type": "execute_result",
          "data": {
            "text/plain": [
              "{'memory': None,\n",
              " 'sgd': SGDRegressor(alpha=0.0001, average=False, early_stopping=False, epsilon=0.1,\n",
              "              eta0=0.01, fit_intercept=True, l1_ratio=0.15,\n",
              "              learning_rate='invscaling', loss='squared_loss', max_iter=100,\n",
              "              n_iter_no_change=5, penalty='l2', power_t=0.25, random_state=None,\n",
              "              shuffle=True, tol=0.001, validation_fraction=0.1, verbose=0,\n",
              "              warm_start=False),\n",
              " 'sgd__alpha': 0.0001,\n",
              " 'sgd__average': False,\n",
              " 'sgd__early_stopping': False,\n",
              " 'sgd__epsilon': 0.1,\n",
              " 'sgd__eta0': 0.01,\n",
              " 'sgd__fit_intercept': True,\n",
              " 'sgd__l1_ratio': 0.15,\n",
              " 'sgd__learning_rate': 'invscaling',\n",
              " 'sgd__loss': 'squared_loss',\n",
              " 'sgd__max_iter': 100,\n",
              " 'sgd__n_iter_no_change': 5,\n",
              " 'sgd__penalty': 'l2',\n",
              " 'sgd__power_t': 0.25,\n",
              " 'sgd__random_state': None,\n",
              " 'sgd__shuffle': True,\n",
              " 'sgd__tol': 0.001,\n",
              " 'sgd__validation_fraction': 0.1,\n",
              " 'sgd__verbose': 0,\n",
              " 'sgd__warm_start': False,\n",
              " 'ss': StandardScaler(copy=True, with_mean=True, with_std=True),\n",
              " 'ss__copy': True,\n",
              " 'ss__with_mean': True,\n",
              " 'ss__with_std': True,\n",
              " 'steps': [('ss', StandardScaler(copy=True, with_mean=True, with_std=True)),\n",
              "  ('sgd',\n",
              "   SGDRegressor(alpha=0.0001, average=False, early_stopping=False, epsilon=0.1,\n",
              "                eta0=0.01, fit_intercept=True, l1_ratio=0.15,\n",
              "                learning_rate='invscaling', loss='squared_loss', max_iter=100,\n",
              "                n_iter_no_change=5, penalty='l2', power_t=0.25, random_state=None,\n",
              "                shuffle=True, tol=0.001, validation_fraction=0.1, verbose=0,\n",
              "                warm_start=False))],\n",
              " 'verbose': False}"
            ]
          },
          "metadata": {
            "tags": []
          },
          "execution_count": 36
        }
      ]
    },
    {
      "cell_type": "code",
      "metadata": {
        "id": "RmUVK07ZdnX7",
        "colab_type": "code",
        "colab": {
          "base_uri": "https://localhost:8080/",
          "height": 34
        },
        "outputId": "a7b55d76-7478-4ae2-8671-c83c82b8c02a"
      },
      "source": [
        "y_pred=modelo3.predict(X_test)\n",
        "mse=metrics.mean_squared_error(y_test,y_pred)\n",
        "print(f'El error cuadratico medio obtenido en este modelo es {mse:.3f}')"
      ],
      "execution_count": 37,
      "outputs": [
        {
          "output_type": "stream",
          "text": [
            "El error cuadratico medio obtenido en este modelo es 0.083\n"
          ],
          "name": "stdout"
        }
      ]
    },
    {
      "cell_type": "markdown",
      "metadata": {
        "id": "YfeIVytBdzyo",
        "colab_type": "text"
      },
      "source": [
        "## Modelo Regularizado Ridge"
      ]
    },
    {
      "cell_type": "code",
      "metadata": {
        "id": "KP30R5i_dzYc",
        "colab_type": "code",
        "colab": {
          "base_uri": "https://localhost:8080/",
          "height": 340
        },
        "outputId": "159ba4fa-fe1c-42b7-8830-c0febc637eff"
      },
      "source": [
        "from sklearn.linear_model import Ridge\n",
        "modelo4=Pipeline([('ss',StandardScaler()),\n",
        "                  ('ridge', Ridge())])\n",
        "modelo4.get_params()"
      ],
      "execution_count": 38,
      "outputs": [
        {
          "output_type": "execute_result",
          "data": {
            "text/plain": [
              "{'memory': None,\n",
              " 'ridge': Ridge(alpha=1.0, copy_X=True, fit_intercept=True, max_iter=None,\n",
              "       normalize=False, random_state=None, solver='auto', tol=0.001),\n",
              " 'ridge__alpha': 1.0,\n",
              " 'ridge__copy_X': True,\n",
              " 'ridge__fit_intercept': True,\n",
              " 'ridge__max_iter': None,\n",
              " 'ridge__normalize': False,\n",
              " 'ridge__random_state': None,\n",
              " 'ridge__solver': 'auto',\n",
              " 'ridge__tol': 0.001,\n",
              " 'ss': StandardScaler(copy=True, with_mean=True, with_std=True),\n",
              " 'ss__copy': True,\n",
              " 'ss__with_mean': True,\n",
              " 'ss__with_std': True,\n",
              " 'steps': [('ss', StandardScaler(copy=True, with_mean=True, with_std=True)),\n",
              "  ('ridge', Ridge(alpha=1.0, copy_X=True, fit_intercept=True, max_iter=None,\n",
              "         normalize=False, random_state=None, solver='auto', tol=0.001))],\n",
              " 'verbose': False}"
            ]
          },
          "metadata": {
            "tags": []
          },
          "execution_count": 38
        }
      ]
    },
    {
      "cell_type": "code",
      "metadata": {
        "id": "mAC_LfiNdzEt",
        "colab_type": "code",
        "colab": {
          "base_uri": "https://localhost:8080/",
          "height": 153
        },
        "outputId": "fa46d404-4de1-4ae6-fdab-830d883570a9"
      },
      "source": [
        "modelo4.fit(X_train,y_train)"
      ],
      "execution_count": 39,
      "outputs": [
        {
          "output_type": "execute_result",
          "data": {
            "text/plain": [
              "Pipeline(memory=None,\n",
              "         steps=[('ss',\n",
              "                 StandardScaler(copy=True, with_mean=True, with_std=True)),\n",
              "                ('ridge',\n",
              "                 Ridge(alpha=1.0, copy_X=True, fit_intercept=True,\n",
              "                       max_iter=None, normalize=False, random_state=None,\n",
              "                       solver='auto', tol=0.001))],\n",
              "         verbose=False)"
            ]
          },
          "metadata": {
            "tags": []
          },
          "execution_count": 39
        }
      ]
    },
    {
      "cell_type": "code",
      "metadata": {
        "id": "8MgkZx8Rdy-W",
        "colab_type": "code",
        "colab": {
          "base_uri": "https://localhost:8080/",
          "height": 34
        },
        "outputId": "b2c53024-0119-4bea-d17a-4c09d45b5f86"
      },
      "source": [
        "modelo4.score(X_test,y_test)"
      ],
      "execution_count": 40,
      "outputs": [
        {
          "output_type": "execute_result",
          "data": {
            "text/plain": [
              "0.7182723813180515"
            ]
          },
          "metadata": {
            "tags": []
          },
          "execution_count": 40
        }
      ]
    },
    {
      "cell_type": "code",
      "metadata": {
        "id": "nL2AsQgPdy6C",
        "colab_type": "code",
        "colab": {}
      },
      "source": [
        "y_pred=modelo4.predict(X_train)"
      ],
      "execution_count": 41,
      "outputs": []
    }
  ]
}